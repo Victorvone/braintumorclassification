{
 "cells": [
  {
   "cell_type": "code",
   "execution_count": 62,
   "id": "7fa393a1",
   "metadata": {},
   "outputs": [],
   "source": [
    "import os\n",
    "import sklearn\n",
    "import numpy as np\n",
    "import pandas as pd\n",
    "import cv2\n",
    "from matplotlib import pyplot as plt\n"
   ]
  },
  {
   "cell_type": "code",
   "execution_count": 63,
   "id": "ba0f2c59",
   "metadata": {},
   "outputs": [
    {
     "data": {
      "text/plain": [
       "'/home/ivana/code/Victorvone/braintumorclassification/notebooks'"
      ]
     },
     "execution_count": 63,
     "metadata": {},
     "output_type": "execute_result"
    }
   ],
   "source": [
    "os.getcwd()"
   ]
  },
  {
   "cell_type": "code",
   "execution_count": 68,
   "id": "18d526c0",
   "metadata": {},
   "outputs": [
    {
     "name": "stdout",
     "output_type": "stream",
     "text": [
      "Loading complete for training and testing dataset\n"
     ]
    },
    {
     "data": {
      "image/png": "[encoded data removed]",
      "text/plain": [
       "<Figure size 1000x400 with 4 Axes>"
      ]
     },
     "metadata": {},
     "output_type": "display_data"
    }
   ],
   "source": [
    "LOCATION = \"../raw_data/\"\n",
    "TYPE = [\"glioma_tumor\", \"meningioma_tumor\", \"no_tumor\", \"pituitary_tumor\"]\n",
    "\n",
    "# Constants\n",
    "IMAGE_SIZE = 160\n",
    "BATCH_SIZE = 11\n",
    "VERBOSE = 1\n",
    "\n",
    "# Loading Training Datasets from folders\n",
    "x_train = []\n",
    "y_train = []\n",
    "for i in TYPE:\n",
    "    path = os.path.join(os.path.join(LOCATION, \"Training\"), i)\n",
    "    for j in os.listdir(path):\n",
    "        \n",
    "        if not os.path.isfile('Training'):\n",
    "            continue\n",
    "\n",
    "        \n",
    "        img = cv2.imread(os.path.join(path, j))\n",
    "        \n",
    "        img = cv2.resize(img, (IMAGE_SIZE, IMAGE_SIZE), interpolation=cv2.INTER_AREA)\n",
    "\n",
    "\n",
    "\n",
    "        x_train.append(img)\n",
    "        y_train.append(i)\n",
    "\n",
    "for m in TYPE:\n",
    "    path = os.path.join(os.path.join(LOCATION, \"Testing\"), i)\n",
    "    for n in os.listdir(path):\n",
    "        if not os.path.isfile('Testing'):\n",
    "            continue\n",
    "        img = cv2.imread(os.path.join(path, n))\n",
    "        img = cv2.resize(img, (IMAGE_SIZE, IMAGE_SIZE))\n",
    "        x_train.append(img)\n",
    "        y_train.append(m)\n",
    "        \n",
    "print(\"Loading complete for training and testing dataset\")\n",
    "x_train = np.array(x_train)\n",
    "y_train = np.array(y_train)\n",
    "# x_train, y_train = sklearn.utils.shuffle(x_train, y_train, random_state=0)\n",
    "\n",
    "\n",
    "# Plotting a sample image from each class in a subplot grid of 4\n",
    "fig, ax = plt.subplots(nrows=1, ncols=4, figsize=(10, 4))\n",
    "for i, class_name in enumerate(TYPE):\n",
    "    for j in range(len(y_train)):\n",
    "        if y_train[j] == class_name:\n",
    "            ax[i].imshow(x_train[j])\n",
    "            ax[i].set_title(class_name)\n",
    "            break\n",
    "plt.tight_layout()\n",
    "plt.show()\n"
   ]
  },
  {
   "cell_type": "code",
   "execution_count": 65,
   "id": "b54bdc4b",
   "metadata": {},
   "outputs": [
    {
     "name": "stdout",
     "output_type": "stream",
     "text": [
      "../raw_data/Testing/pituitary_tumor\n"
     ]
    }
   ],
   "source": [
    "print(path)"
   ]
  },
  {
   "cell_type": "code",
   "execution_count": 67,
   "id": "42698968",
   "metadata": {},
   "outputs": [
    {
     "data": {
      "text/plain": [
       "(0,)"
      ]
     },
     "execution_count": 67,
     "metadata": {},
     "output_type": "execute_result"
    }
   ],
   "source": [
    "x_train.shape"
   ]
  },
  {
   "cell_type": "code",
   "execution_count": null,
   "id": "7c793c18",
   "metadata": {},
   "outputs": [],
   "source": []
  }
 ],
 "metadata": {
  "kernelspec": {
   "display_name": "Python 3 (ipykernel)",
   "language": "python",
   "name": "python3"
  },
  "language_info": {
   "codemirror_mode": {
    "name": "ipython",
    "version": 3
   },
   "file_extension": ".py",
   "mimetype": "text/x-python",
   "name": "python",
   "nbconvert_exporter": "python",
   "pygments_lexer": "ipython3",
   "version": "3.10.6"
  },
  "toc": {
   "base_numbering": 1,
   "nav_menu": {},
   "number_sections": true,
   "sideBar": true,
   "skip_h1_title": false,
   "title_cell": "Table of Contents",
   "title_sidebar": "Contents",
   "toc_cell": false,
   "toc_position": {},
   "toc_section_display": true,
   "toc_window_display": false
  }
 },
 "nbformat": 4,
 "nbformat_minor": 5
}
