{
  "cells": [
    {
      "cell_type": "code",
      "execution_count": 4,
      "metadata": {
        "colab": {
          "base_uri": "https://localhost:8080/"
        },
        "id": "eyCZRnkwkXj6",
        "outputId": "a22c1c15-3189-4f29-9bf7-5e5d1040ef9d"
      },
      "outputs": [
        {
          "name": "stdout",
          "output_type": "stream",
          "text": [
            "Drive already mounted at /content/drive; to attempt to forcibly remount, call drive.mount(\"/content/drive\", force_remount=True).\n"
          ]
        }
      ],
      "source": [
        "from google.colab import drive\n",
        "drive.mount('/content/drive')\n",
        "import matplotlib.pyplot as plt"
      ]
    },
    {
      "cell_type": "code",
      "execution_count": 2,
      "metadata": {
        "id": "WIPToWMmsqG-"
      },
      "outputs": [
        {
          "name": "stderr",
          "output_type": "stream",
          "text": [
            "2023-03-11 16:45:59.507216: I tensorflow/core/platform/cpu_feature_guard.cc:193] This TensorFlow binary is optimized with oneAPI Deep Neural Network Library (oneDNN) to use the following CPU instructions in performance-critical operations:  AVX2 FMA\n",
            "To enable them in other operations, rebuild TensorFlow with the appropriate compiler flags.\n"
          ]
        }
      ],
      "source": [
        "import os\n",
        "import numpy as np\n",
        "import cv2\n",
        "from google.cloud import storage\n",
        "from tensorflow.keras.utils import image_dataset_from_directory\n"
      ]
    },
    {
      "cell_type": "code",
      "execution_count": 8,
      "metadata": {
        "id": "uVYGZxadkkcj"
      },
      "outputs": [],
      "source": [
        "directory = '/content/drive/My Drive/Colab Notebooks/raw_data'\n",
        "training_directory = f'{directory}/Training'\n",
        "testing_directory = f'{directory}/Testing'"
      ]
    },
    {
      "cell_type": "code",
      "execution_count": 4,
      "metadata": {
        "colab": {
          "base_uri": "https://localhost:8080/"
        },
        "id": "jpxoTImevFkf",
        "outputId": "14a67253-2d59-4cf7-946b-243c70245955"
      },
      "outputs": [
        {
          "name": "stdout",
          "output_type": "stream",
          "text": [
            "Found 7681 files belonging to 4 classes.\n",
            "Using 6145 files for training.\n",
            "Using 1536 files for validation.\n"
          ]
        },
        {
          "name": "stderr",
          "output_type": "stream",
          "text": [
            "2023-03-11 16:47:19.244063: I tensorflow/core/platform/cpu_feature_guard.cc:193] This TensorFlow binary is optimized with oneAPI Deep Neural Network Library (oneDNN) to use the following CPU instructions in performance-critical operations:  AVX2 FMA\n",
            "To enable them in other operations, rebuild TensorFlow with the appropriate compiler flags.\n"
          ]
        },
        {
          "name": "stdout",
          "output_type": "stream",
          "text": [
            "Found 7681 files belonging to 4 classes.\n"
          ]
        }
      ],
      "source": [
        "train_ds, val_ds = image_dataset_from_directory(\n",
        "  '/Users/victorvoneisenhart-rothe/code/Victorvone/braintumorclassification/braintumorclassification/raw_data/Training/',\n",
        "  labels = \"inferred\",\n",
        "  label_mode = \"categorical\",\n",
        "  seed=123,\n",
        "  image_size=(255, 255),\n",
        "  validation_split = 0.2,\n",
        "  subset=\"both\",\n",
        "  color_mode = 'rgb',\n",
        "  batch_size= 64)\n",
        "\n",
        "test_ds = image_dataset_from_directory(\n",
        "  '/Users/victorvoneisenhart-rothe/code/Victorvone/braintumorclassification/braintumorclassification/raw_data/Training/',\n",
        "  labels = \"inferred\",\n",
        "  label_mode = \"categorical\",\n",
        "  seed=123,\n",
        "  image_size=(255, 255),\n",
        "  color_mode = 'rgb',\n",
        "  batch_size= 64)"
      ]
    },
    {
      "cell_type": "code",
      "execution_count": 10,
      "metadata": {
        "colab": {
          "base_uri": "https://localhost:8080/"
        },
        "id": "1WNmhwkxv_D-",
        "outputId": "3abf0e36-98c6-4bf3-ece1-38b93aece354"
      },
      "outputs": [
        {
          "data": {
            "text/plain": [
              "<tf.Tensor: shape=(), dtype=int64, numpy=97>"
            ]
          },
          "execution_count": 10,
          "metadata": {},
          "output_type": "execute_result"
        }
      ],
      "source": [
        "train_ds.__len__()"
      ]
    },
    {
      "cell_type": "code",
      "execution_count": 32,
      "metadata": {
        "id": "3xlKVn_WjqvZ"
      },
      "outputs": [],
      "source": [
        "from tensorflow.keras.applications import EfficientNetV2B3\n",
        "from tensorflow.keras import layers, Sequential\n"
      ]
    },
    {
      "cell_type": "code",
      "execution_count": 33,
      "metadata": {
        "colab": {
          "base_uri": "https://localhost:8080/"
        },
        "id": "FLiKYzcrqdNX",
        "outputId": "733c4c2c-dd28-4c09-a895-18e46af76167"
      },
      "outputs": [
        {
          "name": "stdout",
          "output_type": "stream",
          "text": [
            "Downloading data from https://storage.googleapis.com/tensorflow/keras-applications/efficientnet_v2/efficientnetv2-b3_notop.h5\n",
            "52606240/52606240 [==============================] - 0s 0us/step\n",
            "Model: \"sequential_4\"\n",
            "_________________________________________________________________\n",
            " Layer (type)                Output Shape              Param #   \n",
            "=================================================================\n",
            " efficientnetv2-b3 (Function  (None, 1536)             12930622  \n",
            " al)                                                             \n",
            "                                                                 \n",
            " flatten_4 (Flatten)         (None, 1536)              0         \n",
            "                                                                 \n",
            " dense_9 (Dense)             (None, 64)                98368     \n",
            "                                                                 \n",
            " dropout_8 (Dropout)         (None, 64)                0         \n",
            "                                                                 \n",
            " dense_10 (Dense)            (None, 4)                 260       \n",
            "                                                                 \n",
            "=================================================================\n",
            "Total params: 13,029,250\n",
            "Trainable params: 98,628\n",
            "Non-trainable params: 12,930,622\n",
            "_________________________________________________________________\n"
          ]
        }
      ],
      "source": [
        "\n",
        "base_model = EfficientNetV2B3(include_top=False,\n",
        "                       weights='imagenet',\n",
        "                       input_shape=(255,255,3),\n",
        "                       pooling='max',\n",
        "                       include_preprocessing=True) \n",
        "\n",
        "model = Sequential()\n",
        "model.add(base_model)\n",
        "model.add(layers.Flatten())\n",
        "# model.add(layers.Dropout(0.3))\n",
        "# model.add(layers.Dense(128, activation='relu'))\n",
        "# model.add(layers.Dropout(0.3))\n",
        "model.add(layers.Dense(64, activation = 'relu'))\n",
        "model.add(layers.Dropout(0.3))\n",
        "model.add(layers.Dense(4, activation='softmax'))\n",
        "\n",
        "base_model.trainable = False\n",
        "\n",
        "model.summary()\n",
        "\n",
        "model.compile(loss='categorical_crossentropy', \n",
        "              optimizer='adam',\n",
        "              metrics=['accuracy'])"
      ]
    },
    {
      "cell_type": "code",
      "execution_count": 34,
      "metadata": {
        "colab": {
          "base_uri": "https://localhost:8080/"
        },
        "id": "l4xTb6N-jtIj",
        "outputId": "ebda1f9d-923f-4173-d784-fadca55b8b2f"
      },
      "outputs": [
        {
          "name": "stdout",
          "output_type": "stream",
          "text": [
            "Epoch 1/100\n",
            "36/36 [==============================] - 33s 488ms/step - loss: 2.0508 - accuracy: 0.3746 - val_loss: 1.0921 - val_accuracy: 0.5279\n",
            "Epoch 2/100\n",
            "36/36 [==============================] - 13s 317ms/step - loss: 1.1222 - accuracy: 0.4839 - val_loss: 0.8809 - val_accuracy: 0.6307\n",
            "Epoch 3/100\n",
            "36/36 [==============================] - 15s 394ms/step - loss: 0.9600 - accuracy: 0.5828 - val_loss: 0.7410 - val_accuracy: 0.7178\n",
            "Epoch 4/100\n",
            "36/36 [==============================] - 15s 381ms/step - loss: 0.8852 - accuracy: 0.6106 - val_loss: 0.6858 - val_accuracy: 0.7334\n",
            "Epoch 5/100\n",
            "36/36 [==============================] - 13s 314ms/step - loss: 0.8293 - accuracy: 0.6341 - val_loss: 0.5794 - val_accuracy: 0.7770\n",
            "Epoch 6/100\n",
            "36/36 [==============================] - 13s 320ms/step - loss: 0.7444 - accuracy: 0.6847 - val_loss: 0.5095 - val_accuracy: 0.8031\n",
            "Epoch 7/100\n",
            "36/36 [==============================] - 13s 320ms/step - loss: 0.6855 - accuracy: 0.6969 - val_loss: 0.4853 - val_accuracy: 0.8188\n",
            "Epoch 8/100\n",
            "36/36 [==============================] - 13s 318ms/step - loss: 0.6625 - accuracy: 0.7199 - val_loss: 0.4811 - val_accuracy: 0.8397\n",
            "Epoch 9/100\n",
            "36/36 [==============================] - 14s 337ms/step - loss: 0.6360 - accuracy: 0.7234 - val_loss: 0.4328 - val_accuracy: 0.8484\n",
            "Epoch 10/100\n",
            "36/36 [==============================] - 13s 340ms/step - loss: 0.6334 - accuracy: 0.7300 - val_loss: 0.4390 - val_accuracy: 0.8449\n",
            "Epoch 11/100\n",
            "36/36 [==============================] - 13s 311ms/step - loss: 0.6085 - accuracy: 0.7269 - val_loss: 0.4140 - val_accuracy: 0.8554\n",
            "Epoch 12/100\n",
            "36/36 [==============================] - 13s 316ms/step - loss: 0.6016 - accuracy: 0.7313 - val_loss: 0.4029 - val_accuracy: 0.8763\n",
            "Epoch 13/100\n",
            "36/36 [==============================] - 13s 315ms/step - loss: 0.5770 - accuracy: 0.7452 - val_loss: 0.3764 - val_accuracy: 0.8746\n",
            "Epoch 14/100\n",
            "36/36 [==============================] - 14s 363ms/step - loss: 0.5597 - accuracy: 0.7548 - val_loss: 0.3519 - val_accuracy: 0.8746\n",
            "Epoch 15/100\n",
            "36/36 [==============================] - 12s 310ms/step - loss: 0.5655 - accuracy: 0.7517 - val_loss: 0.3868 - val_accuracy: 0.8606\n",
            "Epoch 16/100\n",
            "36/36 [==============================] - 12s 302ms/step - loss: 0.5438 - accuracy: 0.7674 - val_loss: 0.3421 - val_accuracy: 0.8885\n",
            "Epoch 17/100\n",
            "36/36 [==============================] - 13s 324ms/step - loss: 0.5180 - accuracy: 0.7726 - val_loss: 0.3461 - val_accuracy: 0.8746\n",
            "Epoch 18/100\n",
            "36/36 [==============================] - 13s 314ms/step - loss: 0.5426 - accuracy: 0.7591 - val_loss: 0.3319 - val_accuracy: 0.8868\n",
            "Epoch 19/100\n",
            "36/36 [==============================] - 15s 373ms/step - loss: 0.5230 - accuracy: 0.7726 - val_loss: 0.3549 - val_accuracy: 0.8920\n",
            "Epoch 20/100\n",
            "36/36 [==============================] - 12s 304ms/step - loss: 0.5188 - accuracy: 0.7674 - val_loss: 0.3521 - val_accuracy: 0.8676\n",
            "Epoch 21/100\n",
            "36/36 [==============================] - 12s 306ms/step - loss: 0.5220 - accuracy: 0.7705 - val_loss: 0.3140 - val_accuracy: 0.8850\n",
            "Epoch 22/100\n",
            "36/36 [==============================] - 15s 372ms/step - loss: 0.5032 - accuracy: 0.7835 - val_loss: 0.3290 - val_accuracy: 0.8902\n",
            "Epoch 23/100\n",
            "36/36 [==============================] - 12s 311ms/step - loss: 0.5064 - accuracy: 0.7735 - val_loss: 0.2936 - val_accuracy: 0.8972\n",
            "Epoch 24/100\n",
            "36/36 [==============================] - 15s 373ms/step - loss: 0.4866 - accuracy: 0.7796 - val_loss: 0.2992 - val_accuracy: 0.8955\n",
            "Epoch 25/100\n",
            "36/36 [==============================] - 13s 316ms/step - loss: 0.4768 - accuracy: 0.7835 - val_loss: 0.3268 - val_accuracy: 0.8641\n",
            "Epoch 26/100\n",
            "36/36 [==============================] - 12s 309ms/step - loss: 0.4754 - accuracy: 0.7857 - val_loss: 0.2838 - val_accuracy: 0.9024\n",
            "Epoch 27/100\n",
            "36/36 [==============================] - 12s 304ms/step - loss: 0.4949 - accuracy: 0.7779 - val_loss: 0.2802 - val_accuracy: 0.9024\n",
            "Epoch 28/100\n",
            "36/36 [==============================] - 12s 296ms/step - loss: 0.4723 - accuracy: 0.7983 - val_loss: 0.3232 - val_accuracy: 0.8850\n",
            "Epoch 29/100\n",
            "36/36 [==============================] - 12s 296ms/step - loss: 0.4682 - accuracy: 0.7835 - val_loss: 0.2728 - val_accuracy: 0.8990\n",
            "Epoch 30/100\n",
            "36/36 [==============================] - 12s 301ms/step - loss: 0.4807 - accuracy: 0.7979 - val_loss: 0.3244 - val_accuracy: 0.8850\n",
            "Epoch 31/100\n",
            "36/36 [==============================] - 12s 290ms/step - loss: 0.4627 - accuracy: 0.8057 - val_loss: 0.2941 - val_accuracy: 0.8885\n",
            "Epoch 32/100\n",
            "36/36 [==============================] - 12s 301ms/step - loss: 0.4397 - accuracy: 0.8162 - val_loss: 0.3006 - val_accuracy: 0.8798\n",
            "Epoch 33/100\n",
            "36/36 [==============================] - 12s 299ms/step - loss: 0.4479 - accuracy: 0.8136 - val_loss: 0.3079 - val_accuracy: 0.8815\n",
            "Epoch 34/100\n",
            "36/36 [==============================] - 13s 313ms/step - loss: 0.4426 - accuracy: 0.8127 - val_loss: 0.2808 - val_accuracy: 0.8972\n"
          ]
        },
        {
          "data": {
            "text/plain": [
              "<keras.callbacks.History at 0x7f2c610a9130>"
            ]
          },
          "execution_count": 34,
          "metadata": {},
          "output_type": "execute_result"
        }
      ],
      "source": [
        "from tensorflow.keras import callbacks\n",
        "\n",
        "es = callbacks.EarlyStopping(patience=5, restore_best_weights=True)\n",
        "\n",
        "model.fit(train_ds,\n",
        "          validation_data=val_ds,\n",
        "          batch_size=64, \n",
        "          epochs=100,\n",
        "          callbacks=[es],\n",
        "          verbose=1)"
      ]
    },
    {
      "cell_type": "code",
      "execution_count": 35,
      "metadata": {
        "colab": {
          "base_uri": "https://localhost:8080/"
        },
        "id": "9T1AzQXUpnV2",
        "outputId": "1bb2cd28-5253-446d-e41a-063331aad810"
      },
      "outputs": [
        {
          "name": "stdout",
          "output_type": "stream",
          "text": [
            "7/7 [==============================] - 3s 266ms/step - loss: 0.8453 - accuracy: 0.7208\n"
          ]
        },
        {
          "data": {
            "text/plain": [
              "[0.8452864289283752, 0.720812201499939]"
            ]
          },
          "execution_count": 35,
          "metadata": {},
          "output_type": "execute_result"
        }
      ],
      "source": [
        "model.evaluate(test_ds)"
      ]
    },
    {
      "cell_type": "code",
      "execution_count": null,
      "metadata": {
        "id": "nShUUOds4IAk"
      },
      "outputs": [],
      "source": []
    }
  ],
  "metadata": {
    "accelerator": "GPU",
    "colab": {
      "provenance": []
    },
    "gpuClass": "standard",
    "kernelspec": {
      "display_name": "braintumorclassification",
      "language": "python",
      "name": "python3"
    },
    "language_info": {
      "codemirror_mode": {
        "name": "ipython",
        "version": 3
      },
      "file_extension": ".py",
      "mimetype": "text/x-python",
      "name": "python",
      "nbconvert_exporter": "python",
      "pygments_lexer": "ipython3",
      "version": "3.10.6"
    },
    "vscode": {
      "interpreter": {
        "hash": "06a116bea194c38c3beee2e26e0ff47698ac712b531f8a3710340a8261e96cf5"
      }
    }
  },
  "nbformat": 4,
  "nbformat_minor": 0
}
