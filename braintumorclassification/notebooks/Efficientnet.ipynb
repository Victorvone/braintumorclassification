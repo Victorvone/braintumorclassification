{
  "nbformat": 4,
  "nbformat_minor": 0,
  "metadata": {
    "colab": {
      "provenance": []
    },
    "kernelspec": {
      "name": "python3",
      "display_name": "Python 3"
    },
    "language_info": {
      "name": "python"
    },
    "accelerator": "GPU",
    "gpuClass": "standard"
  },
  "cells": [
    {
      "cell_type": "code",
      "execution_count": 3,
      "metadata": {
        "colab": {
          "base_uri": "https://localhost:8080/"
        },
        "id": "eyCZRnkwkXj6",
        "outputId": "524b2e7f-0ec0-4a01-a537-6ce3b53d09ba"
      },
      "outputs": [
        {
          "output_type": "stream",
          "name": "stdout",
          "text": [
            "Mounted at /content/drive\n"
          ]
        }
      ],
      "source": [
        "from google.colab import drive\n",
        "drive.mount('/content/drive')\n",
        "import matplotlib.pyplot as plta"
      ]
    },
    {
      "cell_type": "code",
      "source": [
        "import os\n",
        "os.chdir('drive/MyDrive/')"
      ],
      "metadata": {
        "id": "ecX-Dl8ww8BJ"
      },
      "execution_count": 4,
      "outputs": []
    },
    {
      "cell_type": "code",
      "source": [
        "import os\n",
        "import numpy as np\n",
        "import cv2\n",
        "from google.cloud import storage\n",
        "from tensorflow.keras.utils import image_dataset_from_directory\n"
      ],
      "metadata": {
        "id": "WIPToWMmsqG-"
      },
      "execution_count": 5,
      "outputs": []
    },
    {
      "cell_type": "code",
      "source": [
        "directory = 'r_data'\n",
        "training_directory = f'{directory}/Training'\n",
        "testing_directory = f'{directory}/Testing'"
      ],
      "metadata": {
        "id": "uVYGZxadkkcj"
      },
      "execution_count": 6,
      "outputs": []
    },
    {
      "cell_type": "code",
      "source": [
        "train_ds, val_ds = image_dataset_from_directory(\n",
        "  training_directory,\n",
        "  labels = \"inferred\",\n",
        "  label_mode = \"categorical\",\n",
        "  seed=123,\n",
        "  image_size=(255, 255),\n",
        "  validation_split = 0.2,\n",
        "  subset=\"both\",\n",
        "  color_mode = 'rgb',\n",
        "  batch_size= 64)\n",
        "\n",
        "test_ds = image_dataset_from_directory(\n",
        "  testing_directory,\n",
        "  labels = \"inferred\",\n",
        "  label_mode = \"categorical\",\n",
        "  seed=123,\n",
        "  image_size=(255, 255),\n",
        "  color_mode = 'rgb',\n",
        "  batch_size= 64)"
      ],
      "metadata": {
        "colab": {
          "base_uri": "https://localhost:8080/"
        },
        "id": "jpxoTImevFkf",
        "outputId": "d827fe59-f208-4ecd-9f32-a30aca08a813"
      },
      "execution_count": 7,
      "outputs": [
        {
          "output_type": "stream",
          "name": "stdout",
          "text": [
            "Found 5712 files belonging to 4 classes.\n",
            "Using 4570 files for training.\n",
            "Using 1142 files for validation.\n",
            "Found 1311 files belonging to 4 classes.\n"
          ]
        }
      ]
    },
    {
      "cell_type": "code",
      "source": [
        "class_names = train_ds.class_names\n",
        "class_names"
      ],
      "metadata": {
        "colab": {
          "base_uri": "https://localhost:8080/"
        },
        "id": "1WNmhwkxv_D-",
        "outputId": "a10d0fb8-4924-4042-e5d5-13af428b124c"
      },
      "execution_count": 8,
      "outputs": [
        {
          "output_type": "execute_result",
          "data": {
            "text/plain": [
              "['glioma', 'meningioma', 'notumor', 'pituitary']"
            ]
          },
          "metadata": {},
          "execution_count": 8
        }
      ]
    },
    {
      "cell_type": "code",
      "source": [
        "from tensorflow.keras.applications import EfficientNetV2B3\n",
        "from tensorflow.keras import layers, Sequential\n"
      ],
      "metadata": {
        "id": "3xlKVn_WjqvZ"
      },
      "execution_count": 9,
      "outputs": []
    },
    {
      "cell_type": "code",
      "source": [
        "\n",
        "base_model = EfficientNetV2B3(include_top=False,\n",
        "                       weights='imagenet',\n",
        "                       input_shape=(255,255,3),\n",
        "                       pooling='max',\n",
        "                       include_preprocessing=True) \n",
        "\n",
        "model = Sequential()\n",
        "model.add(base_model)\n",
        "model.add(layers.Flatten())\n",
        "# model.add(layers.Dropout(0.3))\n",
        "# model.add(layers.Dense(128, activation='relu'))\n",
        "# model.add(layers.Dropout(0.3))\n",
        "model.add(layers.Dense(64, activation = 'relu'))\n",
        "model.add(layers.Dropout(0.3))\n",
        "model.add(layers.Dense(4, activation='softmax'))\n",
        "\n",
        "base_model.trainable = False\n",
        "\n",
        "model.summary()\n",
        "\n",
        "model.compile(loss='categorical_crossentropy', \n",
        "              optimizer='adam',\n",
        "              metrics=['accuracy'])"
      ],
      "metadata": {
        "colab": {
          "base_uri": "https://localhost:8080/"
        },
        "id": "FLiKYzcrqdNX",
        "outputId": "b7b44082-f06e-44da-eb23-cf1f3dacd91f"
      },
      "execution_count": 10,
      "outputs": [
        {
          "output_type": "stream",
          "name": "stdout",
          "text": [
            "Downloading data from https://storage.googleapis.com/tensorflow/keras-applications/efficientnet_v2/efficientnetv2-b3_notop.h5\n",
            "52606240/52606240 [==============================] - 2s 0us/step\n",
            "Model: \"sequential\"\n",
            "_________________________________________________________________\n",
            " Layer (type)                Output Shape              Param #   \n",
            "=================================================================\n",
            " efficientnetv2-b3 (Function  (None, 1536)             12930622  \n",
            " al)                                                             \n",
            "                                                                 \n",
            " flatten (Flatten)           (None, 1536)              0         \n",
            "                                                                 \n",
            " dense (Dense)               (None, 64)                98368     \n",
            "                                                                 \n",
            " dropout (Dropout)           (None, 64)                0         \n",
            "                                                                 \n",
            " dense_1 (Dense)             (None, 4)                 260       \n",
            "                                                                 \n",
            "=================================================================\n",
            "Total params: 13,029,250\n",
            "Trainable params: 98,628\n",
            "Non-trainable params: 12,930,622\n",
            "_________________________________________________________________\n"
          ]
        }
      ]
    },
    {
      "cell_type": "code",
      "source": [
        "from tensorflow.keras import callbacks\n",
        "\n",
        "es = callbacks.EarlyStopping(patience=5, restore_best_weights=True)\n",
        "\n",
        "model.fit(train_ds,\n",
        "          validation_data=val_ds,\n",
        "          batch_size=64, \n",
        "          epochs=100,\n",
        "          callbacks=[es],\n",
        "          verbose=1)"
      ],
      "metadata": {
        "colab": {
          "base_uri": "https://localhost:8080/"
        },
        "id": "l4xTb6N-jtIj",
        "outputId": "ce175cca-710b-4fe3-d981-422e4c45b5cc"
      },
      "execution_count": 11,
      "outputs": [
        {
          "output_type": "stream",
          "name": "stdout",
          "text": [
            "Epoch 1/100\n",
            "72/72 [==============================] - 966s 12s/step - loss: 1.1634 - accuracy: 0.5652 - val_loss: 0.5380 - val_accuracy: 0.8170\n",
            "Epoch 2/100\n",
            "72/72 [==============================] - 23s 298ms/step - loss: 0.7042 - accuracy: 0.7107 - val_loss: 0.4687 - val_accuracy: 0.8196\n",
            "Epoch 3/100\n",
            "72/72 [==============================] - 21s 278ms/step - loss: 0.5644 - accuracy: 0.7753 - val_loss: 0.3681 - val_accuracy: 0.8538\n",
            "Epoch 4/100\n",
            "72/72 [==============================] - 22s 292ms/step - loss: 0.5110 - accuracy: 0.7989 - val_loss: 0.3319 - val_accuracy: 0.8905\n",
            "Epoch 5/100\n",
            "72/72 [==============================] - 23s 298ms/step - loss: 0.4786 - accuracy: 0.8149 - val_loss: 0.3497 - val_accuracy: 0.8485\n",
            "Epoch 6/100\n",
            "72/72 [==============================] - 23s 300ms/step - loss: 0.4382 - accuracy: 0.8306 - val_loss: 0.2823 - val_accuracy: 0.8993\n",
            "Epoch 7/100\n",
            "72/72 [==============================] - 21s 281ms/step - loss: 0.4106 - accuracy: 0.8335 - val_loss: 0.2640 - val_accuracy: 0.9011\n",
            "Epoch 8/100\n",
            "72/72 [==============================] - 21s 282ms/step - loss: 0.4245 - accuracy: 0.8328 - val_loss: 0.2565 - val_accuracy: 0.9142\n",
            "Epoch 9/100\n",
            "72/72 [==============================] - 22s 278ms/step - loss: 0.4038 - accuracy: 0.8488 - val_loss: 0.2605 - val_accuracy: 0.9089\n",
            "Epoch 10/100\n",
            "72/72 [==============================] - 23s 303ms/step - loss: 0.3930 - accuracy: 0.8457 - val_loss: 0.2397 - val_accuracy: 0.9186\n",
            "Epoch 11/100\n",
            "72/72 [==============================] - 21s 280ms/step - loss: 0.3756 - accuracy: 0.8521 - val_loss: 0.2455 - val_accuracy: 0.9107\n",
            "Epoch 12/100\n",
            "72/72 [==============================] - 22s 293ms/step - loss: 0.3734 - accuracy: 0.8497 - val_loss: 0.2584 - val_accuracy: 0.9098\n",
            "Epoch 13/100\n",
            "72/72 [==============================] - 22s 294ms/step - loss: 0.3596 - accuracy: 0.8586 - val_loss: 0.2301 - val_accuracy: 0.9168\n",
            "Epoch 14/100\n",
            "72/72 [==============================] - 22s 291ms/step - loss: 0.3586 - accuracy: 0.8578 - val_loss: 0.2218 - val_accuracy: 0.9186\n",
            "Epoch 15/100\n",
            "72/72 [==============================] - 23s 306ms/step - loss: 0.3299 - accuracy: 0.8672 - val_loss: 0.2194 - val_accuracy: 0.9247\n",
            "Epoch 16/100\n",
            "72/72 [==============================] - 21s 279ms/step - loss: 0.3430 - accuracy: 0.8637 - val_loss: 0.2367 - val_accuracy: 0.9098\n",
            "Epoch 17/100\n",
            "72/72 [==============================] - 23s 301ms/step - loss: 0.3314 - accuracy: 0.8654 - val_loss: 0.2100 - val_accuracy: 0.9282\n",
            "Epoch 18/100\n",
            "72/72 [==============================] - 21s 278ms/step - loss: 0.3243 - accuracy: 0.8676 - val_loss: 0.2116 - val_accuracy: 0.9194\n",
            "Epoch 19/100\n",
            "72/72 [==============================] - 22s 289ms/step - loss: 0.3226 - accuracy: 0.8726 - val_loss: 0.2175 - val_accuracy: 0.9203\n",
            "Epoch 20/100\n",
            "72/72 [==============================] - 23s 303ms/step - loss: 0.3152 - accuracy: 0.8691 - val_loss: 0.1912 - val_accuracy: 0.9299\n",
            "Epoch 21/100\n",
            "72/72 [==============================] - 23s 303ms/step - loss: 0.2916 - accuracy: 0.8836 - val_loss: 0.1952 - val_accuracy: 0.9343\n",
            "Epoch 22/100\n",
            "72/72 [==============================] - 21s 277ms/step - loss: 0.2901 - accuracy: 0.8832 - val_loss: 0.2178 - val_accuracy: 0.9186\n",
            "Epoch 23/100\n",
            "72/72 [==============================] - 21s 276ms/step - loss: 0.3298 - accuracy: 0.8672 - val_loss: 0.2090 - val_accuracy: 0.9299\n",
            "Epoch 24/100\n",
            "72/72 [==============================] - 22s 285ms/step - loss: 0.3105 - accuracy: 0.8720 - val_loss: 0.2086 - val_accuracy: 0.9212\n",
            "Epoch 25/100\n",
            "72/72 [==============================] - 23s 307ms/step - loss: 0.3202 - accuracy: 0.8707 - val_loss: 0.2136 - val_accuracy: 0.9343\n"
          ]
        },
        {
          "output_type": "execute_result",
          "data": {
            "text/plain": [
              "<keras.callbacks.History at 0x7fe33d430e80>"
            ]
          },
          "metadata": {},
          "execution_count": 11
        }
      ]
    },
    {
      "cell_type": "code",
      "source": [
        "model.evaluate(test_ds)"
      ],
      "metadata": {
        "colab": {
          "base_uri": "https://localhost:8080/"
        },
        "id": "9T1AzQXUpnV2",
        "outputId": "26cbd49b-cdd6-4901-fa86-6f245f33218a"
      },
      "execution_count": 12,
      "outputs": [
        {
          "output_type": "stream",
          "name": "stdout",
          "text": [
            "21/21 [==============================] - 274s 8s/step - loss: 0.2102 - accuracy: 0.9199\n"
          ]
        },
        {
          "output_type": "execute_result",
          "data": {
            "text/plain": [
              "[0.2102469801902771, 0.9199084639549255]"
            ]
          },
          "metadata": {},
          "execution_count": 12
        }
      ]
    },
    {
      "cell_type": "code",
      "source": [
        "model.save('models/model_Efficientnet.h5')"
      ],
      "metadata": {
        "id": "nShUUOds4IAk"
      },
      "execution_count": 13,
      "outputs": []
    }
  ]
}