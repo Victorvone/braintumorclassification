{
 "cells": [
  {
   "cell_type": "code",
   "execution_count": null,
   "id": "2c418fae",
   "metadata": {},
   "outputs": [],
   "source": [
    "import os\n",
    "import numpy as np\n",
    "import pandas as pd\n",
    "from matplotlib.pyplot import imread\n",
    "import matplotlib.pyplot as plt\n",
    "from tensorflow.keras import Sequential, layers, optimizers\n",
    "from tensorflow.keras.layers import Conv2D, MaxPooling2D, Flatten, Dropout, Dense, Lambda"
   ]
  },
  {
   "cell_type": "code",
   "execution_count": null,
   "id": "2ea66028",
   "metadata": {},
   "outputs": [],
   "source": [
    "from tensorflow.keras.utils import image_dataset_from_directory\n",
    "from tensorflow.keras import layers, optimizers, callbacks, applications\n",
    "from tensorflow.keras.preprocessing.image import array_to_img, img_to_array, load_img"
   ]
  },
  {
   "cell_type": "code",
   "execution_count": null,
   "id": "5543b9d0",
   "metadata": {},
   "outputs": [],
   "source": [
    "batch_size = 64"
   ]
  },
  {
   "cell_type": "code",
   "execution_count": null,
   "id": "227361a2",
   "metadata": {},
   "outputs": [],
   "source": [
    "from google.colab import drive\n",
    "drive.mount('/content/drive')"
   ]
  },
  {
   "cell_type": "code",
   "execution_count": null,
   "id": "8c6a4b3a",
   "metadata": {},
   "outputs": [],
   "source": [
    "# os.chdir allows you to change directories, like cd in the Terminal\n",
    "os.chdir('drive/My Drive')"
   ]
  },
  {
   "cell_type": "code",
   "execution_count": null,
   "id": "de2dacff",
   "metadata": {},
   "outputs": [],
   "source": [
    "!ls"
   ]
  },
  {
   "cell_type": "code",
   "execution_count": null,
   "id": "c04becf7",
   "metadata": {},
   "outputs": [],
   "source": [
    "# Let's store the location of our data in 2 variables that we can re use later\n",
    "\n",
    "train_data_dir = 'raw_data/Training'\n",
    "test_data_dir = 'raw_data/Testing'"
   ]
  },
  {
   "cell_type": "code",
   "execution_count": null,
   "id": "4860e852",
   "metadata": {},
   "outputs": [],
   "source": [
    "train_ds, val_ds = image_dataset_from_directory(\n",
    "  train_data_dir,\n",
    "  labels = \"inferred\",\n",
    "  label_mode = \"categorical\",\n",
    "  seed=123,\n",
    "  image_size=(255, 255),\n",
    "  validation_split = 0.2,\n",
    "  subset=\"both\",\n",
    "  color_mode = 'rgb',\n",
    "  batch_size= batch_size)\n",
    "\n",
    "# We define a second one for the test data\n",
    "\n",
    "test_ds = image_dataset_from_directory(\n",
    "  test_data_dir,\n",
    "  labels = \"inferred\",\n",
    "  label_mode = \"categorical\",\n",
    "  seed=123,\n",
    "  image_size=(255, 255),\n",
    "  color_mode = 'rgb',\n",
    "  batch_size= batch_size)"
   ]
  },
  {
   "cell_type": "code",
   "execution_count": null,
   "id": "3fffcc69",
   "metadata": {},
   "outputs": [],
   "source": [
    "\n",
    "class_names = train_ds.class_names\n",
    "train_ds"
   ]
  },
  {
   "cell_type": "code",
   "execution_count": null,
   "id": "e67f654a",
   "metadata": {},
   "outputs": [],
   "source": [
    "model_main = applications.inception_v3.InceptionV3(\n",
    "    include_top=False,\n",
    "    weights='imagenet',\n",
    "    input_tensor=None,\n",
    "    input_shape=None,\n",
    "    pooling=None,\n",
    "    classes=1000,\n",
    "    classifier_activation='softmax'\n",
    ")"
   ]
  },
  {
   "cell_type": "code",
   "execution_count": null,
   "id": "70e60945",
   "metadata": {},
   "outputs": [],
   "source": [
    "from tensorflow.keras.applications.inception_v3 import preprocess_input"
   ]
  },
  {
   "cell_type": "code",
   "execution_count": null,
   "id": "5c632553",
   "metadata": {},
   "outputs": [],
   "source": [
    "def initialize_model():\n",
    "    \n",
    "    model_v3 = Sequential([\n",
    "       Lambda(preprocess_input),\n",
    "        model_main,\n",
    "        Flatten(),\n",
    "        Dense(4, activation = 'softmax')\n",
    "        ])\n",
    "\n",
    "    return model_v3"
   ]
  },
  {
   "cell_type": "code",
   "execution_count": null,
   "id": "8be61cd2",
   "metadata": {},
   "outputs": [],
   "source": [
    "model_v3 = initialize_model()"
   ]
  },
  {
   "cell_type": "code",
   "execution_count": null,
   "id": "f00ef087",
   "metadata": {},
   "outputs": [],
   "source": [
    "optimizer = optimizers.Adam(learning_rate=0.1)\n",
    "\n",
    "model_v3.compile(loss = 'categorical_crossentropy',\n",
    "                  optimizer = \"adam\",\n",
    "                  metrics = ['accuracy'])"
   ]
  },
  {
   "cell_type": "code",
   "execution_count": null,
   "id": "1159792a",
   "metadata": {},
   "outputs": [],
   "source": [
    "from tensorflow.keras.callbacks import EarlyStopping\n",
    "es = EarlyStopping(patience = 5, verbose = 2)\n",
    "history = model_v3.fit(train_ds,\n",
    "                       validation_data=val_ds,\n",
    "                      #  callbacks = [es], \n",
    "                       epochs = 40 , \n",
    "                       batch_size = 64)"
   ]
  },
  {
   "cell_type": "code",
   "execution_count": null,
   "id": "6fc45864",
   "metadata": {},
   "outputs": [],
   "source": [
    "def plot_history(history):\n",
    "    fig, ax = plt.subplots(1, 2, figsize=(15,5))\n",
    "    ax[0].set_title('loss')\n",
    "    ax[0].plot(history.epoch, history.history[\"loss\"], label=\"Train loss\")\n",
    "    ax[0].plot(history.epoch, history.history[\"val_loss\"], label=\"Validation loss\")\n",
    "    ax[1].set_title('accuracy')\n",
    "    ax[1].plot(history.epoch, history.history[\"accuracy\"], label=\"Train acc\")\n",
    "    ax[1].plot(history.epoch, history.history[\"val_accuracy\"], label=\"Validation acc\")\n",
    "    ax[0].legend()\n",
    "    ax[1].legend()"
   ]
  },
  {
   "cell_type": "code",
   "execution_count": null,
   "id": "bb39ddcc",
   "metadata": {},
   "outputs": [],
   "source": [
    "model_v3.evaluate(test_ds)"
   ]
  }
 ],
 "metadata": {
  "kernelspec": {
   "display_name": "Python 3 (ipykernel)",
   "language": "python",
   "name": "python3"
  },
  "language_info": {
   "codemirror_mode": {
    "name": "ipython",
    "version": 3
   },
   "file_extension": ".py",
   "mimetype": "text/x-python",
   "name": "python",
   "nbconvert_exporter": "python",
   "pygments_lexer": "ipython3",
   "version": "3.10.6"
  },
  "toc": {
   "base_numbering": 1,
   "nav_menu": {},
   "number_sections": true,
   "sideBar": true,
   "skip_h1_title": false,
   "title_cell": "Table of Contents",
   "title_sidebar": "Contents",
   "toc_cell": false,
   "toc_position": {},
   "toc_section_display": true,
   "toc_window_display": false
  }
 },
 "nbformat": 4,
 "nbformat_minor": 5
}
