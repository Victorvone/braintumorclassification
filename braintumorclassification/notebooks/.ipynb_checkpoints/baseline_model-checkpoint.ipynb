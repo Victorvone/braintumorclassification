{
 "cells": [
  {
   "cell_type": "code",
   "execution_count": null,
   "metadata": {},
   "outputs": [],
   "source": []
  }
 ],
 "metadata": {
  "kernelspec": {
   "display_name": "braintumorclassification",
   "language": "python",
   "name": "python3"
  },
  "language_info": {
   "name": "python",
   "version": "3.10.6"
  },
  "vscode": {
   "interpreter": {
    "hash": "06a116bea194c38c3beee2e26e0ff47698ac712b531f8a3710340a8261e96cf5"
   }
  }
 },
 "nbformat": 4,
 "nbformat_minor": 5
}
