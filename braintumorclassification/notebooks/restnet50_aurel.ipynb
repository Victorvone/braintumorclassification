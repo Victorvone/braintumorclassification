{
  "cells": [
    {
      "cell_type": "code",
      "execution_count": null,
      "metadata": {
        "colab": {
          "base_uri": "https://localhost:8080/"
        },
        "id": "d7SqQbIdVmVm",
        "outputId": "a1bee8c6-5be3-480b-fea5-1d58cbc3464d"
      },
      "outputs": [
        {
          "name": "stdout",
          "output_type": "stream",
          "text": [
            "Drive already mounted at /content/drive; to attempt to forcibly remount, call drive.mount(\"/content/drive\", force_remount=True).\n"
          ]
        }
      ],
      "source": [
        "from google.colab import drive\n",
        "drive.mount('/content/drive')"
      ]
    },
    {
      "cell_type": "code",
      "execution_count": null,
      "metadata": {
        "id": "s-WOiE_uVzsj"
      },
      "outputs": [],
      "source": [
        "directory = '/content/drive/My Drive/Colab Notebooks/raw_data'\n",
        "training_directory = '/content/drive/My Drive/Colab Notebooks/raw_data/Training'\n",
        "testing_directory = '/content/drive/My Drive/Colab Notebooks/raw_data/Testing'"
      ]
    },
    {
      "cell_type": "code",
      "execution_count": null,
      "metadata": {
        "colab": {
          "base_uri": "https://localhost:8080/"
        },
        "id": "omVeH8D4VIbR",
        "outputId": "c31fcfd0-d073-4d54-e0ae-53f2377826b6"
      },
      "outputs": [
        {
          "name": "stdout",
          "output_type": "stream",
          "text": [
            "Found 5712 files belonging to 4 classes.\n",
            "Using 4570 files for training.\n",
            "Using 1142 files for validation.\n",
            "Found 1311 files belonging to 4 classes.\n"
          ]
        }
      ],
      "source": [
        "from tensorflow.keras.utils import image_dataset_from_directory\n",
        "\n",
        "train_ds, val_ds = image_dataset_from_directory(\n",
        "  training_directory,\n",
        "  labels = \"inferred\",\n",
        "  label_mode = \"categorical\",\n",
        "  seed=123,\n",
        "  image_size=(255, 255),\n",
        "  validation_split = 0.2,\n",
        "  subset=\"both\",\n",
        "  color_mode = 'rgb',\n",
        "  batch_size= 64)\n",
        "\n",
        "test_ds = image_dataset_from_directory(\n",
        "  testing_directory,\n",
        "  labels = \"inferred\",\n",
        "  label_mode = \"categorical\",\n",
        "  seed=123,\n",
        "  image_size=(255, 255),\n",
        "  color_mode = 'rgb',\n",
        "  batch_size= 64)"
      ]
    },
    {
      "cell_type": "code",
      "execution_count": null,
      "metadata": {
        "id": "Vuh86G2foSC_"
      },
      "outputs": [],
      "source": [
        "from tensorflow.keras import layers\n",
        "from tensorflow.keras.applications.resnet50 import preprocess_input, ResNet50\n",
        "from tensorflow.keras.models import Model\n",
        "\n",
        "\n",
        "def load_model():\n",
        "    \n",
        "    model = ResNet50(weights='imagenet', input_shape = (255, 255, 3), include_top = False)\n",
        "\n",
        "    inputs = layers.Input(shape = (255, 255, 3))\n",
        "\n",
        "    x = preprocess_input(inputs)\n",
        "\n",
        "    x = model(x)\n",
        "\n",
        "    model = Model(inputs = inputs , outputs = x)\n",
        "    \n",
        "    return model"
      ]
    },
    {
      "cell_type": "code",
      "execution_count": null,
      "metadata": {
        "id": "hvbyyks0bYZF"
      },
      "outputs": [],
      "source": [
        "model = load_model()"
      ]
    },
    {
      "cell_type": "code",
      "execution_count": null,
      "metadata": {
        "colab": {
          "base_uri": "https://localhost:8080/"
        },
        "id": "8-s4mz9kbcb_",
        "outputId": "4a7d11e3-fc62-4d85-b86f-e3307c773f0e"
      },
      "outputs": [
        {
          "name": "stdout",
          "output_type": "stream",
          "text": [
            "Model: \"model_23\"\n",
            "_________________________________________________________________\n",
            " Layer (type)                Output Shape              Param #   \n",
            "=================================================================\n",
            " input_50 (InputLayer)       [(None, 255, 255, 3)]     0         \n",
            "                                                                 \n",
            " tf.__operators__.getitem_24  (None, 255, 255, 3)      0         \n",
            "  (SlicingOpLambda)                                              \n",
            "                                                                 \n",
            " tf.nn.bias_add_24 (TFOpLamb  (None, 255, 255, 3)      0         \n",
            " da)                                                             \n",
            "                                                                 \n",
            " resnet50 (Functional)       (None, 8, 8, 2048)        23587712  \n",
            "                                                                 \n",
            "=================================================================\n",
            "Total params: 23,587,712\n",
            "Trainable params: 23,534,592\n",
            "Non-trainable params: 53,120\n",
            "_________________________________________________________________\n"
          ]
        }
      ],
      "source": [
        "model.summary()"
      ]
    },
    {
      "cell_type": "code",
      "execution_count": null,
      "metadata": {
        "id": "YH_XCg_BXNXa"
      },
      "outputs": [],
      "source": [
        "def set_nontrainable_layers(model):\n",
        "    \n",
        "    model.trainable = False\n",
        "    \n",
        "    return model"
      ]
    },
    {
      "cell_type": "code",
      "execution_count": null,
      "metadata": {
        "id": "lPNxk2nhXRLE"
      },
      "outputs": [],
      "source": [
        "from tensorflow.keras import layers, models\n",
        "\n",
        "def add_last_layers(model):\n",
        "    '''Take a pre-trained model, set its parameters as non-trainable, and add additional trainable layers on top'''\n",
        "    \n",
        "    base_model = load_model()\n",
        "    base_model = set_nontrainable_layers(base_model)\n",
        "    \n",
        "    flattening_layer = layers.Flatten()\n",
        "    \n",
        "    dense_layer_1 = layers.Dense(100, activation='relu')\n",
        "    dropout_layer_1 = layers.Dropout(rate = 0.5)\n",
        "\n",
        "    prediction_layer = layers.Dense(4, activation='softmax')\n",
        "\n",
        "    model = models.Sequential([\n",
        "      base_model,\n",
        "      flattening_layer,\n",
        "      dense_layer_1,\n",
        "      dropout_layer_1,\n",
        "      prediction_layer\n",
        "    ])\n",
        "    \n",
        "    return model"
      ]
    },
    {
      "cell_type": "code",
      "execution_count": null,
      "metadata": {
        "id": "nXq_7JjsXUC9"
      },
      "outputs": [],
      "source": [
        "from tensorflow.keras import optimizers\n",
        "\n",
        "def build_model():\n",
        "    \n",
        "    model = load_model()\n",
        "\n",
        "    model = add_last_layers(model)\n",
        "\n",
        "    opt = optimizers.Adam(learning_rate=1e-4)\n",
        "\n",
        "    model.compile(optimizer=opt,\n",
        "                  loss='categorical_crossentropy',\n",
        "                  metrics=['accuracy'])\n",
        "    \n",
        "    return model"
      ]
    },
    {
      "cell_type": "code",
      "execution_count": null,
      "metadata": {
        "colab": {
          "base_uri": "https://localhost:8080/"
        },
        "id": "rDztYk2hXay3",
        "outputId": "af032187-f44d-43da-9bad-f4ab14271671"
      },
      "outputs": [
        {
          "name": "stdout",
          "output_type": "stream",
          "text": [
            "Epoch 1/100\n",
            "38/72 [==============>...............] - ETA: 3:05 - loss: 0.9206 - accuracy: 0.7459"
          ]
        }
      ],
      "source": [
        "from tensorflow.keras.callbacks import EarlyStopping\n",
        "\n",
        "model = build_model()\n",
        "\n",
        "es = EarlyStopping(patience = 10,\n",
        "                   monitor ='val_accuracy',\n",
        "                   restore_best_weights =True\n",
        "                   )\n",
        "\n",
        "history = model.fit(train_ds,\n",
        "          batch_size=64,\n",
        "          epochs=100,\n",
        "          callbacks=es,\n",
        "          validation_data=val_ds)"
      ]
    },
    {
      "cell_type": "code",
      "execution_count": null,
      "metadata": {
        "id": "dzgzL9ajXepy"
      },
      "outputs": [],
      "source": [
        "import matplotlib.pyplot as plt\n",
        "\n",
        "def plot_history(history, title='', axs=None, exp_name=\"\"):\n",
        "    if axs is not None:\n",
        "        ax1, ax2 = axs\n",
        "    else:\n",
        "        f, (ax1, ax2) = plt.subplots(1, 2, figsize=(12, 4))\n",
        "    \n",
        "    if len(exp_name) > 0 and exp_name[0] != '_':\n",
        "        exp_name = '_' + exp_name\n",
        "    ax1.plot(history.history['loss'], label='train' + exp_name)\n",
        "    ax1.plot(history.history['val_loss'], label='val' + exp_name)\n",
        "    #ax1.set_ylim(0., 2.2)\n",
        "    ax1.set_title('loss')\n",
        "    ax1.legend()\n",
        "\n",
        "    ax2.plot(history.history['accuracy'], label='train accuracy'  + exp_name)\n",
        "    ax2.plot(history.history['val_accuracy'], label='val accuracy'  + exp_name)\n",
        "    #ax2.set_ylim(0.25, 1.)\n",
        "    ax2.set_title('Accuracy')\n",
        "    ax2.legend()\n",
        "    return (ax1, ax2)"
      ]
    },
    {
      "cell_type": "code",
      "execution_count": null,
      "metadata": {
        "id": "gqml286QXgdH"
      },
      "outputs": [],
      "source": [
        "plot_history(history)"
      ]
    },
    {
      "cell_type": "code",
      "execution_count": null,
      "metadata": {
        "id": "qVbWUSaWXiSo"
      },
      "outputs": [],
      "source": [
        "res = model.evaluate(test_ds)\n",
        "test_accuracy = res[-1]\n",
        "print(f\"test_accuracy = {round(test_accuracy,2)*100} %\")"
      ]
    },
    {
      "cell_type": "code",
      "execution_count": null,
      "metadata": {
        "id": "y-hoTLGWsWE7"
      },
      "outputs": [],
      "source": [
        "results_1 : (91, 71), (91, 75), (91, 72)"
      ]
    }
  ],
  "metadata": {
    "accelerator": "GPU",
    "colab": {
      "provenance": []
    },
    "gpuClass": "standard",
    "kernelspec": {
      "display_name": "braintumorclassification",
      "language": "python",
      "name": "python3"
    },
    "language_info": {
      "name": "python",
      "version": "3.10.6"
    },
    "vscode": {
      "interpreter": {
        "hash": "06a116bea194c38c3beee2e26e0ff47698ac712b531f8a3710340a8261e96cf5"
      }
    }
  },
  "nbformat": 4,
  "nbformat_minor": 0
}
