{
 "cells": [
  {
   "cell_type": "code",
   "execution_count": null,
   "id": "2c418fae",
   "metadata": {
    "id": "2c418fae"
   },
   "outputs": [],
   "source": [
    "import os\n",
    "import numpy as np\n",
    "import pandas as pd\n",
    "from matplotlib.pyplot import imread\n",
    "import matplotlib.pyplot as plt\n",
    "from tensorflow.keras import Sequential, layers, optimizers, models\n",
    "from tensorflow.keras.layers import Conv2D, MaxPooling2D, Flatten, Dropout, Dense, Lambda\n"
   ]
  },
  {
   "cell_type": "code",
   "execution_count": null,
   "id": "YDTF7Huxy_VK",
   "metadata": {
    "colab": {
     "base_uri": "https://localhost:8080/"
    },
    "id": "YDTF7Huxy_VK",
    "outputId": "8be94960-00c2-4369-b64c-f0b876ca065a"
   },
   "outputs": [
    {
     "name": "stdout",
     "output_type": "stream",
     "text": [
      "Sat Mar  4 14:44:13 2023       \n",
      "+-----------------------------------------------------------------------------+\n",
      "| NVIDIA-SMI 525.85.12    Driver Version: 525.85.12    CUDA Version: 12.0     |\n",
      "|-------------------------------+----------------------+----------------------+\n",
      "| GPU  Name        Persistence-M| Bus-Id        Disp.A | Volatile Uncorr. ECC |\n",
      "| Fan  Temp  Perf  Pwr:Usage/Cap|         Memory-Usage | GPU-Util  Compute M. |\n",
      "|                               |                      |               MIG M. |\n",
      "|===============================+======================+======================|\n",
      "|   0  Tesla T4            Off  | 00000000:00:04.0 Off |                    0 |\n",
      "| N/A   60C    P0    27W /  70W |      0MiB / 15360MiB |      0%      Default |\n",
      "|                               |                      |                  N/A |\n",
      "+-------------------------------+----------------------+----------------------+\n",
      "                                                                               \n",
      "+-----------------------------------------------------------------------------+\n",
      "| Processes:                                                                  |\n",
      "|  GPU   GI   CI        PID   Type   Process name                  GPU Memory |\n",
      "|        ID   ID                                                   Usage      |\n",
      "|=============================================================================|\n",
      "|  No running processes found                                                 |\n",
      "+-----------------------------------------------------------------------------+\n"
     ]
    }
   ],
   "source": [
    "gpu_info = !nvidia-smi\n",
    "gpu_info = '\\n'.join(gpu_info)\n",
    "if gpu_info.find('failed') >= 0:\n",
    "  print('Not connected to a GPU')\n",
    "else:\n",
    "  print(gpu_info)"
   ]
  },
  {
   "cell_type": "code",
   "execution_count": null,
   "id": "2ea66028",
   "metadata": {
    "id": "2ea66028"
   },
   "outputs": [],
   "source": [
    "from tensorflow.keras.utils import image_dataset_from_directory\n",
    "from tensorflow.keras import layers, optimizers, callbacks, applications\n",
    "from tensorflow.keras.preprocessing.image import array_to_img, img_to_array, load_img"
   ]
  },
  {
   "cell_type": "code",
   "execution_count": null,
   "id": "5543b9d0",
   "metadata": {
    "id": "5543b9d0"
   },
   "outputs": [],
   "source": [
    "batch_size = 64"
   ]
  },
  {
   "cell_type": "code",
   "execution_count": null,
   "id": "227361a2",
   "metadata": {
    "colab": {
     "base_uri": "https://localhost:8080/"
    },
    "id": "227361a2",
    "outputId": "999b2c0a-d5fb-4bac-cb3d-0c8d73159002"
   },
   "outputs": [
    {
     "name": "stdout",
     "output_type": "stream",
     "text": [
      "Drive already mounted at /content/drive; to attempt to forcibly remount, call drive.mount(\"/content/drive\", force_remount=True).\n"
     ]
    }
   ],
   "source": [
    "from google.colab import drive\n",
    "drive.mount('/content/drive')"
   ]
  },
  {
   "cell_type": "code",
   "execution_count": null,
   "id": "8c6a4b3a",
   "metadata": {
    "id": "8c6a4b3a"
   },
   "outputs": [],
   "source": [
    "# os.chdir allows you to change directories, like cd in the Terminal\n",
    "os.chdir('drive/MyDrive/')"
   ]
  },
  {
   "cell_type": "code",
   "execution_count": null,
   "id": "de2dacff",
   "metadata": {
    "colab": {
     "base_uri": "https://localhost:8080/"
    },
    "id": "de2dacff",
    "outputId": "45f44d04-2b71-4d1a-f7fb-bdd133b9efc3"
   },
   "outputs": [
    {
     "name": "stdout",
     "output_type": "stream",
     "text": [
      " 1628602417763.jpg\n",
      "'Colab Notebooks'\n",
      "'Getting started.pdf'\n",
      " IMG-bb1327fa43191fc40b07178ad760d4f1-V.jpg\n",
      " IMG-fa61f60c88278450511c3dd78d159f3f.jpg\n",
      "'Ivan Anđelković de.gdoc'\n",
      "'Ivan Anđelković de.pdf'\n",
      " Offer_Document_Ivan_Andelkovic.gdoc\n",
      " Offer_Document_Ivan_Andelkovic.pdf\n",
      "'Project Data Science LW'\n",
      "'RainmakerSociety_Group Financial Controller_Fitness industry.pdf'\n",
      "'raw data'\n",
      " raw_data\n",
      " r_data\n",
      "'Teme za ucenje Data Science.gsheet'\n"
     ]
    }
   ],
   "source": [
    "!ls"
   ]
  },
  {
   "cell_type": "code",
   "execution_count": null,
   "id": "c04becf7",
   "metadata": {
    "id": "c04becf7"
   },
   "outputs": [],
   "source": [
    "# Let's store the location of our data in 2 variables that we can re use later\n",
    "\n",
    "train_data_dir = 'r_data/Training'\n",
    "test_data_dir = 'r_data/Testing'"
   ]
  },
  {
   "cell_type": "code",
   "execution_count": null,
   "id": "4860e852",
   "metadata": {
    "colab": {
     "base_uri": "https://localhost:8080/"
    },
    "id": "4860e852",
    "outputId": "be3e99d4-896a-48a2-ddac-a805a7ee10f5"
   },
   "outputs": [
    {
     "name": "stdout",
     "output_type": "stream",
     "text": [
      "Found 5712 files belonging to 4 classes.\n",
      "Using 4570 files for training.\n",
      "Using 1142 files for validation.\n",
      "Found 1311 files belonging to 4 classes.\n"
     ]
    }
   ],
   "source": [
    "train_ds, val_ds = image_dataset_from_directory(\n",
    "  train_data_dir,\n",
    "  labels = \"inferred\",\n",
    "  label_mode = \"categorical\",\n",
    "  seed=123,\n",
    "  image_size=(255, 255),\n",
    "  validation_split = 0.2,\n",
    "  subset=\"both\",\n",
    "  color_mode = 'rgb',\n",
    "  batch_size= batch_size)\n",
    "\n",
    "# We define a second one for the test data\n",
    "\n",
    "test_ds = image_dataset_from_directory(\n",
    "  test_data_dir,\n",
    "  labels = \"inferred\",\n",
    "  label_mode = \"categorical\",\n",
    "  seed=123,\n",
    "  image_size=(255, 255),\n",
    "  color_mode = 'rgb',\n",
    "  batch_size= batch_size)"
   ]
  },
  {
   "cell_type": "code",
   "execution_count": null,
   "id": "e67f654a",
   "metadata": {
    "colab": {
     "base_uri": "https://localhost:8080/"
    },
    "id": "e67f654a",
    "outputId": "726f38f2-c832-4c6f-bbb2-47d12311e6b3"
   },
   "outputs": [
    {
     "name": "stdout",
     "output_type": "stream",
     "text": [
      "Downloading data from https://storage.googleapis.com/tensorflow/keras-applications/inception_v3/inception_v3_weights_tf_dim_ordering_tf_kernels_notop.h5\n",
      "87910968/87910968 [==============================] - 1s 0us/step\n"
     ]
    }
   ],
   "source": [
    "model_main = applications.inception_v3.InceptionV3(\n",
    "    include_top=False,\n",
    "    weights='imagenet',\n",
    "    input_tensor=None,\n",
    "    input_shape=None,\n",
    "    pooling=None,\n",
    "    classes=1000,\n",
    "    classifier_activation='softmax'\n",
    ")"
   ]
  },
  {
   "cell_type": "code",
   "execution_count": null,
   "id": "70e60945",
   "metadata": {
    "id": "70e60945"
   },
   "outputs": [],
   "source": [
    "from tensorflow.keras.applications.inception_v3 import preprocess_input"
   ]
  },
  {
   "cell_type": "code",
   "execution_count": null,
   "id": "5c632553",
   "metadata": {
    "id": "5c632553"
   },
   "outputs": [],
   "source": [
    "def initialize_model():\n",
    "    \n",
    "    model_v3 = Sequential([\n",
    "       Lambda(preprocess_input),\n",
    "        model_main,\n",
    "        Flatten(),\n",
    "        Dense(4, activation = 'softmax')\n",
    "        ])\n",
    "\n",
    "    return model_v3"
   ]
  },
  {
   "cell_type": "code",
   "execution_count": null,
   "id": "8be61cd2",
   "metadata": {
    "id": "8be61cd2"
   },
   "outputs": [],
   "source": [
    "model_v3 = initialize_model()"
   ]
  },
  {
   "cell_type": "code",
   "execution_count": null,
   "id": "f00ef087",
   "metadata": {
    "id": "f00ef087"
   },
   "outputs": [],
   "source": [
    "optimizer = optimizers.Adam(learning_rate=0.1)\n",
    "\n",
    "model_v3.compile(loss = 'categorical_crossentropy',\n",
    "                  optimizer = \"adam\",\n",
    "                  metrics = ['accuracy'])"
   ]
  },
  {
   "cell_type": "code",
   "execution_count": null,
   "id": "1159792a",
   "metadata": {
    "colab": {
     "base_uri": "https://localhost:8080/"
    },
    "id": "1159792a",
    "outputId": "325963b3-4b61-416e-8053-4394a0595747"
   },
   "outputs": [
    {
     "name": "stdout",
     "output_type": "stream",
     "text": [
      "Epoch 1/40\n",
      "72/72 [==============================] - 796s 9s/step - loss: 0.9375 - accuracy: 0.8142 - val_loss: 11933.1152 - val_accuracy: 0.2811\n",
      "Epoch 2/40\n",
      "72/72 [==============================] - 49s 661ms/step - loss: 0.3427 - accuracy: 0.9070 - val_loss: 143328.9531 - val_accuracy: 0.2811\n",
      "Epoch 3/40\n",
      "72/72 [==============================] - 50s 680ms/step - loss: 0.1487 - accuracy: 0.9479 - val_loss: 7.3678 - val_accuracy: 0.7820\n",
      "Epoch 4/40\n",
      "72/72 [==============================] - 48s 654ms/step - loss: 0.8874 - accuracy: 0.8497 - val_loss: 123306.4375 - val_accuracy: 0.2014\n",
      "Epoch 5/40\n",
      "72/72 [==============================] - 48s 656ms/step - loss: 0.9602 - accuracy: 0.7961 - val_loss: 1730187.0000 - val_accuracy: 0.2601\n",
      "Epoch 6/40\n",
      "72/72 [==============================] - 49s 669ms/step - loss: 0.5815 - accuracy: 0.8639 - val_loss: 3805.5254 - val_accuracy: 0.3958\n",
      "Epoch 7/40\n",
      "72/72 [==============================] - 48s 650ms/step - loss: 0.2510 - accuracy: 0.9105 - val_loss: 5.3712 - val_accuracy: 0.6532\n",
      "Epoch 8/40\n",
      "72/72 [==============================] - 49s 661ms/step - loss: 0.2901 - accuracy: 0.9109 - val_loss: 76.4837 - val_accuracy: 0.2881\n",
      "Epoch 9/40\n",
      "72/72 [==============================] - 47s 642ms/step - loss: 0.1926 - accuracy: 0.9326 - val_loss: 69.8211 - val_accuracy: 0.7618\n",
      "Epoch 10/40\n",
      "72/72 [==============================] - 48s 647ms/step - loss: 0.1710 - accuracy: 0.9438 - val_loss: 1.0863 - val_accuracy: 0.9247\n",
      "Epoch 11/40\n",
      "72/72 [==============================] - 49s 659ms/step - loss: 0.1368 - accuracy: 0.9604 - val_loss: 0.3580 - val_accuracy: 0.8608\n",
      "Epoch 12/40\n",
      "72/72 [==============================] - 48s 646ms/step - loss: 0.1397 - accuracy: 0.9508 - val_loss: 0.3949 - val_accuracy: 0.8546\n",
      "Epoch 13/40\n",
      "72/72 [==============================] - 48s 643ms/step - loss: 0.3327 - accuracy: 0.9495 - val_loss: 1.8605 - val_accuracy: 0.7601\n",
      "Epoch 14/40\n",
      "72/72 [==============================] - 48s 654ms/step - loss: 0.0922 - accuracy: 0.9689 - val_loss: 0.2624 - val_accuracy: 0.9028\n",
      "Epoch 15/40\n",
      "72/72 [==============================] - 50s 673ms/step - loss: 0.1124 - accuracy: 0.9694 - val_loss: 0.4208 - val_accuracy: 0.8336\n",
      "Epoch 16/40\n",
      "72/72 [==============================] - 48s 640ms/step - loss: 0.1881 - accuracy: 0.9499 - val_loss: 635.2338 - val_accuracy: 0.4273\n",
      "Epoch 17/40\n",
      "72/72 [==============================] - 47s 644ms/step - loss: 0.2361 - accuracy: 0.9210 - val_loss: 0.2115 - val_accuracy: 0.9256\n",
      "Epoch 18/40\n",
      "72/72 [==============================] - 48s 654ms/step - loss: 0.1119 - accuracy: 0.9628 - val_loss: 0.2079 - val_accuracy: 0.9256\n",
      "Epoch 19/40\n",
      "72/72 [==============================] - 47s 643ms/step - loss: 0.0904 - accuracy: 0.9720 - val_loss: 0.5906 - val_accuracy: 0.7680\n",
      "Epoch 20/40\n",
      "72/72 [==============================] - 48s 648ms/step - loss: 0.1022 - accuracy: 0.9646 - val_loss: 0.2576 - val_accuracy: 0.8975\n",
      "Epoch 21/40\n",
      "72/72 [==============================] - 48s 655ms/step - loss: 0.0575 - accuracy: 0.9794 - val_loss: 0.1442 - val_accuracy: 0.9457\n",
      "Epoch 22/40\n",
      "72/72 [==============================] - 48s 645ms/step - loss: 0.0532 - accuracy: 0.9812 - val_loss: 0.1258 - val_accuracy: 0.9518\n",
      "Epoch 23/40\n",
      "72/72 [==============================] - 48s 644ms/step - loss: 0.2553 - accuracy: 0.9512 - val_loss: 1.3021 - val_accuracy: 0.8450\n",
      "Epoch 24/40\n",
      "72/72 [==============================] - 49s 661ms/step - loss: 0.0771 - accuracy: 0.9720 - val_loss: 0.3060 - val_accuracy: 0.8914\n",
      "Epoch 25/40\n",
      "72/72 [==============================] - 47s 640ms/step - loss: 0.0517 - accuracy: 0.9825 - val_loss: 0.2118 - val_accuracy: 0.9238\n",
      "Epoch 26/40\n",
      "72/72 [==============================] - 48s 644ms/step - loss: 0.0466 - accuracy: 0.9849 - val_loss: 0.2410 - val_accuracy: 0.9308\n",
      "Epoch 27/40\n",
      "72/72 [==============================] - 49s 659ms/step - loss: 0.0323 - accuracy: 0.9884 - val_loss: 0.1066 - val_accuracy: 0.9685\n",
      "Epoch 28/40\n",
      "72/72 [==============================] - 47s 643ms/step - loss: 0.0299 - accuracy: 0.9884 - val_loss: 0.3245 - val_accuracy: 0.9002\n",
      "Epoch 29/40\n",
      "72/72 [==============================] - 48s 646ms/step - loss: 0.0715 - accuracy: 0.9882 - val_loss: 0.4810 - val_accuracy: 0.8363\n",
      "Epoch 30/40\n",
      "72/72 [==============================] - 49s 661ms/step - loss: 0.2085 - accuracy: 0.9341 - val_loss: 2.2608 - val_accuracy: 0.3012\n",
      "Epoch 31/40\n",
      "72/72 [==============================] - 47s 640ms/step - loss: 0.0850 - accuracy: 0.9687 - val_loss: 0.6131 - val_accuracy: 0.7688\n",
      "Epoch 32/40\n",
      "72/72 [==============================] - 48s 644ms/step - loss: 0.0499 - accuracy: 0.9827 - val_loss: 0.2050 - val_accuracy: 0.9238\n",
      "Epoch 33/40\n",
      "72/72 [==============================] - 48s 651ms/step - loss: 0.0379 - accuracy: 0.9867 - val_loss: 0.1649 - val_accuracy: 0.9396\n",
      "Epoch 34/40\n",
      "72/72 [==============================] - 47s 641ms/step - loss: 0.0424 - accuracy: 0.9858 - val_loss: 0.1974 - val_accuracy: 0.9370\n",
      "Epoch 35/40\n",
      "72/72 [==============================] - 49s 662ms/step - loss: 0.0278 - accuracy: 0.9910 - val_loss: 0.1389 - val_accuracy: 0.9527\n",
      "Epoch 36/40\n",
      "72/72 [==============================] - 48s 643ms/step - loss: 0.0517 - accuracy: 0.9869 - val_loss: 0.3139 - val_accuracy: 0.9238\n",
      "Epoch 37/40\n",
      "72/72 [==============================] - 48s 650ms/step - loss: 0.1080 - accuracy: 0.9919 - val_loss: 2.5528 - val_accuracy: 0.9124\n",
      "Epoch 38/40\n",
      "72/72 [==============================] - 48s 642ms/step - loss: 0.0350 - accuracy: 0.9893 - val_loss: 0.5240 - val_accuracy: 0.9457\n",
      "Epoch 39/40\n",
      "72/72 [==============================] - 47s 645ms/step - loss: 0.1579 - accuracy: 0.9700 - val_loss: 3.2278 - val_accuracy: 0.8546\n",
      "Epoch 40/40\n",
      "72/72 [==============================] - 48s 658ms/step - loss: 0.0252 - accuracy: 0.9934 - val_loss: 0.1580 - val_accuracy: 0.9580\n"
     ]
    }
   ],
   "source": [
    "from tensorflow.keras.callbacks import EarlyStopping\n",
    "es = EarlyStopping(patience = 5, verbose = 2)\n",
    "history = model_v3.fit(train_ds,\n",
    "                       validation_data=val_ds,\n",
    "                      #  callbacks = [es], \n",
    "                       epochs = 40 , \n",
    "                       batch_size = 64)"
   ]
  },
  {
   "cell_type": "code",
   "execution_count": null,
   "id": "6fc45864",
   "metadata": {
    "id": "6fc45864"
   },
   "outputs": [],
   "source": [
    "def plot_history(history):\n",
    "    fig, ax = plt.subplots(1, 2, figsize=(15,5))\n",
    "    ax[0].set_title('loss')\n",
    "    ax[0].plot(history.epoch, history.history[\"loss\"], label=\"Train loss\")\n",
    "    ax[0].plot(history.epoch, history.history[\"val_loss\"], label=\"Validation loss\")\n",
    "    ax[1].set_title('accuracy')\n",
    "    ax[1].plot(history.epoch, history.history[\"accuracy\"], label=\"Train acc\")\n",
    "    ax[1].plot(history.epoch, history.history[\"val_accuracy\"], label=\"Validation acc\")\n",
    "    ax[0].legend()\n",
    "    ax[1].legend()"
   ]
  },
  {
   "cell_type": "code",
   "execution_count": null,
   "id": "Q-6a4cBQ-wKt",
   "metadata": {
    "colab": {
     "base_uri": "https://localhost:8080/",
     "height": 336
    },
    "id": "Q-6a4cBQ-wKt",
    "outputId": "49ef912c-3581-466c-c68c-5251fcb174c8"
   },
   "outputs": [
    {
     "data": {
      "image/png": "[encoded data removed]",
      "text/plain": [
       "<Figure size 1080x360 with 2 Axes>"
      ]
     },
     "metadata": {
      "needs_background": "light"
     },
     "output_type": "display_data"
    }
   ],
   "source": [
    "plot_history(history)"
   ]
  },
  {
   "cell_type": "code",
   "execution_count": null,
   "id": "bb39ddcc",
   "metadata": {
    "colab": {
     "base_uri": "https://localhost:8080/"
    },
    "id": "bb39ddcc",
    "outputId": "86c7b5a2-93dc-4185-b232-37096f50bbeb"
   },
   "outputs": [
    {
     "name": "stdout",
     "output_type": "stream",
     "text": [
      "21/21 [==============================] - 167s 5s/step - loss: 0.1671 - accuracy: 0.9466\n"
     ]
    },
    {
     "data": {
      "text/plain": [
       "[0.16705766320228577, 0.9466056227684021]"
      ]
     },
     "execution_count": 23,
     "metadata": {},
     "output_type": "execute_result"
    }
   ],
   "source": [
    "model_v3.evaluate(test_ds)"
   ]
  },
  {
   "cell_type": "code",
   "execution_count": null,
   "id": "r4O6y_KzCMQz",
   "metadata": {
    "colab": {
     "base_uri": "https://localhost:8080/"
    },
    "id": "r4O6y_KzCMQz",
    "outputId": "6093c874-e6fe-4c92-cf27-d41fc1528f3c"
   },
   "outputs": [
    {
     "name": "stderr",
     "output_type": "stream",
     "text": [
      "WARNING:absl:Found untraced functions such as _jit_compiled_convolution_op, _jit_compiled_convolution_op, _jit_compiled_convolution_op, _jit_compiled_convolution_op, _jit_compiled_convolution_op while saving (showing 5 of 94). These functions will not be directly callable after loading.\n"
     ]
    }
   ],
   "source": [
    "from tensorflow.keras.models import save_model\n",
    "filepath = '/content/drive/MyDrive/Colab Notebooks/models'\n",
    "\n",
    "\n",
    "save_model(\n",
    "    model_v3,\n",
    "    filepath,\n",
    "    overwrite=True,\n",
    "    include_optimizer=True,\n",
    "    \n",
    "    )\n"
   ]
  },
  {
   "cell_type": "code",
   "execution_count": null,
   "id": "Jg7q4S3NTlxg",
   "metadata": {
    "id": "Jg7q4S3NTlxg"
   },
   "outputs": [],
   "source": [
    "model_v3.save('models/model_GoogleNet_Inception_v3.h5')"
   ]
  },
  {
   "cell_type": "code",
   "execution_count": 6,
   "id": "GEjH7ROhTz0U",
   "metadata": {
    "colab": {
     "base_uri": "https://localhost:8080/"
    },
    "id": "GEjH7ROhTz0U",
    "outputId": "806731fb-fe63-45c6-845a-5823cd9baead"
   },
   "outputs": [
    {
     "name": "stdout",
     "output_type": "stream",
     "text": [
      "ls: cannot access 'models': No such file or directory\r\n"
     ]
    }
   ],
   "source": [
    "!ls models"
   ]
  },
  {
   "cell_type": "code",
   "execution_count": null,
   "id": "cZDrTcdaT6i8",
   "metadata": {
    "colab": {
     "base_uri": "https://localhost:8080/"
    },
    "id": "cZDrTcdaT6i8",
    "outputId": "109d818a-048d-469c-8444-00d9ed5176fd"
   },
   "outputs": [
    {
     "name": "stdout",
     "output_type": "stream",
     "text": [
      "Model: \"sequential\"\n",
      "_________________________________________________________________\n",
      " Layer (type)                Output Shape              Param #   \n",
      "=================================================================\n",
      " lambda (Lambda)             (None, 255, 255, 3)       0         \n",
      "                                                                 \n",
      " inception_v3 (Functional)   (None, None, None, 2048)  21802784  \n",
      "                                                                 \n",
      " flatten (Flatten)           (None, 73728)             0         \n",
      "                                                                 \n",
      " dense (Dense)               (None, 4)                 294916    \n",
      "                                                                 \n",
      "=================================================================\n",
      "Total params: 22,097,700\n",
      "Trainable params: 22,063,268\n",
      "Non-trainable params: 34,432\n",
      "_________________________________________________________________\n"
     ]
    }
   ],
   "source": [
    "from tensorflow.keras.models import load_model\n",
    "model_test = load_model('models/model_GoogleNet_Inception_v3.h5')\n",
    "model_test.summary()"
   ]
  }
 ],
 "metadata": {
  "accelerator": "GPU",
  "colab": {
   "provenance": []
  },
  "gpuClass": "standard",
  "kernelspec": {
   "display_name": "braintumorclassification",
   "language": "python",
   "name": "python3"
  },
  "language_info": {
   "codemirror_mode": {
    "name": "ipython",
    "version": 3
   },
   "file_extension": ".py",
   "mimetype": "text/x-python",
   "name": "python",
   "nbconvert_exporter": "python",
   "pygments_lexer": "ipython3",
   "version": "3.10.6"
  },
  "toc": {
   "base_numbering": 1,
   "nav_menu": {},
   "number_sections": true,
   "sideBar": true,
   "skip_h1_title": false,
   "title_cell": "Table of Contents",
   "title_sidebar": "Contents",
   "toc_cell": false,
   "toc_position": {},
   "toc_section_display": true,
   "toc_window_display": false
  },
  "vscode": {
   "interpreter": {
    "hash": "06a116bea194c38c3beee2e26e0ff47698ac712b531f8a3710340a8261e96cf5"
   }
  }
 },
 "nbformat": 4,
 "nbformat_minor": 5
}
