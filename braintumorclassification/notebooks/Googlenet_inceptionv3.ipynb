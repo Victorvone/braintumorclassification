{
  "cells": [
    {
      "cell_type": "code",
      "execution_count": 1,
      "id": "2c418fae",
      "metadata": {
        "id": "2c418fae"
      },
      "outputs": [],
      "source": [
        "import os\n",
        "import numpy as np\n",
        "import pandas as pd\n",
        "from matplotlib.pyplot import imread\n",
        "import matplotlib.pyplot as plt\n",
        "from tensorflow.keras import Sequential, layers, optimizers\n",
        "from tensorflow.keras.layers import Conv2D, MaxPooling2D, Flatten, Dropout, Dense, Lambda"
      ]
    },
    {
      "cell_type": "code",
      "source": [
        "gpu_info = !nvidia-smi\n",
        "gpu_info = '\\n'.join(gpu_info)\n",
        "if gpu_info.find('failed') >= 0:\n",
        "  print('Not connected to a GPU')\n",
        "else:\n",
        "  print(gpu_info)"
      ],
      "metadata": {
        "colab": {
          "base_uri": "https://localhost:8080/"
        },
        "id": "YDTF7Huxy_VK",
        "outputId": "33ff4be9-7f6e-46f7-9525-156e39df815e"
      },
      "id": "YDTF7Huxy_VK",
      "execution_count": 2,
      "outputs": [
        {
          "output_type": "stream",
          "name": "stdout",
          "text": [
            "Fri Mar  3 18:46:38 2023       \n",
            "+-----------------------------------------------------------------------------+\n",
            "| NVIDIA-SMI 525.85.12    Driver Version: 525.85.12    CUDA Version: 12.0     |\n",
            "|-------------------------------+----------------------+----------------------+\n",
            "| GPU  Name        Persistence-M| Bus-Id        Disp.A | Volatile Uncorr. ECC |\n",
            "| Fan  Temp  Perf  Pwr:Usage/Cap|         Memory-Usage | GPU-Util  Compute M. |\n",
            "|                               |                      |               MIG M. |\n",
            "|===============================+======================+======================|\n",
            "|   0  Tesla T4            Off  | 00000000:00:04.0 Off |                    0 |\n",
            "| N/A   72C    P0    31W /  70W |      0MiB / 15360MiB |      0%      Default |\n",
            "|                               |                      |                  N/A |\n",
            "+-------------------------------+----------------------+----------------------+\n",
            "                                                                               \n",
            "+-----------------------------------------------------------------------------+\n",
            "| Processes:                                                                  |\n",
            "|  GPU   GI   CI        PID   Type   Process name                  GPU Memory |\n",
            "|        ID   ID                                                   Usage      |\n",
            "|=============================================================================|\n",
            "|  No running processes found                                                 |\n",
            "+-----------------------------------------------------------------------------+\n"
          ]
        }
      ]
    },
    {
      "cell_type": "code",
      "execution_count": 3,
      "id": "2ea66028",
      "metadata": {
        "id": "2ea66028"
      },
      "outputs": [],
      "source": [
        "from tensorflow.keras.utils import image_dataset_from_directory\n",
        "from tensorflow.keras import layers, optimizers, callbacks, applications\n",
        "from tensorflow.keras.preprocessing.image import array_to_img, img_to_array, load_img"
      ]
    },
    {
      "cell_type": "code",
      "execution_count": 4,
      "id": "5543b9d0",
      "metadata": {
        "id": "5543b9d0"
      },
      "outputs": [],
      "source": [
        "batch_size = 64"
      ]
    },
    {
      "cell_type": "code",
      "execution_count": 5,
      "id": "227361a2",
      "metadata": {
        "id": "227361a2",
        "colab": {
          "base_uri": "https://localhost:8080/"
        },
        "outputId": "00e3383d-afeb-4017-b04a-1403b5f5f829"
      },
      "outputs": [
        {
          "output_type": "stream",
          "name": "stdout",
          "text": [
            "Mounted at /content/drive\n"
          ]
        }
      ],
      "source": [
        "from google.colab import drive\n",
        "drive.mount('/content/drive')"
      ]
    },
    {
      "cell_type": "code",
      "execution_count": 6,
      "id": "8c6a4b3a",
      "metadata": {
        "id": "8c6a4b3a"
      },
      "outputs": [],
      "source": [
        "# os.chdir allows you to change directories, like cd in the Terminal\n",
        "os.chdir('drive/My Drive')"
      ]
    },
    {
      "cell_type": "code",
      "execution_count": 7,
      "id": "de2dacff",
      "metadata": {
        "id": "de2dacff",
        "colab": {
          "base_uri": "https://localhost:8080/"
        },
        "outputId": "9bdd17f4-5656-4d15-a70a-1682ec2bf7d6"
      },
      "outputs": [
        {
          "output_type": "stream",
          "name": "stdout",
          "text": [
            " 1628602417763.jpg\n",
            "'Colab Notebooks'\n",
            "'Getting started.pdf'\n",
            " IMG-bb1327fa43191fc40b07178ad760d4f1-V.jpg\n",
            " IMG-fa61f60c88278450511c3dd78d159f3f.jpg\n",
            "'Ivan Anđelković de.gdoc'\n",
            "'Ivan Anđelković de.pdf'\n",
            " Offer_Document_Ivan_Andelkovic.gdoc\n",
            " Offer_Document_Ivan_Andelkovic.pdf\n",
            "'Project Data Science LW'\n",
            "'RainmakerSociety_Group Financial Controller_Fitness industry.pdf'\n",
            " raw_data\n",
            "'Teme za ucenje Data Science.gsheet'\n"
          ]
        }
      ],
      "source": [
        "!ls"
      ]
    },
    {
      "cell_type": "code",
      "execution_count": 8,
      "id": "c04becf7",
      "metadata": {
        "id": "c04becf7"
      },
      "outputs": [],
      "source": [
        "# Let's store the location of our data in 2 variables that we can re use later\n",
        "\n",
        "train_data_dir = 'raw_data/Training'\n",
        "test_data_dir = 'raw_data/Testing'"
      ]
    },
    {
      "cell_type": "code",
      "execution_count": 9,
      "id": "4860e852",
      "metadata": {
        "id": "4860e852",
        "colab": {
          "base_uri": "https://localhost:8080/"
        },
        "outputId": "8c699633-a357-47d3-fe30-66e575d57b70"
      },
      "outputs": [
        {
          "output_type": "stream",
          "name": "stdout",
          "text": [
            "Found 5712 files belonging to 4 classes.\n",
            "Using 4570 files for training.\n",
            "Using 1142 files for validation.\n",
            "Found 1311 files belonging to 4 classes.\n"
          ]
        }
      ],
      "source": [
        "train_ds, val_ds = image_dataset_from_directory(\n",
        "  train_data_dir,\n",
        "  labels = \"inferred\",\n",
        "  label_mode = \"categorical\",\n",
        "  seed=123,\n",
        "  image_size=(255, 255),\n",
        "  validation_split = 0.2,\n",
        "  subset=\"both\",\n",
        "  color_mode = 'rgb',\n",
        "  batch_size= batch_size)\n",
        "\n",
        "# We define a second one for the test data\n",
        "\n",
        "test_ds = image_dataset_from_directory(\n",
        "  test_data_dir,\n",
        "  labels = \"inferred\",\n",
        "  label_mode = \"categorical\",\n",
        "  seed=123,\n",
        "  image_size=(255, 255),\n",
        "  color_mode = 'rgb',\n",
        "  batch_size= batch_size)"
      ]
    },
    {
      "cell_type": "code",
      "execution_count": 11,
      "id": "3fffcc69",
      "metadata": {
        "id": "3fffcc69",
        "colab": {
          "base_uri": "https://localhost:8080/"
        },
        "outputId": "4012131b-5b9b-4666-8240-606f87ae3993"
      },
      "outputs": [
        {
          "output_type": "execute_result",
          "data": {
            "text/plain": [
              "['glioma', 'meningioma', 'notumor', 'pituitary']"
            ]
          },
          "metadata": {},
          "execution_count": 11
        }
      ],
      "source": [
        "\n",
        "class_names = train_ds.class_names\n",
        "class_names"
      ]
    },
    {
      "cell_type": "code",
      "execution_count": 12,
      "id": "e67f654a",
      "metadata": {
        "id": "e67f654a",
        "colab": {
          "base_uri": "https://localhost:8080/"
        },
        "outputId": "bc5066e8-b38d-48c1-d75d-c8d39ba25b01"
      },
      "outputs": [
        {
          "output_type": "stream",
          "name": "stdout",
          "text": [
            "Downloading data from https://storage.googleapis.com/tensorflow/keras-applications/inception_v3/inception_v3_weights_tf_dim_ordering_tf_kernels_notop.h5\n",
            "87910968/87910968 [==============================] - 0s 0us/step\n"
          ]
        }
      ],
      "source": [
        "model_main = applications.inception_v3.InceptionV3(\n",
        "    include_top=False,\n",
        "    weights='imagenet',\n",
        "    input_tensor=None,\n",
        "    input_shape=None,\n",
        "    pooling=None,\n",
        "    classes=1000,\n",
        "    classifier_activation='softmax'\n",
        ")"
      ]
    },
    {
      "cell_type": "code",
      "execution_count": 13,
      "id": "70e60945",
      "metadata": {
        "id": "70e60945"
      },
      "outputs": [],
      "source": [
        "from tensorflow.keras.applications.inception_v3 import preprocess_input"
      ]
    },
    {
      "cell_type": "code",
      "execution_count": 14,
      "id": "5c632553",
      "metadata": {
        "id": "5c632553"
      },
      "outputs": [],
      "source": [
        "def initialize_model():\n",
        "    \n",
        "    model_v3 = Sequential([\n",
        "       Lambda(preprocess_input),\n",
        "        model_main,\n",
        "        Flatten(),\n",
        "        Dense(4, activation = 'softmax')\n",
        "        ])\n",
        "\n",
        "    return model_v3"
      ]
    },
    {
      "cell_type": "code",
      "execution_count": 15,
      "id": "8be61cd2",
      "metadata": {
        "id": "8be61cd2"
      },
      "outputs": [],
      "source": [
        "model_v3 = initialize_model()"
      ]
    },
    {
      "cell_type": "code",
      "execution_count": 16,
      "id": "f00ef087",
      "metadata": {
        "id": "f00ef087"
      },
      "outputs": [],
      "source": [
        "optimizer = optimizers.Adam(learning_rate=0.1)\n",
        "\n",
        "model_v3.compile(loss = 'categorical_crossentropy',\n",
        "                  optimizer = \"adam\",\n",
        "                  metrics = ['accuracy'])"
      ]
    },
    {
      "cell_type": "code",
      "execution_count": 17,
      "id": "1159792a",
      "metadata": {
        "id": "1159792a",
        "colab": {
          "base_uri": "https://localhost:8080/"
        },
        "outputId": "efe0fad7-5deb-429a-92f4-7d2cb4c9463f"
      },
      "outputs": [
        {
          "output_type": "stream",
          "name": "stdout",
          "text": [
            "Epoch 1/40\n",
            "72/72 [==============================] - 505s 6s/step - loss: 0.7992 - accuracy: 0.8540 - val_loss: 5.3806 - val_accuracy: 0.3021\n",
            "Epoch 2/40\n",
            "72/72 [==============================] - 53s 721ms/step - loss: 0.1937 - accuracy: 0.9418 - val_loss: 1.7620 - val_accuracy: 0.5543\n",
            "Epoch 3/40\n",
            "72/72 [==============================] - 50s 682ms/step - loss: 0.2350 - accuracy: 0.9236 - val_loss: 54.5453 - val_accuracy: 0.3748\n",
            "Epoch 4/40\n",
            "72/72 [==============================] - 52s 706ms/step - loss: 0.2866 - accuracy: 0.9116 - val_loss: 31.3892 - val_accuracy: 0.3021\n",
            "Epoch 5/40\n",
            "72/72 [==============================] - 50s 683ms/step - loss: 0.1112 - accuracy: 0.9611 - val_loss: 0.6372 - val_accuracy: 0.8301\n",
            "Epoch 6/40\n",
            "72/72 [==============================] - 52s 705ms/step - loss: 0.0669 - accuracy: 0.9781 - val_loss: 0.1763 - val_accuracy: 0.9580\n",
            "Epoch 7/40\n",
            "72/72 [==============================] - 51s 693ms/step - loss: 0.0359 - accuracy: 0.9869 - val_loss: 0.3022 - val_accuracy: 0.9299\n",
            "Epoch 8/40\n",
            "72/72 [==============================] - 50s 684ms/step - loss: 0.0578 - accuracy: 0.9847 - val_loss: 74.4707 - val_accuracy: 0.2697\n",
            "Epoch 9/40\n",
            "72/72 [==============================] - 51s 675ms/step - loss: 0.4218 - accuracy: 0.9171 - val_loss: 9720.0176 - val_accuracy: 0.2601\n",
            "Epoch 10/40\n",
            "72/72 [==============================] - 50s 680ms/step - loss: 0.1637 - accuracy: 0.9475 - val_loss: 28.6312 - val_accuracy: 0.7443\n",
            "Epoch 11/40\n",
            "72/72 [==============================] - 51s 693ms/step - loss: 0.0783 - accuracy: 0.9759 - val_loss: 0.4719 - val_accuracy: 0.9264\n",
            "Epoch 12/40\n",
            "72/72 [==============================] - 51s 693ms/step - loss: 0.0279 - accuracy: 0.9906 - val_loss: 0.1822 - val_accuracy: 0.9448\n",
            "Epoch 13/40\n",
            "72/72 [==============================] - 51s 689ms/step - loss: 0.0322 - accuracy: 0.9899 - val_loss: 0.1271 - val_accuracy: 0.9667\n",
            "Epoch 14/40\n",
            "72/72 [==============================] - 51s 691ms/step - loss: 0.1149 - accuracy: 0.9794 - val_loss: 8.3565 - val_accuracy: 0.4921\n",
            "Epoch 15/40\n",
            "72/72 [==============================] - 51s 687ms/step - loss: 0.1171 - accuracy: 0.9661 - val_loss: 11.1811 - val_accuracy: 0.7680\n",
            "Epoch 16/40\n",
            "72/72 [==============================] - 50s 679ms/step - loss: 0.0373 - accuracy: 0.9884 - val_loss: 0.1140 - val_accuracy: 0.9676\n",
            "Epoch 17/40\n",
            "72/72 [==============================] - 51s 695ms/step - loss: 0.0179 - accuracy: 0.9943 - val_loss: 0.1817 - val_accuracy: 0.9518\n",
            "Epoch 18/40\n",
            "72/72 [==============================] - 51s 689ms/step - loss: 0.0213 - accuracy: 0.9921 - val_loss: 0.0801 - val_accuracy: 0.9737\n",
            "Epoch 19/40\n",
            "72/72 [==============================] - 51s 690ms/step - loss: 0.0068 - accuracy: 0.9976 - val_loss: 0.0942 - val_accuracy: 0.9764\n",
            "Epoch 20/40\n",
            "72/72 [==============================] - 53s 713ms/step - loss: 0.0082 - accuracy: 0.9976 - val_loss: 0.1430 - val_accuracy: 0.9650\n",
            "Epoch 21/40\n",
            "72/72 [==============================] - 50s 678ms/step - loss: 0.0076 - accuracy: 0.9976 - val_loss: 0.1797 - val_accuracy: 0.9641\n",
            "Epoch 22/40\n",
            "72/72 [==============================] - 52s 688ms/step - loss: 0.3428 - accuracy: 0.9184 - val_loss: 1100.2062 - val_accuracy: 0.2601\n",
            "Epoch 23/40\n",
            "72/72 [==============================] - 51s 691ms/step - loss: 0.5487 - accuracy: 0.8580 - val_loss: 64660.6641 - val_accuracy: 0.2811\n",
            "Epoch 24/40\n",
            "72/72 [==============================] - 51s 684ms/step - loss: 0.1786 - accuracy: 0.9368 - val_loss: 64.1022 - val_accuracy: 0.6620\n",
            "Epoch 25/40\n",
            "72/72 [==============================] - 51s 676ms/step - loss: 0.0968 - accuracy: 0.9643 - val_loss: 0.4391 - val_accuracy: 0.9466\n",
            "Epoch 26/40\n",
            "72/72 [==============================] - 51s 689ms/step - loss: 0.0595 - accuracy: 0.9790 - val_loss: 0.1549 - val_accuracy: 0.9623\n",
            "Epoch 27/40\n",
            "72/72 [==============================] - 50s 683ms/step - loss: 0.0509 - accuracy: 0.9827 - val_loss: 0.1821 - val_accuracy: 0.9422\n",
            "Epoch 28/40\n",
            "72/72 [==============================] - 51s 694ms/step - loss: 0.0348 - accuracy: 0.9877 - val_loss: 0.1801 - val_accuracy: 0.9422\n",
            "Epoch 29/40\n",
            "72/72 [==============================] - 51s 686ms/step - loss: 0.0509 - accuracy: 0.9832 - val_loss: 0.1454 - val_accuracy: 0.9562\n",
            "Epoch 30/40\n",
            "72/72 [==============================] - 50s 682ms/step - loss: 0.0333 - accuracy: 0.9891 - val_loss: 0.1024 - val_accuracy: 0.9694\n",
            "Epoch 31/40\n",
            "72/72 [==============================] - 52s 693ms/step - loss: 0.0315 - accuracy: 0.9897 - val_loss: 0.2386 - val_accuracy: 0.9475\n",
            "Epoch 32/40\n",
            "72/72 [==============================] - 50s 678ms/step - loss: 0.0171 - accuracy: 0.9934 - val_loss: 0.1211 - val_accuracy: 0.9711\n",
            "Epoch 33/40\n",
            "72/72 [==============================] - 51s 696ms/step - loss: 0.0083 - accuracy: 0.9978 - val_loss: 0.1429 - val_accuracy: 0.9641\n",
            "Epoch 34/40\n",
            "72/72 [==============================] - 51s 692ms/step - loss: 0.0343 - accuracy: 0.9893 - val_loss: 0.1585 - val_accuracy: 0.9641\n",
            "Epoch 35/40\n",
            "72/72 [==============================] - 51s 684ms/step - loss: 0.0161 - accuracy: 0.9937 - val_loss: 0.4113 - val_accuracy: 0.8967\n",
            "Epoch 36/40\n",
            "72/72 [==============================] - 50s 677ms/step - loss: 0.0258 - accuracy: 0.9908 - val_loss: 0.1869 - val_accuracy: 0.9580\n",
            "Epoch 37/40\n",
            "72/72 [==============================] - 51s 697ms/step - loss: 0.0093 - accuracy: 0.9972 - val_loss: 0.1607 - val_accuracy: 0.9702\n",
            "Epoch 38/40\n",
            "72/72 [==============================] - 51s 693ms/step - loss: 0.0056 - accuracy: 0.9978 - val_loss: 0.1300 - val_accuracy: 0.9729\n",
            "Epoch 39/40\n",
            "72/72 [==============================] - 51s 691ms/step - loss: 0.0047 - accuracy: 0.9985 - val_loss: 0.1422 - val_accuracy: 0.9781\n",
            "Epoch 40/40\n",
            "72/72 [==============================] - 50s 682ms/step - loss: 0.0174 - accuracy: 0.9956 - val_loss: 0.3282 - val_accuracy: 0.9466\n"
          ]
        }
      ],
      "source": [
        "from tensorflow.keras.callbacks import EarlyStopping\n",
        "es = EarlyStopping(patience = 5, verbose = 2)\n",
        "history = model_v3.fit(train_ds,\n",
        "                       validation_data=val_ds,\n",
        "                      #  callbacks = [es], \n",
        "                       epochs = 40 , \n",
        "                       batch_size = 64)"
      ]
    },
    {
      "cell_type": "code",
      "execution_count": 18,
      "id": "6fc45864",
      "metadata": {
        "id": "6fc45864"
      },
      "outputs": [],
      "source": [
        "def plot_history(history):\n",
        "    fig, ax = plt.subplots(1, 2, figsize=(15,5))\n",
        "    ax[0].set_title('loss')\n",
        "    ax[0].plot(history.epoch, history.history[\"loss\"], label=\"Train loss\")\n",
        "    ax[0].plot(history.epoch, history.history[\"val_loss\"], label=\"Validation loss\")\n",
        "    ax[1].set_title('accuracy')\n",
        "    ax[1].plot(history.epoch, history.history[\"accuracy\"], label=\"Train acc\")\n",
        "    ax[1].plot(history.epoch, history.history[\"val_accuracy\"], label=\"Validation acc\")\n",
        "    ax[0].legend()\n",
        "    ax[1].legend()"
      ]
    },
    {
      "cell_type": "code",
      "source": [
        "plot_history(history)"
      ],
      "metadata": {
        "colab": {
          "base_uri": "https://localhost:8080/",
          "height": 336
        },
        "id": "Q-6a4cBQ-wKt",
        "outputId": "7e3f7f48-d630-4c37-fc49-996cf02efc50"
      },
      "id": "Q-6a4cBQ-wKt",
      "execution_count": 19,
      "outputs": [
        {
          "output_type": "display_data",
          "data": {
            "text/plain": [
              "<Figure size 1080x360 with 2 Axes>"
            ],
            "image/png": "[encoded data removed]"
          },
          "metadata": {
            "needs_background": "light"
          }
        }
      ]
    },
    {
      "cell_type": "code",
      "execution_count": 20,
      "id": "bb39ddcc",
      "metadata": {
        "id": "bb39ddcc",
        "colab": {
          "base_uri": "https://localhost:8080/"
        },
        "outputId": "e6a6a064-6f9d-4a83-ef5a-8e84f543581b"
      },
      "outputs": [
        {
          "output_type": "stream",
          "name": "stdout",
          "text": [
            "21/21 [==============================] - 137s 4s/step - loss: 0.2360 - accuracy: 0.9588\n"
          ]
        },
        {
          "output_type": "execute_result",
          "data": {
            "text/plain": [
              "[0.23597583174705505, 0.9588100910186768]"
            ]
          },
          "metadata": {},
          "execution_count": 20
        }
      ],
      "source": [
        "model_v3.evaluate(test_ds)"
      ]
    }
  ],
  "metadata": {
    "kernelspec": {
      "display_name": "Python 3 (ipykernel)",
      "language": "python",
      "name": "python3"
    },
    "language_info": {
      "codemirror_mode": {
        "name": "ipython",
        "version": 3
      },
      "file_extension": ".py",
      "mimetype": "text/x-python",
      "name": "python",
      "nbconvert_exporter": "python",
      "pygments_lexer": "ipython3",
      "version": "3.10.6"
    },
    "toc": {
      "base_numbering": 1,
      "nav_menu": {},
      "number_sections": true,
      "sideBar": true,
      "skip_h1_title": false,
      "title_cell": "Table of Contents",
      "title_sidebar": "Contents",
      "toc_cell": false,
      "toc_position": {},
      "toc_section_display": true,
      "toc_window_display": false
    },
    "colab": {
      "provenance": []
    },
    "gpuClass": "standard"
  },
  "nbformat": 4,
  "nbformat_minor": 5
}