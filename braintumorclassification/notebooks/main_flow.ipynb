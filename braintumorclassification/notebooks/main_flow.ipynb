{
 "cells": [
  {
   "cell_type": "code",
   "execution_count": 1,
   "metadata": {},
   "outputs": [
    {
     "name": "stderr",
     "output_type": "stream",
     "text": [
      "2023-03-11 11:05:24.322251: I tensorflow/core/platform/cpu_feature_guard.cc:193] This TensorFlow binary is optimized with oneAPI Deep Neural Network Library (oneDNN) to use the following CPU instructions in performance-critical operations:  AVX2 FMA\n",
      "To enable them in other operations, rebuild TensorFlow with the appropriate compiler flags.\n"
     ]
    }
   ],
   "source": [
    "from braintumorclassification.ml_logic.registry import load_model\n",
    "from braintumorclassification.ml_logic.preprocess_data import load_preprocess_image\n",
    "from braintumorclassification.ml_logic.predict_and_explain import predict_and_explain\n",
    "\n",
    "%load_ext autoreload\n",
    "%autoreload 2"
   ]
  },
  {
   "cell_type": "code",
   "execution_count": 4,
   "metadata": {},
   "outputs": [
    {
     "name": "stdout",
     "output_type": "stream",
     "text": [
      "\u001b[34m\n",
      "Load model from local disk...\u001b[0m\n",
      "- path: /Users/victorvoneisenhart-rothe/code/Victorvone/braintumorclassification/braintumorclassification/models/ResNet50v2.h5\n",
      "\n",
      "✅ model loaded from disk\n"
     ]
    }
   ],
   "source": [
    "model = load_model()"
   ]
  },
  {
   "cell_type": "code",
   "execution_count": 5,
   "metadata": {},
   "outputs": [
    {
     "name": "stdout",
     "output_type": "stream",
     "text": [
      "Model: \"sequential_2\"\n",
      "_________________________________________________________________\n",
      " Layer (type)                Output Shape              Param #   \n",
      "=================================================================\n",
      " model_8 (Functional)        (None, 8, 8, 2048)        23587712  \n",
      "                                                                 \n",
      " conv2d_2 (Conv2D)           (None, 8, 8, 16)          294928    \n",
      "                                                                 \n",
      " flatten_2 (Flatten)         (None, 1024)              0         \n",
      "                                                                 \n",
      " dense_5 (Dense)             (None, 50)                51250     \n",
      "                                                                 \n",
      " dropout_3 (Dropout)         (None, 50)                0         \n",
      "                                                                 \n",
      " dense_6 (Dense)             (None, 20)                1020      \n",
      "                                                                 \n",
      " dropout_4 (Dropout)         (None, 20)                0         \n",
      "                                                                 \n",
      " dense_7 (Dense)             (None, 4)                 84        \n",
      "                                                                 \n",
      "=================================================================\n",
      "Total params: 23,934,994\n",
      "Trainable params: 347,282\n",
      "Non-trainable params: 23,587,712\n",
      "_________________________________________________________________\n"
     ]
    }
   ],
   "source": [
    "model.summary()"
   ]
  },
  {
   "cell_type": "code",
   "execution_count": 8,
   "metadata": {},
   "outputs": [],
   "source": [
    "image_path = '/Users/victorvoneisenhart-rothe/code/Victorvone/braintumorclassification/braintumorclassification/raw_data/Testing/pituitary/Te-pi_0012.jpg'\n",
    "image = load_preprocess_image(image_path)"
   ]
  },
  {
   "cell_type": "code",
   "execution_count": 9,
   "metadata": {},
   "outputs": [
    {
     "name": "stdout",
     "output_type": "stream",
     "text": [
      "1/1 [==============================] - 2s 2s/step\n",
      "32/32 [==============================] - 93s 3s/step\n"
     ]
    },
    {
     "name": "stderr",
     "output_type": "stream",
     "text": [
      "/Users/victorvoneisenhart-rothe/code/Victorvone/braintumorclassification/braintumorclassification/ml_logic/predict_and_explain.py:59: UserWarning: Unsupported model architecture for VanillaGradients. The last two layers of the model should be: a layer which computes class scores with no activation, followed by an activation layer.\n",
      "  grid_vanillagrad = Vanillagrad.explain(image_tuple, model, class_index=class_index)\n"
     ]
    }
   ],
   "source": [
    "result = predict_and_explain(model, image)"
   ]
  }
 ],
 "metadata": {
  "kernelspec": {
   "display_name": "braintumorclassification",
   "language": "python",
   "name": "python3"
  },
  "language_info": {
   "codemirror_mode": {
    "name": "ipython",
    "version": 3
   },
   "file_extension": ".py",
   "mimetype": "text/x-python",
   "name": "python",
   "nbconvert_exporter": "python",
   "pygments_lexer": "ipython3",
   "version": "3.10.6"
  },
  "orig_nbformat": 4,
  "vscode": {
   "interpreter": {
    "hash": "06a116bea194c38c3beee2e26e0ff47698ac712b531f8a3710340a8261e96cf5"
   }
  }
 },
 "nbformat": 4,
 "nbformat_minor": 2
}
