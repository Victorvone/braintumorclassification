{
  "cells": [
    {
      "cell_type": "code",
      "execution_count": null,
      "metadata": {
        "colab": {
          "base_uri": "https://localhost:8080/"
        },
        "id": "7gxJVRrDSJdz",
        "outputId": "1e2846a7-d54a-4d3c-efbc-fd208de76d62"
      },
      "outputs": [
        {
          "name": "stdout",
          "output_type": "stream",
          "text": [
            "/content\n"
          ]
        }
      ],
      "source": [
        "!pwd"
      ]
    },
    {
      "cell_type": "code",
      "execution_count": 1,
      "metadata": {
        "colab": {
          "base_uri": "https://localhost:8080/"
        },
        "id": "UzFh16W_Pg_2",
        "outputId": "d9edecb5-9e08-41bc-db25-71eb85622b22"
      },
      "outputs": [
        {
          "name": "stdout",
          "output_type": "stream",
          "text": [
            "Mounted at /content/drive\n"
          ]
        }
      ],
      "source": [
        "from google.colab import drive\n",
        "drive.mount('/content/drive')\n"
      ]
    },
    {
      "cell_type": "code",
      "execution_count": 5,
      "metadata": {
        "id": "mgaMygntRdwG"
      },
      "outputs": [],
      "source": [
        "import os\n",
        "import numpy as np\n",
        "import pandas as pd\n",
        "from matplotlib.pyplot import imread\n",
        "import matplotlib.pyplot as plt\n",
        "import cv2\n",
        "from scipy import stats\n",
        "from tensorflow.keras.utils import to_categorical\n",
        "from tqdm import tqdm\n",
        "from PIL import Image\n",
        "import tensorflow as tf\n",
        "from tensorflow.keras.utils import image_dataset_from_directory\n",
        "from tensorflow.keras.models import Sequential, Model\n",
        "from tensorflow.keras import layers, optimizers, callbacks\n",
        "from tensorflow.keras.preprocessing.image import array_to_img, img_to_array, load_img\n",
        "from tensorflow.keras.applications.vgg16 import VGG16, preprocess_input\n",
        "from tensorflow.keras.models import Model"
      ]
    },
    {
      "cell_type": "code",
      "execution_count": null,
      "metadata": {
        "id": "z-Bbnrylqlk9"
      },
      "outputs": [],
      "source": [
        "# os.chdir allows you to change directories, like cd in the Terminal\n",
        "os.chdir('/content/drive/MyDrive/Colab Notebooks/raw_data')"
      ]
    },
    {
      "cell_type": "code",
      "execution_count": 2,
      "metadata": {
        "id": "X1yMTY9DZZuF"
      },
      "outputs": [],
      "source": [
        "# Let's store the location of our data in 2 variables that we can re use later\n",
        "\n",
        "train_data_dir = '/content/drive/MyDrive/Colab Notebooks/raw_data/Training'\n",
        "test_data_dir = '/content/drive/MyDrive/Colab Notebooks/raw_data/Testing'"
      ]
    },
    {
      "cell_type": "code",
      "execution_count": 3,
      "metadata": {
        "id": "6IhUg1t9ZHWb"
      },
      "outputs": [],
      "source": [
        "batch_size = 64"
      ]
    },
    {
      "cell_type": "markdown",
      "metadata": {
        "id": "4oP1KfGca35r"
      },
      "source": [
        "Here, we'll create a `Tensorflow Datasets` object. \n",
        "This will allow us to: \n",
        "\n",
        "\n",
        "*   Grab images from our directory batch by batch, we won't load the FULL data at the same time\n",
        "*   Reshape all the images to our desired input shape, 255x255 in this recap"
      ]
    },
    {
      "cell_type": "markdown",
      "metadata": {
        "id": "7oSJvXlCa5Cl"
      },
      "source": [
        "We have to specify different things:\n",
        "\n",
        "\n",
        "*   Where the data is located (that's why we saved the folder name in a variable)\n",
        "*   The target size to resize our images so they fit our model\n",
        "*   The Batch size\n",
        "*   The \"label mode\", here we say categorical, and the classes will be infered based on the folders name.\n",
        "*   Here the labels are inferred based on the folder structure"
      ]
    },
    {
      "cell_type": "code",
      "execution_count": 6,
      "metadata": {
        "colab": {
          "base_uri": "https://localhost:8080/"
        },
        "id": "pa69Dm7XY2rR",
        "outputId": "b9f614e6-6f80-495c-edfc-d07799f70c4b"
      },
      "outputs": [
        {
          "name": "stdout",
          "output_type": "stream",
          "text": [
            "Found 5712 files belonging to 4 classes.\n",
            "Using 4570 files for training.\n",
            "Using 1142 files for validation.\n",
            "Found 1311 files belonging to 4 classes.\n"
          ]
        }
      ],
      "source": [
        "train_ds, val_ds = image_dataset_from_directory(\n",
        "  train_data_dir,\n",
        "  labels = \"inferred\",\n",
        "  label_mode = \"categorical\",\n",
        "  seed=123,\n",
        "  image_size=(255, 255),\n",
        "  validation_split = 0.2,\n",
        "  subset=\"both\",\n",
        "  color_mode = 'rgb',\n",
        "  batch_size= batch_size)\n",
        "\n",
        "# We define a second one for the test data\n",
        "\n",
        "test_ds = image_dataset_from_directory(\n",
        "  test_data_dir,\n",
        "  labels = \"inferred\",\n",
        "  label_mode = \"categorical\",\n",
        "  seed=123,\n",
        "  image_size=(255, 255),\n",
        "  color_mode = 'rgb',\n",
        "  batch_size= batch_size)"
      ]
    },
    {
      "cell_type": "code",
      "execution_count": 7,
      "metadata": {
        "colab": {
          "base_uri": "https://localhost:8080/"
        },
        "id": "6uYgkacRaTmE",
        "outputId": "df8acc1f-94dc-4c50-c484-a84c2d160458"
      },
      "outputs": [
        {
          "name": "stdout",
          "output_type": "stream",
          "text": [
            "['glioma', 'meningioma', 'notumor', 'pituitary']\n"
          ]
        }
      ],
      "source": [
        "class_names = train_ds.class_names\n",
        "print(class_names)"
      ]
    },
    {
      "cell_type": "code",
      "execution_count": null,
      "metadata": {
        "id": "WBHCdBj0BCtN"
      },
      "outputs": [],
      "source": []
    },
    {
      "cell_type": "markdown",
      "metadata": {
        "id": "T9BVCUuRbk-J"
      },
      "source": [
        "### Model with Transfer Learning  - VGG16"
      ]
    },
    {
      "cell_type": "code",
      "execution_count": 8,
      "metadata": {
        "colab": {
          "base_uri": "https://localhost:8080/"
        },
<<<<<<< HEAD
        "id": "gRXzOD-AbMCf",
        "outputId": "6c2bbc3e-7486-4e93-84f7-a07a31e3eba7"
=======
        "outputId": "370f5846-9108-47f5-f8de-ff8863a8fb0b"
>>>>>>> 829673f1940f57eec99f86cc0f01af4ecf609610
      },
      "outputs": [
        {
          "name": "stdout",
          "output_type": "stream",
          "text": [
            "Downloading data from https://storage.googleapis.com/tensorflow/keras-applications/vgg16/vgg16_weights_tf_dim_ordering_tf_kernels_notop.h5\n",
            "58889256/58889256 [==============================] - 0s 0us/step\n"
          ]
        }
      ],
      "source": [
        "base_model = VGG16(weights = \"imagenet\", include_top = False, input_shape = (255, 255, 3))"
      ]
    },
    {
      "cell_type": "code",
      "execution_count": 9,
      "metadata": {
        "id": "haYhL1gbbrt3"
      },
      "outputs": [],
      "source": [
        "# First step is to initialize the VGG16 model but without the top as we'll adapt it to our problem\n",
        "\n",
        "\n",
        "inputs = layers.Input(shape = (255, 255, 3))\n",
        "\n",
        "#x = data_augmentation(inputs) # We still have our data augmentation layers\n",
        "x = preprocess_input(inputs) # Then a preprocessing layer specifically designed for the VGG16\n",
        "x = base_model(x) # Then our transfer learning model\n",
        "\n",
        "x = layers.Flatten()(x) # Followed by our custom dense layers, tailored to our binary task\n",
        "\n",
        "x = layers.Dense(128, activation = \"relu\")(x)\n",
        "x = layers.Dropout(0.3)(x)\n",
        "x = layers.Dense(64, activation = \"relu\")(x)\n",
        "x = layers.Dropout(0.3)(x)\n",
        "pred = layers.Dense(4, activation = \"softmax\")(x)\n",
        "\n",
        "# We use the keras Functional API to create our keras model\n",
        "\n",
        "model_1 = Model(inputs = inputs , outputs = pred)\n",
        "\n",
        "# And we freeze the VGG16 model\n",
        "\n",
        "base_model.trainable = False"
      ]
    },
    {
      "cell_type": "code",
      "execution_count": 10,
      "metadata": {
        "colab": {
          "base_uri": "https://localhost:8080/"
        },
        "id": "Akk6lyQWchRv",
        "outputId": "c60b4b11-8037-46a7-fd0f-624cb2edae88"
      },
      "outputs": [
        {
          "name": "stdout",
          "output_type": "stream",
          "text": [
            "Model: \"model\"\n",
            "_________________________________________________________________\n",
            " Layer (type)                Output Shape              Param #   \n",
            "=================================================================\n",
            " input_2 (InputLayer)        [(None, 255, 255, 3)]     0         \n",
            "                                                                 \n",
            " tf.__operators__.getitem (S  (None, 255, 255, 3)      0         \n",
            " licingOpLambda)                                                 \n",
            "                                                                 \n",
            " tf.nn.bias_add (TFOpLambda)  (None, 255, 255, 3)      0         \n",
            "                                                                 \n",
            " vgg16 (Functional)          (None, 7, 7, 512)         14714688  \n",
            "                                                                 \n",
            " flatten (Flatten)           (None, 25088)             0         \n",
            "                                                                 \n",
            " dense (Dense)               (None, 128)               3211392   \n",
            "                                                                 \n",
            " dropout (Dropout)           (None, 128)               0         \n",
            "                                                                 \n",
            " dense_1 (Dense)             (None, 64)                8256      \n",
            "                                                                 \n",
            " dropout_1 (Dropout)         (None, 64)                0         \n",
            "                                                                 \n",
            " dense_2 (Dense)             (None, 4)                 260       \n",
            "                                                                 \n",
            "=================================================================\n",
            "Total params: 17,934,596\n",
            "Trainable params: 3,219,908\n",
            "Non-trainable params: 14,714,688\n",
            "_________________________________________________________________\n"
          ]
        }
      ],
      "source": [
        "model_1.summary()"
      ]
    },
    {
      "cell_type": "code",
      "execution_count": 11,
      "metadata": {
        "id": "RAg3yuw_ciD6"
      },
      "outputs": [],
      "source": [
        "adam = optimizers.Adam(learning_rate = 0.001)\n",
        "model_1.compile(loss='categorical_crossentropy',\n",
        "              optimizer=adam,\n",
        "              metrics=['accuracy'])"
      ]
    },
    {
      "cell_type": "markdown",
      "metadata": {
        "id": "JS1fV2HXaeKi"
      },
      "source": [
        "Here we'll create our callbacks. Those functions will be called at the end of every single epoch. \n",
        "We'll use: \n",
        "\n",
        "\n",
        "*   `ModelCheckpoint` to save the best version of our model after every epoch \n",
        "*   `ReduceLROnPlateau` to reduce the `learning_rate` if the model doesn't get better after a few epochs\n",
        "*   `EarlyStopping` to stop the training after a certain time if it's not improving\n",
        "\n"
      ]
    },
    {
      "cell_type": "code",
      "execution_count": 12,
      "metadata": {
        "id": "aBryvJZJaczZ"
      },
      "outputs": [],
      "source": [
        "MODEL = \"model_1\"\n",
        "\n",
        "modelCheckpoint = callbacks.ModelCheckpoint(\"{}.h5\".format(MODEL), monitor=\"val_loss\", verbose=0, save_best_only=True)\n",
        "\n",
        "LRreducer = callbacks.ReduceLROnPlateau(monitor=\"val_loss\", factor = 0.1, patience=3, verbose=1, min_lr=0)\n",
        "\n",
        "EarlyStopper = callbacks.EarlyStopping(monitor='val_loss', patience=10, verbose=0, restore_best_weights=True)"
      ]
    },
    {
      "cell_type": "code",
      "execution_count": 13,
      "metadata": {
        "colab": {
          "base_uri": "https://localhost:8080/"
        },
        "id": "QMDPaihJbs0a",
        "outputId": "98004467-fa9b-4762-d86c-26dc60c5fd1e"
      },
      "outputs": [
        {
          "name": "stdout",
          "output_type": "stream",
          "text": [
            "Epoch 1/40\n",
            "72/72 [==============================] - 518s 6s/step - loss: 3.2316 - accuracy: 0.6287 - val_loss: 0.6228 - val_accuracy: 0.8599 - lr: 0.0010\n",
            "Epoch 2/40\n",
            "72/72 [==============================] - 36s 479ms/step - loss: 0.7530 - accuracy: 0.7810 - val_loss: 0.5274 - val_accuracy: 0.8967 - lr: 0.0010\n",
            "Epoch 3/40\n",
            "72/72 [==============================] - 32s 431ms/step - loss: 0.5965 - accuracy: 0.8162 - val_loss: 0.4181 - val_accuracy: 0.8993 - lr: 0.0010\n",
            "Epoch 4/40\n",
            "72/72 [==============================] - 33s 437ms/step - loss: 0.4426 - accuracy: 0.8593 - val_loss: 0.3761 - val_accuracy: 0.9089 - lr: 0.0010\n",
            "Epoch 5/40\n",
            "72/72 [==============================] - 33s 442ms/step - loss: 0.4855 - accuracy: 0.8418 - val_loss: 0.4509 - val_accuracy: 0.8905 - lr: 0.0010\n",
            "Epoch 6/40\n",
            "72/72 [==============================] - 37s 499ms/step - loss: 0.4145 - accuracy: 0.8613 - val_loss: 0.4329 - val_accuracy: 0.9054 - lr: 0.0010\n",
            "Epoch 7/40\n",
            "72/72 [==============================] - 34s 450ms/step - loss: 0.3741 - accuracy: 0.8755 - val_loss: 0.3079 - val_accuracy: 0.9264 - lr: 0.0010\n",
            "Epoch 8/40\n",
            "72/72 [==============================] - 33s 447ms/step - loss: 0.3202 - accuracy: 0.8950 - val_loss: 0.3445 - val_accuracy: 0.9124 - lr: 0.0010\n",
            "Epoch 9/40\n",
            "72/72 [==============================] - 33s 447ms/step - loss: 0.3204 - accuracy: 0.8961 - val_loss: 0.4342 - val_accuracy: 0.9168 - lr: 0.0010\n",
            "Epoch 10/40\n",
            "72/72 [==============================] - ETA: 0s - loss: 0.2901 - accuracy: 0.9020\n",
            "Epoch 10: ReduceLROnPlateau reducing learning rate to 0.00010000000474974513.\n",
            "72/72 [==============================] - 33s 448ms/step - loss: 0.2901 - accuracy: 0.9020 - val_loss: 0.3576 - val_accuracy: 0.9343 - lr: 0.0010\n",
            "Epoch 11/40\n",
            "72/72 [==============================] - 34s 454ms/step - loss: 0.2666 - accuracy: 0.9175 - val_loss: 0.3014 - val_accuracy: 0.9422 - lr: 1.0000e-04\n",
            "Epoch 12/40\n",
            "72/72 [==============================] - 34s 453ms/step - loss: 0.2096 - accuracy: 0.9328 - val_loss: 0.3259 - val_accuracy: 0.9457 - lr: 1.0000e-04\n",
            "Epoch 13/40\n",
            "72/72 [==============================] - 33s 447ms/step - loss: 0.2046 - accuracy: 0.9359 - val_loss: 0.3431 - val_accuracy: 0.9413 - lr: 1.0000e-04\n",
            "Epoch 14/40\n",
            "72/72 [==============================] - ETA: 0s - loss: 0.1920 - accuracy: 0.9389\n",
            "Epoch 14: ReduceLROnPlateau reducing learning rate to 1.0000000474974514e-05.\n",
            "72/72 [==============================] - 37s 497ms/step - loss: 0.1920 - accuracy: 0.9389 - val_loss: 0.3740 - val_accuracy: 0.9405 - lr: 1.0000e-04\n",
            "Epoch 15/40\n",
            "72/72 [==============================] - 33s 447ms/step - loss: 0.1788 - accuracy: 0.9460 - val_loss: 0.3779 - val_accuracy: 0.9396 - lr: 1.0000e-05\n",
            "Epoch 16/40\n",
            "72/72 [==============================] - 33s 449ms/step - loss: 0.1805 - accuracy: 0.9429 - val_loss: 0.3797 - val_accuracy: 0.9405 - lr: 1.0000e-05\n",
            "Epoch 17/40\n",
            "72/72 [==============================] - ETA: 0s - loss: 0.1754 - accuracy: 0.9453\n",
            "Epoch 17: ReduceLROnPlateau reducing learning rate to 1.0000000656873453e-06.\n",
            "72/72 [==============================] - 33s 447ms/step - loss: 0.1754 - accuracy: 0.9453 - val_loss: 0.3820 - val_accuracy: 0.9396 - lr: 1.0000e-05\n",
            "Epoch 18/40\n",
            "72/72 [==============================] - 33s 448ms/step - loss: 0.1745 - accuracy: 0.9457 - val_loss: 0.3826 - val_accuracy: 0.9396 - lr: 1.0000e-06\n",
            "Epoch 19/40\n",
            "72/72 [==============================] - 34s 449ms/step - loss: 0.1885 - accuracy: 0.9398 - val_loss: 0.3825 - val_accuracy: 0.9396 - lr: 1.0000e-06\n",
            "Epoch 20/40\n",
            "72/72 [==============================] - ETA: 0s - loss: 0.1720 - accuracy: 0.9470\n",
            "Epoch 20: ReduceLROnPlateau reducing learning rate to 1.0000001111620805e-07.\n",
            "72/72 [==============================] - 33s 449ms/step - loss: 0.1720 - accuracy: 0.9470 - val_loss: 0.3824 - val_accuracy: 0.9396 - lr: 1.0000e-06\n",
            "Epoch 21/40\n",
            "72/72 [==============================] - 38s 504ms/step - loss: 0.1811 - accuracy: 0.9422 - val_loss: 0.3824 - val_accuracy: 0.9396 - lr: 1.0000e-07\n"
          ]
        }
      ],
      "source": [
        "history_1 = model_1.fit(\n",
        "        train_ds,\n",
        "        epochs=40,\n",
        "        validation_data=val_ds,\n",
        "        callbacks = [modelCheckpoint, LRreducer, EarlyStopper])"
      ]
    },
    {
      "cell_type": "code",
      "execution_count": 14,
      "metadata": {
        "id": "ZXFb9tfabs8e"
      },
      "outputs": [],
      "source": [
        "def plot_history(history):\n",
        "    fig, ax = plt.subplots(1, 2, figsize=(15,5))\n",
        "    ax[0].set_title('loss')\n",
        "    ax[0].plot(history.epoch, history.history[\"loss\"], label=\"Train loss\")\n",
        "    ax[0].plot(history.epoch, history.history[\"val_loss\"], label=\"Validation loss\")\n",
        "    ax[1].set_title('accuracy')\n",
        "    ax[1].plot(history.epoch, history.history[\"accuracy\"], label=\"Train acc\")\n",
        "    ax[1].plot(history.epoch, history.history[\"val_accuracy\"], label=\"Validation acc\")\n",
        "    ax[0].legend()\n",
        "    ax[1].legend()"
      ]
    },
    {
      "cell_type": "code",
      "execution_count": 15,
      "metadata": {
        "colab": {
          "base_uri": "https://localhost:8080/",
          "height": 336
        },
        "id": "tcaNAvcSbs_d",
        "outputId": "d18cb9af-2685-40ce-d6ad-2521d90d6fba"
      },
      "outputs": [
        {
          "data": {
            "image/png": "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",
            "text/plain": [
              "<Figure size 1080x360 with 2 Axes>"
<<<<<<< HEAD
            ]
=======
            ],
            "image/png": "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\n"
>>>>>>> 829673f1940f57eec99f86cc0f01af4ecf609610
          },
          "metadata": {
            "needs_background": "light"
          },
          "output_type": "display_data"
        }
      ],
      "source": [
        "plot_history(history_1)"
      ]
    },
    {
      "cell_type": "code",
      "execution_count": 16,
      "metadata": {
        "colab": {
          "base_uri": "https://localhost:8080/"
        },
        "id": "foWDrYeiujVi",
        "outputId": "907a1253-c12e-4715-a387-463ed26c2973"
      },
      "outputs": [
        {
          "name": "stdout",
          "output_type": "stream",
          "text": [
            "21/21 [==============================] - 118s 3s/step - loss: 0.3849 - accuracy: 0.9191\n"
          ]
        },
        {
          "data": {
            "text/plain": [
              "[0.38487136363983154, 0.9191457033157349]"
            ]
          },
          "execution_count": 17,
          "metadata": {},
<<<<<<< HEAD
          "output_type": "execute_result"
=======
          "execution_count": 16
>>>>>>> 829673f1940f57eec99f86cc0f01af4ecf609610
        }
      ],
      "source": [
        "model_1.evaluate(test_ds)"
      ]
    },
    {
      "cell_type": "code",
      "source": [
        "import tensorflow as tf"
      ],
      "metadata": {
        "id": "viqUkFNzgceK"
      },
      "execution_count": 22,
      "outputs": []
    },
    {
      "cell_type": "code",
      "source": [
        "#Model save\n",
        "tf.keras.models.save_model(model_1, 'VGG16.h5')"
      ],
      "metadata": {
        "id": "7xQF-J81hZoa"
      },
      "execution_count": 26,
      "outputs": []
    },
    {
      "cell_type": "code",
      "execution_count": null,
      "metadata": {
        "id": "PjlpqyO4m0yT"
      },
      "outputs": [],
      "source": [
        "from PIL import Image\n",
        "import requests\n",
        "from io import BytesIO"
      ]
    },
    {
      "cell_type": "code",
      "execution_count": 27,
      "metadata": {
        "colab": {
          "base_uri": "https://localhost:8080/"
        },
        "id": "4nLgyns-ofyJ",
        "outputId": "8e74d19a-9710-4f0a-846b-50ba3ecb763f"
      },
      "outputs": [
        {
          "output_type": "stream",
          "name": "stdout",
          "text": [
            "Saved model location: /content\n"
          ]
        }
      ],
      "source": [
        "model_dir = os.path.dirname(os.path.abspath('my_model.h5'))\n",
        "print(\"Saved model location:\", model_dir)"
      ]
    },
    {
      "cell_type": "code",
      "source": [
        "#model_1.save(VGG16.h5)"
      ],
      "metadata": {
        "id": "bAvDn1SEiI4R"
      },
      "execution_count": null,
      "outputs": []
    }
  ],
  "metadata": {
    "accelerator": "GPU",
    "colab": {
      "provenance": []
    },
    "gpuClass": "standard",
    "kernelspec": {
      "display_name": "braintumorclassification",
      "language": "python",
      "name": "python3"
    },
    "language_info": {
      "name": "python",
      "version": "3.10.6"
    },
    "vscode": {
      "interpreter": {
        "hash": "06a116bea194c38c3beee2e26e0ff47698ac712b531f8a3710340a8261e96cf5"
      }
    }
  },
  "nbformat": 4,
  "nbformat_minor": 0
}
