{
  "cells": [
    {
      "cell_type": "code",
      "execution_count": null,
      "metadata": {
        "colab": {
          "base_uri": "https://localhost:8080/"
        },
        "id": "7gxJVRrDSJdz",
        "outputId": "1e2846a7-d54a-4d3c-efbc-fd208de76d62"
      },
      "outputs": [
        {
          "name": "stdout",
          "output_type": "stream",
          "text": [
            "/content\n"
          ]
        }
      ],
      "source": [
        "!pwd"
      ]
    },
    {
      "cell_type": "code",
      "execution_count": 1,
      "metadata": {
        "colab": {
          "base_uri": "https://localhost:8080/"
        },
        "id": "UzFh16W_Pg_2",
        "outputId": "d9edecb5-9e08-41bc-db25-71eb85622b22"
      },
      "outputs": [
        {
          "output_type": "stream",
          "name": "stdout",
          "text": [
            "Mounted at /content/drive\n"
          ]
        }
      ],
      "source": [
        "from google.colab import drive\n",
        "drive.mount('/content/drive')\n"
      ]
    },
    {
      "cell_type": "code",
      "execution_count": 5,
      "metadata": {
        "id": "mgaMygntRdwG"
      },
      "outputs": [],
      "source": [
        "import os\n",
        "import numpy as np\n",
        "import pandas as pd\n",
        "from matplotlib.pyplot import imread\n",
        "import matplotlib.pyplot as plt\n",
        "import cv2\n",
        "from scipy import stats\n",
        "from tensorflow.keras.utils import to_categorical\n",
        "from tqdm import tqdm\n",
        "from PIL import Image\n",
        "import tensorflow as tf\n",
        "from tensorflow.keras.utils import image_dataset_from_directory\n",
        "from tensorflow.keras.models import Sequential, Model\n",
        "from tensorflow.keras import layers, optimizers, callbacks\n",
        "from tensorflow.keras.preprocessing.image import array_to_img, img_to_array, load_img\n",
        "from tensorflow.keras.applications.vgg16 import VGG16, preprocess_input\n",
        "from tensorflow.keras.models import Model"
      ]
    },
    {
      "cell_type": "code",
      "execution_count": null,
      "metadata": {
        "id": "z-Bbnrylqlk9"
      },
      "outputs": [],
      "source": [
        "# os.chdir allows you to change directories, like cd in the Terminal\n",
        "os.chdir('/content/drive/MyDrive/Colab Notebooks/raw_data')"
      ]
    },
    {
      "cell_type": "code",
      "execution_count": 2,
      "metadata": {
        "id": "X1yMTY9DZZuF"
      },
      "outputs": [],
      "source": [
        "# Let's store the location of our data in 2 variables that we can re use later\n",
        "\n",
        "train_data_dir = '/content/drive/MyDrive/Colab Notebooks/raw_data/Training'\n",
        "test_data_dir = '/content/drive/MyDrive/Colab Notebooks/raw_data/Testing'"
      ]
    },
    {
      "cell_type": "code",
      "execution_count": 3,
      "metadata": {
        "id": "6IhUg1t9ZHWb"
      },
      "outputs": [],
      "source": [
        "batch_size = 64"
      ]
    },
    {
      "cell_type": "markdown",
      "metadata": {
        "id": "4oP1KfGca35r"
      },
      "source": [
        "Here, we'll create a `Tensorflow Datasets` object. \n",
        "This will allow us to: \n",
        "\n",
        "\n",
        "*   Grab images from our directory batch by batch, we won't load the FULL data at the same time\n",
        "*   Reshape all the images to our desired input shape, 255x255 in this recap"
      ]
    },
    {
      "cell_type": "markdown",
      "metadata": {
        "id": "7oSJvXlCa5Cl"
      },
      "source": [
        "We have to specify different things:\n",
        "\n",
        "\n",
        "*   Where the data is located (that's why we saved the folder name in a variable)\n",
        "*   The target size to resize our images so they fit our model\n",
        "*   The Batch size\n",
        "*   The \"label mode\", here we say categorical, and the classes will be infered based on the folders name.\n",
        "*   Here the labels are inferred based on the folder structure"
      ]
    },
    {
      "cell_type": "code",
      "execution_count": 6,
      "metadata": {
        "colab": {
          "base_uri": "https://localhost:8080/"
        },
        "id": "pa69Dm7XY2rR",
        "outputId": "b9f614e6-6f80-495c-edfc-d07799f70c4b"
      },
      "outputs": [
        {
          "output_type": "stream",
          "name": "stdout",
          "text": [
            "Found 5712 files belonging to 4 classes.\n",
            "Using 4570 files for training.\n",
            "Using 1142 files for validation.\n",
            "Found 1311 files belonging to 4 classes.\n"
          ]
        }
      ],
      "source": [
        "train_ds, val_ds = image_dataset_from_directory(\n",
        "  train_data_dir,\n",
        "  labels = \"inferred\",\n",
        "  label_mode = \"categorical\",\n",
        "  seed=123,\n",
        "  image_size=(255, 255),\n",
        "  validation_split = 0.2,\n",
        "  subset=\"both\",\n",
        "  color_mode = 'rgb',\n",
        "  batch_size= batch_size)\n",
        "\n",
        "# We define a second one for the test data\n",
        "\n",
        "test_ds = image_dataset_from_directory(\n",
        "  test_data_dir,\n",
        "  labels = \"inferred\",\n",
        "  label_mode = \"categorical\",\n",
        "  seed=123,\n",
        "  image_size=(255, 255),\n",
        "  color_mode = 'rgb',\n",
        "  batch_size= batch_size)"
      ]
    },
    {
      "cell_type": "code",
      "execution_count": 7,
      "metadata": {
        "colab": {
          "base_uri": "https://localhost:8080/"
        },
        "id": "6uYgkacRaTmE",
        "outputId": "df8acc1f-94dc-4c50-c484-a84c2d160458"
      },
      "outputs": [
        {
          "output_type": "stream",
          "name": "stdout",
          "text": [
            "['glioma', 'meningioma', 'notumor', 'pituitary']\n"
          ]
        }
      ],
      "source": [
        "class_names = train_ds.class_names\n",
        "print(class_names)"
      ]
    },
    {
      "cell_type": "code",
      "execution_count": null,
      "metadata": {
        "id": "WBHCdBj0BCtN"
      },
      "outputs": [],
      "source": []
    },
    {
      "cell_type": "markdown",
      "metadata": {
        "id": "T9BVCUuRbk-J"
      },
      "source": [
        "### Model with Transfer Learning  - VGG16"
      ]
    },
    {
      "cell_type": "code",
      "execution_count": 8,
      "metadata": {
        "id": "gRXzOD-AbMCf",
        "colab": {
          "base_uri": "https://localhost:8080/"
        },
        "outputId": "370f5846-9108-47f5-f8de-ff8863a8fb0b"
      },
      "outputs": [
        {
          "output_type": "stream",
          "name": "stdout",
          "text": [
            "Downloading data from https://storage.googleapis.com/tensorflow/keras-applications/vgg16/vgg16_weights_tf_dim_ordering_tf_kernels_notop.h5\n",
            "58889256/58889256 [==============================] - 0s 0us/step\n"
          ]
        }
      ],
      "source": [
        "base_model = VGG16(weights = \"imagenet\", include_top = False, input_shape = (255, 255, 3))"
      ]
    },
    {
      "cell_type": "code",
      "execution_count": 9,
      "metadata": {
        "id": "haYhL1gbbrt3"
      },
      "outputs": [],
      "source": [
        "# First step is to initialize the VGG16 model but without the top as we'll adapt it to our problem\n",
        "\n",
        "\n",
        "inputs = layers.Input(shape = (255, 255, 3))\n",
        "\n",
        "#x = data_augmentation(inputs) # We still have our data augmentation layers\n",
        "x = preprocess_input(inputs) # Then a preprocessing layer specifically designed for the VGG16\n",
        "x = base_model(x) # Then our transfer learning model\n",
        "\n",
        "x = layers.Flatten()(x) # Followed by our custom dense layers, tailored to our binary task\n",
        "\n",
        "x = layers.Dense(128, activation = \"relu\")(x)\n",
        "x = layers.Dropout(0.3)(x)\n",
        "x = layers.Dense(64, activation = \"relu\")(x)\n",
        "x = layers.Dropout(0.3)(x)\n",
        "pred = layers.Dense(4, activation = \"softmax\")(x)\n",
        "\n",
        "# We use the keras Functional API to create our keras model\n",
        "\n",
        "model_1 = Model(inputs = inputs , outputs = pred)\n",
        "\n",
        "# And we freeze the VGG16 model\n",
        "\n",
        "base_model.trainable = False"
      ]
    },
    {
      "cell_type": "code",
      "execution_count": 10,
      "metadata": {
        "colab": {
          "base_uri": "https://localhost:8080/"
        },
        "id": "Akk6lyQWchRv",
        "outputId": "c60b4b11-8037-46a7-fd0f-624cb2edae88"
      },
      "outputs": [
        {
          "output_type": "stream",
          "name": "stdout",
          "text": [
            "Model: \"model\"\n",
            "_________________________________________________________________\n",
            " Layer (type)                Output Shape              Param #   \n",
            "=================================================================\n",
            " input_2 (InputLayer)        [(None, 255, 255, 3)]     0         \n",
            "                                                                 \n",
            " tf.__operators__.getitem (S  (None, 255, 255, 3)      0         \n",
            " licingOpLambda)                                                 \n",
            "                                                                 \n",
            " tf.nn.bias_add (TFOpLambda)  (None, 255, 255, 3)      0         \n",
            "                                                                 \n",
            " vgg16 (Functional)          (None, 7, 7, 512)         14714688  \n",
            "                                                                 \n",
            " flatten (Flatten)           (None, 25088)             0         \n",
            "                                                                 \n",
            " dense (Dense)               (None, 128)               3211392   \n",
            "                                                                 \n",
            " dropout (Dropout)           (None, 128)               0         \n",
            "                                                                 \n",
            " dense_1 (Dense)             (None, 64)                8256      \n",
            "                                                                 \n",
            " dropout_1 (Dropout)         (None, 64)                0         \n",
            "                                                                 \n",
            " dense_2 (Dense)             (None, 4)                 260       \n",
            "                                                                 \n",
            "=================================================================\n",
            "Total params: 17,934,596\n",
            "Trainable params: 3,219,908\n",
            "Non-trainable params: 14,714,688\n",
            "_________________________________________________________________\n"
          ]
        }
      ],
      "source": [
        "model_1.summary()"
      ]
    },
    {
      "cell_type": "code",
      "execution_count": 11,
      "metadata": {
        "id": "RAg3yuw_ciD6"
      },
      "outputs": [],
      "source": [
        "adam = optimizers.Adam(learning_rate = 0.001)\n",
        "model_1.compile(loss='categorical_crossentropy',\n",
        "              optimizer=adam,\n",
        "              metrics=['accuracy'])"
      ]
    },
    {
      "cell_type": "markdown",
      "metadata": {
        "id": "JS1fV2HXaeKi"
      },
      "source": [
        "Here we'll create our callbacks. Those functions will be called at the end of every single epoch. \n",
        "We'll use: \n",
        "\n",
        "\n",
        "*   `ModelCheckpoint` to save the best version of our model after every epoch \n",
        "*   `ReduceLROnPlateau` to reduce the `learning_rate` if the model doesn't get better after a few epochs\n",
        "*   `EarlyStopping` to stop the training after a certain time if it's not improving\n",
        "\n"
      ]
    },
    {
      "cell_type": "code",
      "execution_count": 12,
      "metadata": {
        "id": "aBryvJZJaczZ"
      },
      "outputs": [],
      "source": [
        "MODEL = \"model_1\"\n",
        "\n",
        "modelCheckpoint = callbacks.ModelCheckpoint(\"{}.h5\".format(MODEL), monitor=\"val_loss\", verbose=0, save_best_only=True)\n",
        "\n",
        "LRreducer = callbacks.ReduceLROnPlateau(monitor=\"val_loss\", factor = 0.1, patience=3, verbose=1, min_lr=0)\n",
        "\n",
        "EarlyStopper = callbacks.EarlyStopping(monitor='val_loss', patience=10, verbose=0, restore_best_weights=True)"
      ]
    },
    {
      "cell_type": "code",
      "execution_count": 13,
      "metadata": {
        "colab": {
          "base_uri": "https://localhost:8080/"
        },
        "id": "QMDPaihJbs0a",
        "outputId": "98004467-fa9b-4762-d86c-26dc60c5fd1e"
      },
      "outputs": [
        {
          "output_type": "stream",
          "name": "stdout",
          "text": [
            "Epoch 1/40\n",
            "72/72 [==============================] - 518s 6s/step - loss: 3.2316 - accuracy: 0.6287 - val_loss: 0.6228 - val_accuracy: 0.8599 - lr: 0.0010\n",
            "Epoch 2/40\n",
            "72/72 [==============================] - 36s 479ms/step - loss: 0.7530 - accuracy: 0.7810 - val_loss: 0.5274 - val_accuracy: 0.8967 - lr: 0.0010\n",
            "Epoch 3/40\n",
            "72/72 [==============================] - 32s 431ms/step - loss: 0.5965 - accuracy: 0.8162 - val_loss: 0.4181 - val_accuracy: 0.8993 - lr: 0.0010\n",
            "Epoch 4/40\n",
            "72/72 [==============================] - 33s 437ms/step - loss: 0.4426 - accuracy: 0.8593 - val_loss: 0.3761 - val_accuracy: 0.9089 - lr: 0.0010\n",
            "Epoch 5/40\n",
            "72/72 [==============================] - 33s 442ms/step - loss: 0.4855 - accuracy: 0.8418 - val_loss: 0.4509 - val_accuracy: 0.8905 - lr: 0.0010\n",
            "Epoch 6/40\n",
            "72/72 [==============================] - 37s 499ms/step - loss: 0.4145 - accuracy: 0.8613 - val_loss: 0.4329 - val_accuracy: 0.9054 - lr: 0.0010\n",
            "Epoch 7/40\n",
            "72/72 [==============================] - 34s 450ms/step - loss: 0.3741 - accuracy: 0.8755 - val_loss: 0.3079 - val_accuracy: 0.9264 - lr: 0.0010\n",
            "Epoch 8/40\n",
            "72/72 [==============================] - 33s 447ms/step - loss: 0.3202 - accuracy: 0.8950 - val_loss: 0.3445 - val_accuracy: 0.9124 - lr: 0.0010\n",
            "Epoch 9/40\n",
            "72/72 [==============================] - 33s 447ms/step - loss: 0.3204 - accuracy: 0.8961 - val_loss: 0.4342 - val_accuracy: 0.9168 - lr: 0.0010\n",
            "Epoch 10/40\n",
            "72/72 [==============================] - ETA: 0s - loss: 0.2901 - accuracy: 0.9020\n",
            "Epoch 10: ReduceLROnPlateau reducing learning rate to 0.00010000000474974513.\n",
            "72/72 [==============================] - 33s 448ms/step - loss: 0.2901 - accuracy: 0.9020 - val_loss: 0.3576 - val_accuracy: 0.9343 - lr: 0.0010\n",
            "Epoch 11/40\n",
            "72/72 [==============================] - 34s 454ms/step - loss: 0.2666 - accuracy: 0.9175 - val_loss: 0.3014 - val_accuracy: 0.9422 - lr: 1.0000e-04\n",
            "Epoch 12/40\n",
            "72/72 [==============================] - 34s 453ms/step - loss: 0.2096 - accuracy: 0.9328 - val_loss: 0.3259 - val_accuracy: 0.9457 - lr: 1.0000e-04\n",
            "Epoch 13/40\n",
            "72/72 [==============================] - 33s 447ms/step - loss: 0.2046 - accuracy: 0.9359 - val_loss: 0.3431 - val_accuracy: 0.9413 - lr: 1.0000e-04\n",
            "Epoch 14/40\n",
            "72/72 [==============================] - ETA: 0s - loss: 0.1920 - accuracy: 0.9389\n",
            "Epoch 14: ReduceLROnPlateau reducing learning rate to 1.0000000474974514e-05.\n",
            "72/72 [==============================] - 37s 497ms/step - loss: 0.1920 - accuracy: 0.9389 - val_loss: 0.3740 - val_accuracy: 0.9405 - lr: 1.0000e-04\n",
            "Epoch 15/40\n",
            "72/72 [==============================] - 33s 447ms/step - loss: 0.1788 - accuracy: 0.9460 - val_loss: 0.3779 - val_accuracy: 0.9396 - lr: 1.0000e-05\n",
            "Epoch 16/40\n",
            "72/72 [==============================] - 33s 449ms/step - loss: 0.1805 - accuracy: 0.9429 - val_loss: 0.3797 - val_accuracy: 0.9405 - lr: 1.0000e-05\n",
            "Epoch 17/40\n",
            "72/72 [==============================] - ETA: 0s - loss: 0.1754 - accuracy: 0.9453\n",
            "Epoch 17: ReduceLROnPlateau reducing learning rate to 1.0000000656873453e-06.\n",
            "72/72 [==============================] - 33s 447ms/step - loss: 0.1754 - accuracy: 0.9453 - val_loss: 0.3820 - val_accuracy: 0.9396 - lr: 1.0000e-05\n",
            "Epoch 18/40\n",
            "72/72 [==============================] - 33s 448ms/step - loss: 0.1745 - accuracy: 0.9457 - val_loss: 0.3826 - val_accuracy: 0.9396 - lr: 1.0000e-06\n",
            "Epoch 19/40\n",
            "72/72 [==============================] - 34s 449ms/step - loss: 0.1885 - accuracy: 0.9398 - val_loss: 0.3825 - val_accuracy: 0.9396 - lr: 1.0000e-06\n",
            "Epoch 20/40\n",
            "72/72 [==============================] - ETA: 0s - loss: 0.1720 - accuracy: 0.9470\n",
            "Epoch 20: ReduceLROnPlateau reducing learning rate to 1.0000001111620805e-07.\n",
            "72/72 [==============================] - 33s 449ms/step - loss: 0.1720 - accuracy: 0.9470 - val_loss: 0.3824 - val_accuracy: 0.9396 - lr: 1.0000e-06\n",
            "Epoch 21/40\n",
            "72/72 [==============================] - 38s 504ms/step - loss: 0.1811 - accuracy: 0.9422 - val_loss: 0.3824 - val_accuracy: 0.9396 - lr: 1.0000e-07\n"
          ]
        }
      ],
      "source": [
        "history_1 = model_1.fit(\n",
        "        train_ds,\n",
        "        epochs=40,\n",
        "        validation_data=val_ds,\n",
        "        callbacks = [modelCheckpoint, LRreducer, EarlyStopper])"
      ]
    },
    {
      "cell_type": "code",
      "execution_count": 14,
      "metadata": {
        "id": "ZXFb9tfabs8e"
      },
      "outputs": [],
      "source": [
        "def plot_history(history):\n",
        "    fig, ax = plt.subplots(1, 2, figsize=(15,5))\n",
        "    ax[0].set_title('loss')\n",
        "    ax[0].plot(history.epoch, history.history[\"loss\"], label=\"Train loss\")\n",
        "    ax[0].plot(history.epoch, history.history[\"val_loss\"], label=\"Validation loss\")\n",
        "    ax[1].set_title('accuracy')\n",
        "    ax[1].plot(history.epoch, history.history[\"accuracy\"], label=\"Train acc\")\n",
        "    ax[1].plot(history.epoch, history.history[\"val_accuracy\"], label=\"Validation acc\")\n",
        "    ax[0].legend()\n",
        "    ax[1].legend()"
      ]
    },
    {
      "cell_type": "code",
      "execution_count": 15,
      "metadata": {
        "colab": {
          "base_uri": "https://localhost:8080/",
          "height": 336
        },
        "id": "tcaNAvcSbs_d",
        "outputId": "d18cb9af-2685-40ce-d6ad-2521d90d6fba"
      },
      "outputs": [
        {
          "output_type": "display_data",
          "data": {
            "text/plain": [
              "<Figure size 1080x360 with 2 Axes>"
            ],
            "image/png": "[encoded data removed]"
          },
          "metadata": {
            "needs_background": "light"
          }
        }
      ],
      "source": [
        "plot_history(history_1)"
      ]
    },
    {
      "cell_type": "code",
      "execution_count": 16,
      "metadata": {
        "colab": {
          "base_uri": "https://localhost:8080/"
        },
        "id": "foWDrYeiujVi",
        "outputId": "907a1253-c12e-4715-a387-463ed26c2973"
      },
      "outputs": [
        {
          "output_type": "stream",
          "name": "stdout",
          "text": [
            "21/21 [==============================] - 118s 3s/step - loss: 0.3849 - accuracy: 0.9191\n"
          ]
        },
        {
          "output_type": "execute_result",
          "data": {
            "text/plain": [
              "[0.38487136363983154, 0.9191457033157349]"
            ]
          },
          "metadata": {},
          "execution_count": 16
        }
      ],
      "source": [
        "model_1.evaluate(test_ds)"
      ]
    },
    {
      "cell_type": "code",
      "source": [
        "import tensorflow as tf"
      ],
      "metadata": {
        "id": "viqUkFNzgceK"
      },
      "execution_count": 22,
      "outputs": []
    },
    {
      "cell_type": "code",
      "source": [
        "#Model save\n",
        "tf.keras.models.save_model(model_1, 'VGG16.h5')"
      ],
      "metadata": {
        "id": "7xQF-J81hZoa"
      },
      "execution_count": 26,
      "outputs": []
    },
    {
      "cell_type": "code",
      "execution_count": null,
      "metadata": {
        "id": "PjlpqyO4m0yT"
      },
      "outputs": [],
      "source": [
        "from PIL import Image\n",
        "import requests\n",
        "from io import BytesIO"
      ]
    },
    {
      "cell_type": "code",
      "execution_count": 27,
      "metadata": {
        "colab": {
          "base_uri": "https://localhost:8080/"
        },
        "id": "4nLgyns-ofyJ",
        "outputId": "8e74d19a-9710-4f0a-846b-50ba3ecb763f"
      },
      "outputs": [
        {
          "output_type": "stream",
          "name": "stdout",
          "text": [
            "Saved model location: /content\n"
          ]
        }
      ],
      "source": [
        "model_dir = os.path.dirname(os.path.abspath('my_model.h5'))\n",
        "print(\"Saved model location:\", model_dir)"
      ]
    },
    {
      "cell_type": "code",
      "source": [
        "#model_1.save(VGG16.h5)"
      ],
      "metadata": {
        "id": "bAvDn1SEiI4R"
      },
      "execution_count": null,
      "outputs": []
    }
  ],
  "metadata": {
    "accelerator": "GPU",
    "colab": {
      "provenance": []
    },
    "gpuClass": "standard",
    "kernelspec": {
      "display_name": "Python 3",
      "name": "python3"
    },
    "language_info": {
      "name": "python"
    }
  },
  "nbformat": 4,
  "nbformat_minor": 0
}