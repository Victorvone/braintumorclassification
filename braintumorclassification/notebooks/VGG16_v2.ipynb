{
  "cells": [
    {
      "cell_type": "code",
      "execution_count": null,
      "metadata": {
        "colab": {
          "base_uri": "https://localhost:8080/"
        },
        "id": "7gxJVRrDSJdz",
        "outputId": "5e57c71d-11fc-4b2e-e152-538d778fdfb0"
      },
      "outputs": [
        {
          "name": "stdout",
          "output_type": "stream",
          "text": [
            "/content\n"
          ]
        }
      ],
      "source": [
        "!pwd"
      ]
    },
    {
      "cell_type": "code",
      "execution_count": 2,
      "metadata": {
        "colab": {
          "base_uri": "https://localhost:8080/"
        },
        "id": "UzFh16W_Pg_2",
        "outputId": "8bdd8244-b114-4c31-a345-d31f2c6d4eb1"
      },
      "outputs": [
        {
          "name": "stdout",
          "output_type": "stream",
          "text": [
            "Mounted at /content/drive\n"
          ]
        }
      ],
      "source": [
        "from google.colab import drive\n",
        "drive.mount('/content/drive')\n"
      ]
    },
    {
      "cell_type": "code",
      "execution_count": 3,
      "metadata": {
        "id": "mgaMygntRdwG"
      },
      "outputs": [],
      "source": [
        "import os\n",
        "import numpy as np\n",
        "import pandas as pd\n",
        "from matplotlib.pyplot import imread\n",
        "import matplotlib.pyplot as plt\n",
        "import cv2\n",
        "from scipy import stats\n",
        "from tensorflow.keras.utils import to_categorical\n",
        "from tqdm import tqdm\n",
        "from PIL import Image\n",
        "import tensorflow as tf\n",
        "from tensorflow.keras.utils import image_dataset_from_directory\n",
        "from tensorflow.keras.models import Sequential, Model\n",
        "from tensorflow.keras import layers, optimizers, callbacks\n",
        "from tensorflow.keras.preprocessing.image import array_to_img, img_to_array, load_img\n",
        "from tensorflow.keras.applications.vgg16 import VGG16, preprocess_input\n",
        "from tensorflow.keras.models import Model\n",
        "from tensorflow.keras.models import load_model\n",
        "from PIL import Image\n",
        "import requests\n",
        "from io import BytesIO"
      ]
    },
    {
      "cell_type": "code",
      "execution_count": null,
      "metadata": {
        "id": "z-Bbnrylqlk9"
      },
      "outputs": [],
      "source": [
        "# os.chdir allows you to change directories, like cd in the Terminal\n",
        "os.chdir('/content/drive/MyDrive/Colab Notebooks/raw_data')"
      ]
    },
    {
      "cell_type": "code",
      "execution_count": 4,
      "metadata": {
        "id": "X1yMTY9DZZuF"
      },
      "outputs": [],
      "source": [
        "# Let's store the location of our data in 2 variables that we can re use later\n",
        "\n",
        "train_data_dir = '/content/drive/MyDrive/Colab Notebooks/raw_data/Training'\n",
        "test_data_dir = '/content/drive/MyDrive/Colab Notebooks/raw_data/Testing'"
      ]
    },
    {
      "cell_type": "code",
      "execution_count": 5,
      "metadata": {
        "id": "6IhUg1t9ZHWb"
      },
      "outputs": [],
      "source": [
        "batch_size = 64"
      ]
    },
    {
      "cell_type": "markdown",
      "metadata": {
        "id": "4oP1KfGca35r"
      },
      "source": [
        "Here, we'll create a `Tensorflow Datasets` object. \n",
        "This will allow us to: \n",
        "\n",
        "\n",
        "*   Grab images from our directory batch by batch, we won't load the FULL data at the same time\n",
        "*   Reshape all the images to our desired input shape, 255x255 in this recap"
      ]
    },
    {
      "cell_type": "markdown",
      "metadata": {
        "id": "7oSJvXlCa5Cl"
      },
      "source": [
        "We have to specify different things:\n",
        "\n",
        "\n",
        "*   Where the data is located (that's why we saved the folder name in a variable)\n",
        "*   The target size to resize our images so they fit our model\n",
        "*   The Batch size\n",
        "*   The \"label mode\", here we say categorical, and the classes will be infered based on the folders name.\n",
        "*   Here the labels are inferred based on the folder structure"
      ]
    },
    {
      "cell_type": "code",
      "execution_count": 6,
      "metadata": {
        "colab": {
          "base_uri": "https://localhost:8080/"
        },
        "id": "pa69Dm7XY2rR",
        "outputId": "1c069081-4bb8-4f9f-a0a6-ab8f9dfb8ec4"
      },
      "outputs": [
        {
          "name": "stdout",
          "output_type": "stream",
          "text": [
            "Found 5712 files belonging to 4 classes.\n",
            "Using 4570 files for training.\n",
            "Using 1142 files for validation.\n",
            "Found 1311 files belonging to 4 classes.\n"
          ]
        }
      ],
      "source": [
        "train_ds, val_ds = image_dataset_from_directory(\n",
        "  train_data_dir,\n",
        "  labels = \"inferred\",\n",
        "  label_mode = \"categorical\",\n",
        "  seed=123,\n",
        "  image_size=(255, 255),\n",
        "  validation_split = 0.2,\n",
        "  subset=\"both\",\n",
        "  color_mode = 'rgb',\n",
        "  batch_size= batch_size)\n",
        "\n",
        "# We define a second one for the test data\n",
        "\n",
        "test_ds = image_dataset_from_directory(\n",
        "  test_data_dir,\n",
        "  labels = \"inferred\",\n",
        "  label_mode = \"categorical\",\n",
        "  seed=123,\n",
        "  image_size=(255, 255),\n",
        "  color_mode = 'rgb',\n",
        "  batch_size= batch_size)"
      ]
    },
    {
      "cell_type": "code",
      "execution_count": 30,
      "metadata": {
        "colab": {
          "base_uri": "https://localhost:8080/"
        },
        "id": "6uYgkacRaTmE",
        "outputId": "8806a81d-e99b-4c0b-fd8d-7b70d3bba509"
      },
      "outputs": [
        {
          "name": "stdout",
          "output_type": "stream",
          "text": [
            "['glioma', 'meningioma', 'notumor', 'pituitary']\n"
          ]
        }
      ],
      "source": [
        "class_names = train_ds.class_names\n",
        "print(class_names)"
      ]
    },
    {
      "cell_type": "code",
      "execution_count": null,
      "metadata": {
        "id": "WBHCdBj0BCtN"
      },
      "outputs": [],
      "source": []
    },
    {
      "cell_type": "markdown",
      "metadata": {
        "id": "T9BVCUuRbk-J"
      },
      "source": [
        "### Model with Transfer Learning  - VGG16"
      ]
    },
    {
      "cell_type": "code",
      "execution_count": 7,
      "metadata": {
        "colab": {
          "base_uri": "https://localhost:8080/"
        },
        "id": "gRXzOD-AbMCf",
        "outputId": "6c2bbc3e-7486-4e93-84f7-a07a31e3eba7"
      },
      "outputs": [
        {
          "name": "stdout",
          "output_type": "stream",
          "text": [
            "Downloading data from https://storage.googleapis.com/tensorflow/keras-applications/vgg16/vgg16_weights_tf_dim_ordering_tf_kernels_notop.h5\n",
            "58889256/58889256 [==============================] - 0s 0us/step\n"
          ]
        }
      ],
      "source": [
        "base_model = VGG16(weights = \"imagenet\", include_top = False, input_shape = (255, 255, 3))"
      ]
    },
    {
      "cell_type": "code",
      "execution_count": 16,
      "metadata": {
        "id": "haYhL1gbbrt3"
      },
      "outputs": [],
      "source": [
        "# First step is to initialize the VGG16 model but without the top as we'll adapt it to our problem\n",
        "\n",
        "\n",
        "inputs = layers.Input(shape = (255, 255, 3))\n",
        "\n",
        "#x = data_augmentation(inputs) # We still have our data augmentation layers\n",
        "x = preprocess_input(inputs) # Then a preprocessing layer specifically designed for the VGG16\n",
        "x = base_model(x) # Then our transfer learning model\n",
        "\n",
        "conv2D = layers.Conv2D(16, (3, 3), activation = 'relu', padding = 'same')\n",
        "\n",
        "x = layers.Conv2D(16, (3, 3), activation = 'relu', padding = 'same')(x)\n",
        "x = layers.Flatten()(x) # Followed by our custom dense layers, tailored to our binary task\n",
        "\n",
        "\n",
        "x = layers.Dense(64, activation = \"relu\")(x)\n",
        "x = layers.Dropout(0.3)(x)\n",
        "#x = layers.Dense(64, activation = \"relu\")(x)\n",
        "#x = layers.Dropout(0.3)(x)\n",
        "pred = layers.Dense(4, activation = \"softmax\")(x)\n",
        "\n",
        "# We use the keras Functional API to create our keras model\n",
        "\n",
        "model_1 = Model(inputs = inputs , outputs = pred)\n",
        "\n",
        "# And we freeze the VGG16 model\n",
        "\n",
        "base_model.trainable = False"
      ]
    },
    {
      "cell_type": "code",
      "execution_count": 17,
      "metadata": {
        "colab": {
          "base_uri": "https://localhost:8080/"
        },
        "id": "Akk6lyQWchRv",
        "outputId": "f52a719d-3e10-4c8e-b31d-4f1f7a03e753"
      },
      "outputs": [
        {
          "name": "stdout",
          "output_type": "stream",
          "text": [
            "Model: \"model_3\"\n",
            "_________________________________________________________________\n",
            " Layer (type)                Output Shape              Param #   \n",
            "=================================================================\n",
            " input_5 (InputLayer)        [(None, 255, 255, 3)]     0         \n",
            "                                                                 \n",
            " tf.__operators__.getitem_3   (None, 255, 255, 3)      0         \n",
            " (SlicingOpLambda)                                               \n",
            "                                                                 \n",
            " tf.nn.bias_add_3 (TFOpLambd  (None, 255, 255, 3)      0         \n",
            " a)                                                              \n",
            "                                                                 \n",
            " vgg16 (Functional)          (None, 7, 7, 512)         14714688  \n",
            "                                                                 \n",
            " conv2d_4 (Conv2D)           (None, 7, 7, 16)          73744     \n",
            "                                                                 \n",
            " flatten_3 (Flatten)         (None, 784)               0         \n",
            "                                                                 \n",
            " dense_8 (Dense)             (None, 64)                50240     \n",
            "                                                                 \n",
            " dropout_5 (Dropout)         (None, 64)                0         \n",
            "                                                                 \n",
            " dense_9 (Dense)             (None, 4)                 260       \n",
            "                                                                 \n",
            "=================================================================\n",
            "Total params: 14,838,932\n",
            "Trainable params: 124,244\n",
            "Non-trainable params: 14,714,688\n",
            "_________________________________________________________________\n"
          ]
        }
      ],
      "source": [
        "model_1.summary()"
      ]
    },
    {
      "cell_type": "code",
      "execution_count": 18,
      "metadata": {
        "id": "RAg3yuw_ciD6"
      },
      "outputs": [],
      "source": [
        "adam = optimizers.Adam(learning_rate = 0.001)\n",
        "model_1.compile(loss='categorical_crossentropy',\n",
        "              optimizer=adam,\n",
        "              metrics=['accuracy'])"
      ]
    },
    {
      "cell_type": "markdown",
      "metadata": {
        "id": "JS1fV2HXaeKi"
      },
      "source": [
        "Here we'll create our callbacks. Those functions will be called at the end of every single epoch. \n",
        "We'll use: \n",
        "\n",
        "\n",
        "*   `ModelCheckpoint` to save the best version of our model after every epoch \n",
        "*   `ReduceLROnPlateau` to reduce the `learning_rate` if the model doesn't get better after a few epochs\n",
        "*   `EarlyStopping` to stop the training after a certain time if it's not improving\n",
        "\n"
      ]
    },
    {
      "cell_type": "code",
      "execution_count": 19,
      "metadata": {
        "id": "aBryvJZJaczZ"
      },
      "outputs": [],
      "source": [
        "MODEL = \"model_1\"\n",
        "\n",
        "modelCheckpoint = callbacks.ModelCheckpoint(\"{}.h5\".format(MODEL), monitor=\"val_loss\", verbose=0, save_best_only=True)\n",
        "\n",
        "LRreducer = callbacks.ReduceLROnPlateau(monitor=\"val_loss\", factor = 0.1, patience=3, verbose=1, min_lr=0)\n",
        "\n",
        "EarlyStopper = callbacks.EarlyStopping(monitor='val_loss', patience=10, verbose=0, restore_best_weights=True)"
      ]
    },
    {
      "cell_type": "code",
      "execution_count": 20,
      "metadata": {
        "colab": {
          "base_uri": "https://localhost:8080/"
        },
        "id": "QMDPaihJbs0a",
        "outputId": "2c90bdfa-f03b-44aa-dd91-5a2e40d8f754"
      },
      "outputs": [
        {
          "name": "stdout",
          "output_type": "stream",
          "text": [
            "Epoch 1/40\n",
            "72/72 [==============================] - 668s 8s/step - loss: 1.0871 - accuracy: 0.6996 - val_loss: 0.4013 - val_accuracy: 0.8599 - lr: 0.0010\n",
            "Epoch 2/40\n",
            "72/72 [==============================] - 31s 410ms/step - loss: 0.3292 - accuracy: 0.8810 - val_loss: 0.3290 - val_accuracy: 0.8923 - lr: 0.0010\n",
            "Epoch 3/40\n",
            "72/72 [==============================] - 33s 424ms/step - loss: 0.1848 - accuracy: 0.9350 - val_loss: 0.2996 - val_accuracy: 0.9011 - lr: 0.0010\n",
            "Epoch 4/40\n",
            "72/72 [==============================] - 32s 434ms/step - loss: 0.1185 - accuracy: 0.9582 - val_loss: 0.2936 - val_accuracy: 0.9151 - lr: 0.0010\n",
            "Epoch 5/40\n",
            "72/72 [==============================] - 37s 501ms/step - loss: 0.0839 - accuracy: 0.9691 - val_loss: 0.2802 - val_accuracy: 0.9142 - lr: 0.0010\n",
            "Epoch 6/40\n",
            "72/72 [==============================] - 33s 439ms/step - loss: 0.0590 - accuracy: 0.9786 - val_loss: 0.2962 - val_accuracy: 0.9151 - lr: 0.0010\n",
            "Epoch 7/40\n",
            "72/72 [==============================] - 37s 495ms/step - loss: 0.0470 - accuracy: 0.9829 - val_loss: 0.3389 - val_accuracy: 0.9186 - lr: 0.0010\n",
            "Epoch 8/40\n",
            "72/72 [==============================] - ETA: 0s - loss: 0.0464 - accuracy: 0.9821\n",
            "Epoch 8: ReduceLROnPlateau reducing learning rate to 0.00010000000474974513.\n",
            "72/72 [==============================] - 33s 440ms/step - loss: 0.0464 - accuracy: 0.9821 - val_loss: 0.3047 - val_accuracy: 0.9273 - lr: 0.0010\n",
            "Epoch 9/40\n",
            "72/72 [==============================] - 33s 441ms/step - loss: 0.0203 - accuracy: 0.9943 - val_loss: 0.3069 - val_accuracy: 0.9326 - lr: 1.0000e-04\n",
            "Epoch 10/40\n",
            "72/72 [==============================] - 33s 441ms/step - loss: 0.0121 - accuracy: 0.9965 - val_loss: 0.3117 - val_accuracy: 0.9291 - lr: 1.0000e-04\n",
            "Epoch 11/40\n",
            "72/72 [==============================] - ETA: 0s - loss: 0.0102 - accuracy: 0.9978\n",
            "Epoch 11: ReduceLROnPlateau reducing learning rate to 1.0000000474974514e-05.\n",
            "72/72 [==============================] - 33s 441ms/step - loss: 0.0102 - accuracy: 0.9978 - val_loss: 0.3150 - val_accuracy: 0.9317 - lr: 1.0000e-04\n",
            "Epoch 12/40\n",
            "72/72 [==============================] - 34s 442ms/step - loss: 0.0115 - accuracy: 0.9972 - val_loss: 0.3159 - val_accuracy: 0.9317 - lr: 1.0000e-05\n",
            "Epoch 13/40\n",
            "72/72 [==============================] - 34s 440ms/step - loss: 0.0096 - accuracy: 0.9969 - val_loss: 0.3165 - val_accuracy: 0.9299 - lr: 1.0000e-05\n",
            "Epoch 14/40\n",
            "72/72 [==============================] - ETA: 0s - loss: 0.0103 - accuracy: 0.9976\n",
            "Epoch 14: ReduceLROnPlateau reducing learning rate to 1.0000000656873453e-06.\n",
            "72/72 [==============================] - 34s 443ms/step - loss: 0.0103 - accuracy: 0.9976 - val_loss: 0.3172 - val_accuracy: 0.9308 - lr: 1.0000e-05\n",
            "Epoch 15/40\n",
            "72/72 [==============================] - 33s 440ms/step - loss: 0.0103 - accuracy: 0.9967 - val_loss: 0.3173 - val_accuracy: 0.9308 - lr: 1.0000e-06\n"
          ]
        }
      ],
      "source": [
        "history_1 = model_1.fit(\n",
        "        train_ds,\n",
        "        epochs=40,\n",
        "        validation_data=val_ds,\n",
        "        callbacks = [modelCheckpoint, LRreducer, EarlyStopper])"
      ]
    },
    {
      "cell_type": "code",
      "execution_count": 21,
      "metadata": {
        "id": "ZXFb9tfabs8e"
      },
      "outputs": [],
      "source": [
        "def plot_history(history):\n",
        "    fig, ax = plt.subplots(1, 2, figsize=(15,5))\n",
        "    ax[0].set_title('loss')\n",
        "    ax[0].plot(history.epoch, history.history[\"loss\"], label=\"Train loss\")\n",
        "    ax[0].plot(history.epoch, history.history[\"val_loss\"], label=\"Validation loss\")\n",
        "    ax[1].set_title('accuracy')\n",
        "    ax[1].plot(history.epoch, history.history[\"accuracy\"], label=\"Train acc\")\n",
        "    ax[1].plot(history.epoch, history.history[\"val_accuracy\"], label=\"Validation acc\")\n",
        "    ax[0].legend()\n",
        "    ax[1].legend()"
      ]
    },
    {
      "cell_type": "code",
      "execution_count": 22,
      "metadata": {
        "colab": {
          "base_uri": "https://localhost:8080/",
          "height": 336
        },
        "id": "tcaNAvcSbs_d",
        "outputId": "6a1b96c1-6b30-4e6f-ec7d-25ae068aefe4"
      },
      "outputs": [
        {
          "data": {
            "image/png": "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",
            "text/plain": [
              "<Figure size 1080x360 with 2 Axes>"
            "image/png": "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\n"
          },
          "metadata": {
            "needs_background": "light"
          },
          "output_type": "display_data"
        }
      ],
      "source": [
        "plot_history(history_1)"
      ]
    },
    {
      "cell_type": "code",
      "execution_count": 23,
      "metadata": {
        "colab": {
          "base_uri": "https://localhost:8080/"
        },
        "id": "foWDrYeiujVi",
        "outputId": "9b3fce87-2a68-4095-d212-0e2ac6e79cf2"
      },
      "outputs": [
        {
          "name": "stdout",
          "output_type": "stream",
          "text": [
            "21/21 [==============================] - 144s 4s/step - loss: 0.2406 - accuracy: 0.9275\n"
          ]
        },
        {
          "data": {
            "text/plain": [
              "[0.2406075894832611, 0.9275362491607666]"
            ]
          },
          "execution_count": 17,
          "metadata": {},
          "output_type": "execute_result"
          "execution_count": 16
        }
      ],
      "source": [
        "model_1.evaluate(test_ds)"
      ]
    },
    {
      "cell_type": "code",
      "execution_count": null,
      "metadata": {
        "id": "viqUkFNzgceK"
      },
      "outputs": [],
      "source": [
        "import tensorflow as tf"
      ]
    },
    {
      "cell_type": "code",
      "execution_count": 24,
      "metadata": {
        "id": "7xQF-J81hZoa"
      },
      "outputs": [],
      "source": [
        "#Model save\n",
        "tf.keras.models.save_model(model_1, 'VGG16v2.h5')"
      ]
    },
    {
      "cell_type": "code",
      "execution_count": null,
      "metadata": {
        "id": "PjlpqyO4m0yT"
      },
      "outputs": [],
      "source": [
        "from PIL import Image\n",
        "import requests\n",
        "from io import BytesIO"
      ]
    },
    {
      "cell_type": "code",
      "execution_count": 25,
      "metadata": {
        "colab": {
          "base_uri": "https://localhost:8080/"
        },
        "id": "4nLgyns-ofyJ",
        "outputId": "4b2e8276-93f2-48d3-a41a-35843db7dfdd"
      },
      "outputs": [
        {
          "output_type": "stream",
          "name": "stdout",
          "text": [
            "Saved model location: /content\n"
          ]
        }
      ],
      "source": [
        "model_dir = os.path.dirname(os.path.abspath('VGG16v2.h5'))\n",
        "print(\"Saved model location:\", model_dir)"
      ]
    },
    {
      "cell_type": "code",
      "execution_count": null,
      "metadata": {
        "id": "bAvDn1SEiI4R"
      },
      "outputs": [],
      "source": [
        "#model_1.save(VGG16.h5)"
      ]
    },
    {
      "cell_type": "code",
      "execution_count": 26,
      "metadata": {
        "colab": {
          "base_uri": "https://localhost:8080/"
        },
        "id": "dp3R-8NPhtSQ",
        "outputId": "6aa10945-fdff-4b83-c5c6-e6cf65ebb495"
      },
      "outputs": [
        {
          "output_type": "stream",
          "name": "stdout",
          "text": [
            "Model: \"model_3\"\n",
            "_________________________________________________________________\n",
            " Layer (type)                Output Shape              Param #   \n",
            "=================================================================\n",
            " input_5 (InputLayer)        [(None, 255, 255, 3)]     0         \n",
            "                                                                 \n",
            " tf.__operators__.getitem_3   (None, 255, 255, 3)      0         \n",
            " (SlicingOpLambda)                                               \n",
            "                                                                 \n",
            " tf.nn.bias_add_3 (TFOpLambd  (None, 255, 255, 3)      0         \n",
            " a)                                                              \n",
            "                                                                 \n",
            " vgg16 (Functional)          (None, 7, 7, 512)         14714688  \n",
            "                                                                 \n",
            " conv2d_4 (Conv2D)           (None, 7, 7, 16)          73744     \n",
            "                                                                 \n",
            " flatten_3 (Flatten)         (None, 784)               0         \n",
            "                                                                 \n",
            " dense_8 (Dense)             (None, 64)                50240     \n",
            "                                                                 \n",
            " dropout_5 (Dropout)         (None, 64)                0         \n",
            "                                                                 \n",
            " dense_9 (Dense)             (None, 4)                 260       \n",
            "                                                                 \n",
            "=================================================================\n",
            "Total params: 14,838,932\n",
            "Trainable params: 124,244\n",
            "Non-trainable params: 14,714,688\n",
            "_________________________________________________________________\n"
          ]
        }
      ],
      "source": [
        "VGG16v2 = load_model('/content/VGG16v2.h5')\n",
        "VGG16v2.summary()"
      ]
    },
    {
      "cell_type": "code",
      "execution_count": 27,
      "metadata": {
        "id": "TpheVvy8jMI3"
      },
      "outputs": [],
      "source": [
        "path= \"/content/drive/MyDrive/Colab Notebooks/raw_data/Testing/pituitary/Te-piTr_0009.jpg\"\n",
        "test_img = load_img(\n",
        "    path,\n",
        "    grayscale=False,\n",
        "    color_mode='rgb',\n",
        "    target_size=(255, 255),\n",
        "    interpolation='nearest',\n",
        "    keep_aspect_ratio=False\n",
        ")"
      ]
    },
    {
      "cell_type": "code",
      "execution_count": 28,
      "metadata": {
        "id": "tIf6pbm-jOpA"
      },
      "outputs": [],
      "source": [
        "test_img_ndarray = img_to_array(\n",
        "    test_img\n",
        ")"
      ]
    },
    {
      "cell_type": "code",
      "execution_count": 31,
      "metadata": {
        "colab": {
          "base_uri": "https://localhost:8080/"
        },
        "id": "Lb3mpxohjfLk",
        "outputId": "e3633287-17ef-4dba-b3fa-3be1146cf8d3"
      },
      "outputs": [
        {
          "output_type": "stream",
          "name": "stdout",
          "text": [
            "1/1 [==============================] - 0s 20ms/step\n",
            "glioma : 3.4%\n",
            "meningioma : 1.0%\n",
            "notumor : 0.1%\n",
            "pituitary : 95.5%\n"
          ]
        }
      ],
      "source": [
        "test_img_ndarray_exp = np.expand_dims(test_img_ndarray, axis=0)\n",
        "res = VGG16v2.predict(test_img_ndarray_exp)\n",
        "\n",
        "for i, j in enumerate(res[0]):\n",
        "  # print (i, j)\n",
        "  # print(class_names[0])\n",
        "  print (f\"{class_names[i]} : {'{:.1%}'.format(j)}\")"
      ]
    },
    {
      "cell_type": "code",
      "execution_count": 32,
      "metadata": {
        "colab": {
          "base_uri": "https://localhost:8080/"
        },
        "id": "3ylrJx10sVga",
        "outputId": "846d3018-0228-4065-d016-e399d851a5d2"
      },
      "outputs": [
        {
          "output_type": "execute_result",
          "data": {
            "text/plain": [
              "3"
            ]
          },
          "metadata": {},
          "execution_count": 32
        }
      ],
      "source": [
        "np.argmax(res) # return position of the highest probability"
      ]
    }
  ],
  "metadata": {
    "accelerator": "GPU",
    "colab": {
      "provenance": []
    },
    "gpuClass": "standard",
    "kernelspec": {
      "display_name": "braintumorclassification",
      "language": "python",
      "name": "python3"
    },
    "language_info": {
      "name": "python",
      "version": "3.10.6"
    },
    "vscode": {
      "interpreter": {
        "hash": "06a116bea194c38c3beee2e26e0ff47698ac712b531f8a3710340a8261e96cf5"
      }
    }
  },
  "nbformat": 4,
  "nbformat_minor": 0
}
