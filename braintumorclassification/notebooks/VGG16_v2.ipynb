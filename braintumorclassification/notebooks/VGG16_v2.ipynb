{
  "cells": [
    {
      "cell_type": "code",
      "execution_count": null,
      "metadata": {
        "colab": {
          "base_uri": "https://localhost:8080/"
        },
        "id": "7gxJVRrDSJdz",
        "outputId": "1e2846a7-d54a-4d3c-efbc-fd208de76d62"
      },
      "outputs": [
        {
          "name": "stdout",
          "output_type": "stream",
          "text": [
            "/content\n"
          ]
        }
      ],
      "source": [
        "!pwd"
      ]
    },
    {
      "cell_type": "code",
      "execution_count": 1,
      "metadata": {
        "colab": {
          "base_uri": "https://localhost:8080/"
        },
        "id": "UzFh16W_Pg_2",
        "outputId": "148f969f-dc95-4418-e594-de0745afd5b6"
      },
      "outputs": [
        {
          "name": "stdout",
          "output_type": "stream",
          "text": [
            "Mounted at /content/drive\n"
          ]
        }
      ],
      "source": [
        "from google.colab import drive\n",
        "drive.mount('/content/drive')\n"
      ]
    },
    {
      "cell_type": "code",
      "execution_count": 2,
      "metadata": {
        "id": "mgaMygntRdwG"
      },
      "outputs": [],
      "source": [
        "import os\n",
        "import numpy as np\n",
        "import pandas as pd\n",
        "from matplotlib.pyplot import imread\n",
        "import matplotlib.pyplot as plt\n",
        "import cv2\n",
        "from scipy import stats\n",
        "from tensorflow.keras.utils import to_categorical\n",
        "from tqdm import tqdm\n",
        "from PIL import Image\n",
        "import tensorflow as tf\n",
        "from tensorflow.keras.utils import image_dataset_from_directory\n",
        "from tensorflow.keras.models import Sequential, Model\n",
        "from tensorflow.keras import layers, optimizers, callbacks\n",
        "from tensorflow.keras.preprocessing.image import array_to_img, img_to_array, load_img\n",
        "from tensorflow.keras.applications.vgg16 import VGG16, preprocess_input\n",
        "from tensorflow.keras.models import Model"
      ]
    },
    {
      "cell_type": "code",
      "execution_count": 3,
      "metadata": {
        "id": "z-Bbnrylqlk9"
      },
      "outputs": [],
      "source": [
        "# os.chdir allows you to change directories, like cd in the Terminal\n",
        "os.chdir('/content/drive/MyDrive/Colab Notebooks/raw_data')"
      ]
    },
    {
      "cell_type": "code",
      "execution_count": 4,
      "metadata": {
        "id": "X1yMTY9DZZuF"
      },
      "outputs": [],
      "source": [
        "# Let's store the location of our data in 2 variables that we can re use later\n",
        "\n",
        "train_data_dir = '/content/drive/MyDrive/Colab Notebooks/raw_data/Training'\n",
        "test_data_dir = '/content/drive/MyDrive/Colab Notebooks/raw_data/Testing'"
      ]
    },
    {
      "cell_type": "code",
      "execution_count": 5,
      "metadata": {
        "id": "6IhUg1t9ZHWb"
      },
      "outputs": [],
      "source": [
        "batch_size = 64"
      ]
    },
    {
      "cell_type": "markdown",
      "metadata": {
        "id": "4oP1KfGca35r"
      },
      "source": [
        "Here, we'll create a `Tensorflow Datasets` object. \n",
        "This will allow us to: \n",
        "\n",
        "\n",
        "*   Grab images from our directory batch by batch, we won't load the FULL data at the same time\n",
        "*   Reshape all the images to our desired input shape, 255x255 in this recap"
      ]
    },
    {
      "cell_type": "markdown",
      "metadata": {
        "id": "7oSJvXlCa5Cl"
      },
      "source": [
        "We have to specify different things:\n",
        "\n",
        "\n",
        "*   Where the data is located (that's why we saved the folder name in a variable)\n",
        "*   The target size to resize our images so they fit our model\n",
        "*   The Batch size\n",
        "*   The \"label mode\", here we say categorical, and the classes will be infered based on the folders name.\n",
        "*   Here the labels are inferred based on the folder structure"
      ]
    },
    {
      "cell_type": "code",
      "execution_count": 6,
      "metadata": {
        "colab": {
          "base_uri": "https://localhost:8080/"
        },
        "id": "pa69Dm7XY2rR",
        "outputId": "8e6f9053-c8a7-4b12-c0c4-c681c377c0f2"
      },
      "outputs": [
        {
          "name": "stdout",
          "output_type": "stream",
          "text": [
            "Found 5712 files belonging to 4 classes.\n",
            "Using 4570 files for training.\n",
            "Using 1142 files for validation.\n",
            "Found 1311 files belonging to 4 classes.\n"
          ]
        }
      ],
      "source": [
        "train_ds, val_ds = image_dataset_from_directory(\n",
        "  train_data_dir,\n",
        "  labels = \"inferred\",\n",
        "  label_mode = \"categorical\",\n",
        "  seed=123,\n",
        "  image_size=(255, 255),\n",
        "  validation_split = 0.2,\n",
        "  subset=\"both\",\n",
        "  color_mode = 'rgb',\n",
        "  batch_size= batch_size)\n",
        "\n",
        "# We define a second one for the test data\n",
        "\n",
        "test_ds = image_dataset_from_directory(\n",
        "  test_data_dir,\n",
        "  labels = \"inferred\",\n",
        "  label_mode = \"categorical\",\n",
        "  seed=123,\n",
        "  image_size=(255, 255),\n",
        "  color_mode = 'rgb',\n",
        "  batch_size= batch_size)"
      ]
    },
    {
      "cell_type": "code",
      "execution_count": 7,
      "metadata": {
        "colab": {
          "base_uri": "https://localhost:8080/"
        },
        "id": "6uYgkacRaTmE",
        "outputId": "3a2d52d0-baf7-4e3c-91ab-e1e33fb77a5b"
      },
      "outputs": [
        {
          "name": "stdout",
          "output_type": "stream",
          "text": [
            "['glioma', 'meningioma', 'notumor', 'pituitary']\n"
          ]
        }
      ],
      "source": [
        "class_names = train_ds.class_names\n",
        "print(class_names)"
      ]
    },
    {
      "cell_type": "code",
      "execution_count": null,
      "metadata": {
        "id": "WBHCdBj0BCtN"
      },
      "outputs": [],
      "source": []
    },
    {
      "cell_type": "markdown",
      "metadata": {
        "id": "T9BVCUuRbk-J"
      },
      "source": [
        "### Model with Transfer Learning  - VGG16"
      ]
    },
    {
      "cell_type": "code",
      "execution_count": 8,
      "metadata": {
        "colab": {
          "base_uri": "https://localhost:8080/"
        },
        "id": "gRXzOD-AbMCf",
        "outputId": "6c2bbc3e-7486-4e93-84f7-a07a31e3eba7"
      },
      "outputs": [
        {
          "name": "stdout",
          "output_type": "stream",
          "text": [
            "Downloading data from https://storage.googleapis.com/tensorflow/keras-applications/vgg16/vgg16_weights_tf_dim_ordering_tf_kernels_notop.h5\n",
            "58889256/58889256 [==============================] - 2s 0us/step\n"
          ]
        }
      ],
      "source": [
        "base_model = VGG16(weights = \"imagenet\", include_top = False, input_shape = (255, 255, 3))"
      ]
    },
    {
      "cell_type": "code",
      "execution_count": 9,
      "metadata": {
        "id": "haYhL1gbbrt3"
      },
      "outputs": [],
      "source": [
        "# First step is to initialize the VGG16 model but without the top as we'll adapt it to our problem\n",
        "\n",
        "\n",
        "inputs = layers.Input(shape = (255, 255, 3))\n",
        "\n",
        "#x = data_augmentation(inputs) # We still have our data augmentation layers\n",
        "x = preprocess_input(inputs) # Then a preprocessing layer specifically designed for the VGG16\n",
        "x = base_model(x) # Then our transfer learning model\n",
        "\n",
        "x = layers.Flatten()(x) # Followed by our custom dense layers, tailored to our binary task\n",
        "\n",
        "x = layers.Dense(128, activation = \"relu\")(x)\n",
        "x = layers.Dropout(0.3)(x)\n",
        "x = layers.Dense(64, activation = \"relu\")(x)\n",
        "x = layers.Dropout(0.3)(x)\n",
        "pred = layers.Dense(4, activation = \"softmax\")(x)\n",
        "\n",
        "# We use the keras Functional API to create our keras model\n",
        "\n",
        "model_1 = Model(inputs = inputs , outputs = pred)\n",
        "\n",
        "# And we freeze the VGG16 model\n",
        "\n",
        "base_model.trainable = False"
      ]
    },
    {
      "cell_type": "code",
      "execution_count": 10,
      "metadata": {
        "colab": {
          "base_uri": "https://localhost:8080/"
        },
        "id": "Akk6lyQWchRv",
        "outputId": "71674abc-d6ce-4c91-ec32-8d26b489b855"
      },
      "outputs": [
        {
          "name": "stdout",
          "output_type": "stream",
          "text": [
            "Model: \"model\"\n",
            "_________________________________________________________________\n",
            " Layer (type)                Output Shape              Param #   \n",
            "=================================================================\n",
            " input_2 (InputLayer)        [(None, 255, 255, 3)]     0         \n",
            "                                                                 \n",
            " tf.__operators__.getitem (S  (None, 255, 255, 3)      0         \n",
            " licingOpLambda)                                                 \n",
            "                                                                 \n",
            " tf.nn.bias_add (TFOpLambda)  (None, 255, 255, 3)      0         \n",
            "                                                                 \n",
            " vgg16 (Functional)          (None, 7, 7, 512)         14714688  \n",
            "                                                                 \n",
            " flatten (Flatten)           (None, 25088)             0         \n",
            "                                                                 \n",
            " dense (Dense)               (None, 128)               3211392   \n",
            "                                                                 \n",
            " dropout (Dropout)           (None, 128)               0         \n",
            "                                                                 \n",
            " dense_1 (Dense)             (None, 64)                8256      \n",
            "                                                                 \n",
            " dropout_1 (Dropout)         (None, 64)                0         \n",
            "                                                                 \n",
            " dense_2 (Dense)             (None, 4)                 260       \n",
            "                                                                 \n",
            "=================================================================\n",
            "Total params: 17,934,596\n",
            "Trainable params: 3,219,908\n",
            "Non-trainable params: 14,714,688\n",
            "_________________________________________________________________\n"
          ]
        }
      ],
      "source": [
        "model_1.summary()"
      ]
    },
    {
      "cell_type": "code",
      "execution_count": 11,
      "metadata": {
        "id": "RAg3yuw_ciD6"
      },
      "outputs": [],
      "source": [
        "adam = optimizers.Adam(learning_rate = 0.001)\n",
        "model_1.compile(loss='categorical_crossentropy',\n",
        "              optimizer=adam,\n",
        "              metrics=['accuracy'])"
      ]
    },
    {
      "cell_type": "markdown",
      "metadata": {
        "id": "JS1fV2HXaeKi"
      },
      "source": [
        "Here we'll create our callbacks. Those functions will be called at the end of every single epoch. \n",
        "We'll use: \n",
        "\n",
        "\n",
        "*   `ModelCheckpoint` to save the best version of our model after every epoch \n",
        "*   `ReduceLROnPlateau` to reduce the `learning_rate` if the model doesn't get better after a few epochs\n",
        "*   `EarlyStopping` to stop the training after a certain time if it's not improving\n",
        "\n"
      ]
    },
    {
      "cell_type": "code",
      "execution_count": 13,
      "metadata": {
        "id": "aBryvJZJaczZ"
      },
      "outputs": [],
      "source": [
        "MODEL = \"model_1\"\n",
        "\n",
        "modelCheckpoint = callbacks.ModelCheckpoint(\"{}.h5\".format(MODEL), monitor=\"val_loss\", verbose=0, save_best_only=True)\n",
        "\n",
        "LRreducer = callbacks.ReduceLROnPlateau(monitor=\"val_loss\", factor = 0.1, patience=3, verbose=1, min_lr=0)\n",
        "\n",
        "EarlyStopper = callbacks.EarlyStopping(monitor='val_loss', patience=10, verbose=0, restore_best_weights=True)"
      ]
    },
    {
      "cell_type": "code",
      "execution_count": 14,
      "metadata": {
        "colab": {
          "base_uri": "https://localhost:8080/"
        },
        "id": "QMDPaihJbs0a",
        "outputId": "41d4e72e-a0c4-41b1-b120-0cd31f446d85"
      },
      "outputs": [
        {
          "name": "stdout",
          "output_type": "stream",
          "text": [
            "Epoch 1/40\n",
            "72/72 [==============================] - 1087s 13s/step - loss: 3.4520 - accuracy: 0.7085 - val_loss: 0.6766 - val_accuracy: 0.8275 - lr: 0.0010\n",
            "Epoch 2/40\n",
            "72/72 [==============================] - 36s 478ms/step - loss: 0.7468 - accuracy: 0.7840 - val_loss: 0.5113 - val_accuracy: 0.8800 - lr: 0.0010\n",
            "Epoch 3/40\n",
            "72/72 [==============================] - 35s 466ms/step - loss: 0.5580 - accuracy: 0.8284 - val_loss: 0.4491 - val_accuracy: 0.9054 - lr: 0.0010\n",
            "Epoch 4/40\n",
            "72/72 [==============================] - 35s 469ms/step - loss: 0.4507 - accuracy: 0.8659 - val_loss: 0.3323 - val_accuracy: 0.9098 - lr: 0.0010\n",
            "Epoch 5/40\n",
            "72/72 [==============================] - 34s 453ms/step - loss: 0.4225 - accuracy: 0.8705 - val_loss: 0.3405 - val_accuracy: 0.9186 - lr: 0.0010\n",
            "Epoch 6/40\n",
            "72/72 [==============================] - 34s 463ms/step - loss: 0.3483 - accuracy: 0.8875 - val_loss: 0.2952 - val_accuracy: 0.9133 - lr: 0.0010\n",
            "Epoch 7/40\n",
            "72/72 [==============================] - 37s 503ms/step - loss: 0.2997 - accuracy: 0.9042 - val_loss: 0.3639 - val_accuracy: 0.9159 - lr: 0.0010\n",
            "Epoch 8/40\n",
            "72/72 [==============================] - 33s 449ms/step - loss: 0.3384 - accuracy: 0.8945 - val_loss: 0.3472 - val_accuracy: 0.9221 - lr: 0.0010\n",
            "Epoch 9/40\n",
            "72/72 [==============================] - ETA: 0s - loss: 0.2509 - accuracy: 0.9197\n",
            "Epoch 9: ReduceLROnPlateau reducing learning rate to 0.00010000000474974513.\n",
            "72/72 [==============================] - 34s 449ms/step - loss: 0.2509 - accuracy: 0.9197 - val_loss: 0.3080 - val_accuracy: 0.9405 - lr: 0.0010\n",
            "Epoch 10/40\n",
            "72/72 [==============================] - 37s 504ms/step - loss: 0.2079 - accuracy: 0.9269 - val_loss: 0.3036 - val_accuracy: 0.9448 - lr: 1.0000e-04\n",
            "Epoch 11/40\n",
            "72/72 [==============================] - 34s 451ms/step - loss: 0.2169 - accuracy: 0.9313 - val_loss: 0.3160 - val_accuracy: 0.9466 - lr: 1.0000e-04\n",
            "Epoch 12/40\n",
            "72/72 [==============================] - ETA: 0s - loss: 0.1967 - accuracy: 0.9381\n",
            "Epoch 12: ReduceLROnPlateau reducing learning rate to 1.0000000474974514e-05.\n",
            "72/72 [==============================] - 34s 452ms/step - loss: 0.1967 - accuracy: 0.9381 - val_loss: 0.3407 - val_accuracy: 0.9475 - lr: 1.0000e-04\n",
            "Epoch 13/40\n",
            "72/72 [==============================] - 33s 447ms/step - loss: 0.1662 - accuracy: 0.9451 - val_loss: 0.3399 - val_accuracy: 0.9475 - lr: 1.0000e-05\n",
            "Epoch 14/40\n",
            "72/72 [==============================] - 34s 453ms/step - loss: 0.1599 - accuracy: 0.9457 - val_loss: 0.3401 - val_accuracy: 0.9466 - lr: 1.0000e-05\n",
            "Epoch 15/40\n",
            "72/72 [==============================] - ETA: 0s - loss: 0.1589 - accuracy: 0.9418\n",
            "Epoch 15: ReduceLROnPlateau reducing learning rate to 1.0000000656873453e-06.\n",
            "72/72 [==============================] - 34s 451ms/step - loss: 0.1589 - accuracy: 0.9418 - val_loss: 0.3409 - val_accuracy: 0.9466 - lr: 1.0000e-05\n",
            "Epoch 16/40\n",
            "72/72 [==============================] - 33s 448ms/step - loss: 0.1593 - accuracy: 0.9411 - val_loss: 0.3409 - val_accuracy: 0.9466 - lr: 1.0000e-06\n"
          ]
        }
      ],
      "source": [
        "history_1 = model_1.fit(\n",
        "        train_ds,\n",
        "        epochs=40,\n",
        "        validation_data=val_ds,\n",
        "        callbacks = [modelCheckpoint, LRreducer, EarlyStopper])"
      ]
    },
    {
      "cell_type": "code",
      "execution_count": 15,
      "metadata": {
        "id": "ZXFb9tfabs8e"
      },
      "outputs": [],
      "source": [
        "def plot_history(history):\n",
        "    fig, ax = plt.subplots(1, 2, figsize=(15,5))\n",
        "    ax[0].set_title('loss')\n",
        "    ax[0].plot(history.epoch, history.history[\"loss\"], label=\"Train loss\")\n",
        "    ax[0].plot(history.epoch, history.history[\"val_loss\"], label=\"Validation loss\")\n",
        "    ax[1].set_title('accuracy')\n",
        "    ax[1].plot(history.epoch, history.history[\"accuracy\"], label=\"Train acc\")\n",
        "    ax[1].plot(history.epoch, history.history[\"val_accuracy\"], label=\"Validation acc\")\n",
        "    ax[0].legend()\n",
        "    ax[1].legend()"
      ]
    },
    {
      "cell_type": "code",
      "execution_count": 16,
      "metadata": {
        "colab": {
          "base_uri": "https://localhost:8080/",
          "height": 336
        },
        "id": "tcaNAvcSbs_d",
        "outputId": "1996c4e4-6b0e-4aee-8e3f-97e83d1c8628"
      },
      "outputs": [
        {
          "data": {
            "image/png": "[encoded data removed]",
            "text/plain": [
              "<Figure size 1080x360 with 2 Axes>"
            ]
          },
          "metadata": {
            "needs_background": "light"
          },
          "output_type": "display_data"
        }
      ],
      "source": [
        "plot_history(history_1)"
      ]
    },
    {
      "cell_type": "code",
      "execution_count": 17,
      "metadata": {
        "colab": {
          "base_uri": "https://localhost:8080/"
        },
        "id": "foWDrYeiujVi",
        "outputId": "f2bf7f94-5132-4bd0-edd9-e569266b6a75"
      },
      "outputs": [
        {
          "name": "stdout",
          "output_type": "stream",
          "text": [
            "21/21 [==============================] - 296s 8s/step - loss: 0.3650 - accuracy: 0.9008\n"
          ]
        },
        {
          "data": {
            "text/plain": [
              "[0.36499351263046265, 0.9008390307426453]"
            ]
          },
          "execution_count": 17,
          "metadata": {},
          "output_type": "execute_result"
        }
      ],
      "source": [
        "model_1.evaluate(test_ds)"
      ]
    },
    {
      "cell_type": "code",
      "execution_count": null,
      "metadata": {
        "id": "PjlpqyO4m0yT"
      },
      "outputs": [],
      "source": [
        "from PIL import Image\n",
        "import requests\n",
        "from io import BytesIO"
      ]
    },
    {
      "cell_type": "code",
      "execution_count": null,
      "metadata": {
        "colab": {
          "base_uri": "https://localhost:8080/"
        },
        "id": "4nLgyns-ofyJ",
        "outputId": "b2f7cd84-cbce-42dd-d977-b12c670fcb0c"
      },
      "outputs": [
        {
          "data": {
            "text/plain": [
              "<BatchDataset element_spec=(TensorSpec(shape=(None, 255, 255, 3), dtype=tf.float32, name=None), TensorSpec(shape=(None, 4), dtype=tf.float32, name=None))>"
            ]
          },
          "execution_count": 28,
          "metadata": {},
          "output_type": "execute_result"
        }
      ],
      "source": [
        "train_ds"
      ]
    }
  ],
  "metadata": {
    "accelerator": "GPU",
    "colab": {
      "provenance": []
    },
    "gpuClass": "standard",
    "kernelspec": {
      "display_name": "braintumorclassification",
      "language": "python",
      "name": "python3"
    },
    "language_info": {
      "name": "python",
      "version": "3.10.6"
    },
    "vscode": {
      "interpreter": {
        "hash": "06a116bea194c38c3beee2e26e0ff47698ac712b531f8a3710340a8261e96cf5"
      }
    }
  },
  "nbformat": 4,
  "nbformat_minor": 0
}
