{
  "nbformat": 4,
  "nbformat_minor": 0,
  "metadata": {
    "colab": {
      "provenance": [],
      "toc_visible": true
    },
    "kernelspec": {
      "name": "python3",
      "display_name": "Python 3"
    },
    "language_info": {
      "name": "python"
    },
    "accelerator": "GPU",
    "gpuClass": "standard"
  },
  "cells": [
    {
      "cell_type": "code",
      "source": [
        "!pwd"
      ],
      "metadata": {
        "colab": {
          "base_uri": "https://localhost:8080/"
        },
        "id": "7gxJVRrDSJdz",
        "outputId": "1e2846a7-d54a-4d3c-efbc-fd208de76d62"
      },
      "execution_count": null,
      "outputs": [
        {
          "output_type": "stream",
          "name": "stdout",
          "text": [
            "/content\n"
          ]
        }
      ]
    },
    {
      "cell_type": "code",
      "execution_count": null,
      "metadata": {
        "id": "UzFh16W_Pg_2",
        "colab": {
          "base_uri": "https://localhost:8080/"
        },
        "outputId": "894de6bd-e9d3-4fe6-c8df-7917b3d238a3"
      },
      "outputs": [
        {
          "output_type": "stream",
          "name": "stdout",
          "text": [
            "Mounted at /content/drive\n"
          ]
        }
      ],
      "source": [
        "from google.colab import drive\n",
        "drive.mount('/content/drive')\n"
      ]
    },
    {
      "cell_type": "code",
      "source": [
        "import os\n",
        "import numpy as np\n",
        "import pandas as pd\n",
        "from matplotlib.pyplot import imread\n",
        "import matplotlib.pyplot as plt\n",
        "import cv2\n",
        "from scipy import stats\n",
        "from tensorflow.keras.utils import to_categorical\n",
        "from tqdm import tqdm\n",
        "from PIL import Image\n",
        "import tensorflow as tf\n",
        "from tensorflow.keras.utils import image_dataset_from_directory\n",
        "from tensorflow.keras.models import Sequential, Model\n",
        "from tensorflow.keras import layers, optimizers, callbacks\n",
        "from tensorflow.keras.preprocessing.image import array_to_img, img_to_array, load_img\n",
        "from tensorflow.keras.applications.vgg16 import VGG16, preprocess_input\n",
        "from tensorflow.keras.models import Model"
      ],
      "metadata": {
        "id": "mgaMygntRdwG"
      },
      "execution_count": null,
      "outputs": []
    },
    {
      "cell_type": "code",
      "source": [
        "# os.chdir allows you to change directories, like cd in the Terminal\n",
        "os.chdir('/content/drive/MyDrive/Colab Notebooks/raw_data')"
      ],
      "metadata": {
        "id": "z-Bbnrylqlk9"
      },
      "execution_count": null,
      "outputs": []
    },
    {
      "cell_type": "code",
      "source": [
        "# Let's store the location of our data in 2 variables that we can re use later\n",
        "\n",
        "train_data_dir = '/content/drive/MyDrive/Colab Notebooks/raw_data/Training'\n",
        "test_data_dir = '/content/drive/MyDrive/Colab Notebooks/raw_data/Testing'"
      ],
      "metadata": {
        "id": "X1yMTY9DZZuF"
      },
      "execution_count": null,
      "outputs": []
    },
    {
      "cell_type": "code",
      "source": [
        "batch_size = 64"
      ],
      "metadata": {
        "id": "6IhUg1t9ZHWb"
      },
      "execution_count": null,
      "outputs": []
    },
    {
      "cell_type": "markdown",
      "source": [
        "Here, we'll create a `Tensorflow Datasets` object. \n",
        "This will allow us to: \n",
        "\n",
        "\n",
        "*   Grab images from our directory batch by batch, we won't load the FULL data at the same time\n",
        "*   Reshape all the images to our desired input shape, 255x255 in this recap"
      ],
      "metadata": {
        "id": "4oP1KfGca35r"
      }
    },
    {
      "cell_type": "markdown",
      "source": [
        "We have to specify different things:\n",
        "\n",
        "\n",
        "*   Where the data is located (that's why we saved the folder name in a variable)\n",
        "*   The target size to resize our images so they fit our model\n",
        "*   The Batch size\n",
        "*   The \"label mode\", here we say categorical, and the classes will be infered based on the folders name.\n",
        "*   Here the labels are inferred based on the folder structure"
      ],
      "metadata": {
        "id": "7oSJvXlCa5Cl"
      }
    },
    {
      "cell_type": "code",
      "source": [
        "train_ds = image_dataset_from_directory(\n",
        "  train_data_dir,\n",
        "  labels = \"inferred\",\n",
        "  label_mode = \"categorical\",\n",
        "  seed=123,\n",
        "  image_size=(255, 255),\n",
        "  color_mode = 'rgb',\n",
        "  batch_size= batch_size)\n",
        "\n",
        "# We define a second one for the test data\n",
        "\n",
        "val_ds = image_dataset_from_directory(\n",
        "  test_data_dir,\n",
        "  labels = \"inferred\",\n",
        "  label_mode = \"categorical\",\n",
        "  seed=123,\n",
        "  image_size=(255, 255),\n",
        "  color_mode = 'rgb',\n",
        "  batch_size= batch_size)"
      ],
      "metadata": {
        "colab": {
          "base_uri": "https://localhost:8080/"
        },
        "id": "pa69Dm7XY2rR",
        "outputId": "beca0e4d-6392-4c85-fefe-12ef560a7e52"
      },
      "execution_count": null,
      "outputs": [
        {
          "output_type": "stream",
          "name": "stdout",
          "text": [
            "Found 5712 files belonging to 4 classes.\n",
            "Found 1311 files belonging to 4 classes.\n"
          ]
        }
      ]
    },
    {
      "cell_type": "code",
      "source": [
        "class_names = train_ds.class_names\n",
        "print(class_names)"
      ],
      "metadata": {
        "colab": {
          "base_uri": "https://localhost:8080/"
        },
        "id": "6uYgkacRaTmE",
        "outputId": "96841cbf-e19a-4752-c186-f33f2454e13b"
      },
      "execution_count": null,
      "outputs": [
        {
          "output_type": "stream",
          "name": "stdout",
          "text": [
            "['glioma', 'meningioma', 'notumor', 'pituitary']\n"
          ]
        }
      ]
    },
    {
      "cell_type": "markdown",
      "source": [
        "### Model with Transfer Learning  - VGG16"
      ],
      "metadata": {
        "id": "T9BVCUuRbk-J"
      }
    },
    {
      "cell_type": "code",
      "source": [
        "base_model = VGG16(weights = \"imagenet\", include_top = False, input_shape = (255, 255, 3))"
      ],
      "metadata": {
        "colab": {
          "base_uri": "https://localhost:8080/"
        },
        "id": "gRXzOD-AbMCf",
        "outputId": "168f9c25-13f6-4862-cf10-38e714c09cc4"
      },
      "execution_count": null,
      "outputs": [
        {
          "output_type": "stream",
          "name": "stdout",
          "text": [
            "Downloading data from https://storage.googleapis.com/tensorflow/keras-applications/vgg16/vgg16_weights_tf_dim_ordering_tf_kernels_notop.h5\n",
            "58889256/58889256 [==============================] - 0s 0us/step\n"
          ]
        }
      ]
    },
    {
      "cell_type": "code",
      "source": [
        "# First step is to initialize the VGG16 model but without the top as we'll adapt it to our problem\n",
        "\n",
        "\n",
        "inputs = layers.Input(shape = (255, 255, 3))\n",
        "\n",
        "#x = data_augmentation(inputs) # We still have our data augmentation layers\n",
        "x = preprocess_input(inputs) # Then a preprocessing layer specifically designed for the VGG16\n",
        "x = base_model(x) # Then our transfer learning model\n",
        "\n",
        "x = layers.Flatten()(x) # Followed by our custom dense layers, tailored to our binary task\n",
        "\n",
        "x = layers.Dense(128, activation = \"relu\")(x)\n",
        "x = layers.Dropout(0.3)(x)\n",
        "x = layers.Dense(64, activation = \"relu\")(x)\n",
        "x = layers.Dropout(0.3)(x)\n",
        "pred = layers.Dense(4, activation = \"sigmoid\")(x)\n",
        "\n",
        "# We use the keras Functional API to create our keras model\n",
        "\n",
        "model_1 = Model(inputs = inputs , outputs = pred)\n",
        "\n",
        "# And we freeze the VGG16 model\n",
        "\n",
        "base_model.trainable = False"
      ],
      "metadata": {
        "id": "haYhL1gbbrt3"
      },
      "execution_count": null,
      "outputs": []
    },
    {
      "cell_type": "code",
      "source": [
        "model_1.summary()"
      ],
      "metadata": {
        "colab": {
          "base_uri": "https://localhost:8080/"
        },
        "id": "Akk6lyQWchRv",
        "outputId": "0c9a4b69-d53a-460f-8938-aa977ff62d76"
      },
      "execution_count": null,
      "outputs": [
        {
          "output_type": "stream",
          "name": "stdout",
          "text": [
            "Model: \"model\"\n",
            "_________________________________________________________________\n",
            " Layer (type)                Output Shape              Param #   \n",
            "=================================================================\n",
            " input_2 (InputLayer)        [(None, 255, 255, 3)]     0         \n",
            "                                                                 \n",
            " tf.__operators__.getitem (S  (None, 255, 255, 3)      0         \n",
            " licingOpLambda)                                                 \n",
            "                                                                 \n",
            " tf.nn.bias_add (TFOpLambda)  (None, 255, 255, 3)      0         \n",
            "                                                                 \n",
            " vgg16 (Functional)          (None, 7, 7, 512)         14714688  \n",
            "                                                                 \n",
            " flatten (Flatten)           (None, 25088)             0         \n",
            "                                                                 \n",
            " dense (Dense)               (None, 128)               3211392   \n",
            "                                                                 \n",
            " dropout (Dropout)           (None, 128)               0         \n",
            "                                                                 \n",
            " dense_1 (Dense)             (None, 64)                8256      \n",
            "                                                                 \n",
            " dropout_1 (Dropout)         (None, 64)                0         \n",
            "                                                                 \n",
            " dense_2 (Dense)             (None, 4)                 260       \n",
            "                                                                 \n",
            "=================================================================\n",
            "Total params: 17,934,596\n",
            "Trainable params: 3,219,908\n",
            "Non-trainable params: 14,714,688\n",
            "_________________________________________________________________\n"
          ]
        }
      ]
    },
    {
      "cell_type": "code",
      "source": [
        "adam = optimizers.Adam(learning_rate = 0.001)\n",
        "model_1.compile(loss='categorical_crossentropy',\n",
        "              optimizer=adam,\n",
        "              metrics=['accuracy'])"
      ],
      "metadata": {
        "id": "RAg3yuw_ciD6"
      },
      "execution_count": null,
      "outputs": []
    },
    {
      "cell_type": "markdown",
      "source": [
        "Here we'll create our callbacks. Those functions will be called at the end of every single epoch. \n",
        "We'll use: \n",
        "\n",
        "\n",
        "*   `ModelCheckpoint` to save the best version of our model after every epoch \n",
        "*   `ReduceLROnPlateau` to reduce the `learning_rate` if the model doesn't get better after a few epochs\n",
        "*   `EarlyStopping` to stop the training after a certain time if it's not improving\n",
        "\n"
      ],
      "metadata": {
        "id": "JS1fV2HXaeKi"
      }
    },
    {
      "cell_type": "code",
      "source": [
        "MODEL = \"model_1\"\n",
        "\n",
        "modelCheckpoint = callbacks.ModelCheckpoint(\"{}.h5\".format(MODEL), monitor=\"val_loss\", verbose=0, save_best_only=True)\n",
        "\n",
        "LRreducer = callbacks.ReduceLROnPlateau(monitor=\"val_loss\", factor = 0.1, patience=3, verbose=1, min_lr=0)\n",
        "\n",
        "EarlyStopper = callbacks.EarlyStopping(monitor='val_loss', patience=10, verbose=0, restore_best_weights=True)"
      ],
      "metadata": {
        "id": "aBryvJZJaczZ"
      },
      "execution_count": null,
      "outputs": []
    },
    {
      "cell_type": "code",
      "source": [
        "history_1 = model_1.fit(\n",
        "        train_ds,\n",
        "        epochs=40,\n",
        "        validation_data=val_ds,\n",
        "        callbacks = [modelCheckpoint, LRreducer, EarlyStopper])"
      ],
      "metadata": {
        "colab": {
          "base_uri": "https://localhost:8080/"
        },
        "id": "QMDPaihJbs0a",
        "outputId": "e26ff6ed-f6be-4c10-c5f4-e7208a02cb2d"
      },
      "execution_count": null,
      "outputs": [
        {
          "output_type": "stream",
          "name": "stdout",
          "text": [
            "Epoch 1/40\n",
            "90/90 [==============================] - 684s 7s/step - loss: 2.9599 - accuracy: 0.6921 - val_loss: 0.6316 - val_accuracy: 0.8009 - lr: 0.0010\n",
            "Epoch 2/40\n",
            "90/90 [==============================] - 43s 463ms/step - loss: 0.6984 - accuracy: 0.8022 - val_loss: 0.6004 - val_accuracy: 0.8696 - lr: 0.0010\n",
            "Epoch 3/40\n",
            "90/90 [==============================] - 42s 457ms/step - loss: 0.5290 - accuracy: 0.8403 - val_loss: 0.4246 - val_accuracy: 0.8772 - lr: 0.0010\n",
            "Epoch 4/40\n",
            "90/90 [==============================] - 44s 480ms/step - loss: 0.4883 - accuracy: 0.8505 - val_loss: 0.4000 - val_accuracy: 0.8833 - lr: 0.0010\n",
            "Epoch 5/40\n",
            "90/90 [==============================] - 41s 441ms/step - loss: 0.4641 - accuracy: 0.8482 - val_loss: 0.4257 - val_accuracy: 0.8772 - lr: 0.0010\n",
            "Epoch 6/40\n",
            "90/90 [==============================] - 42s 454ms/step - loss: 0.4069 - accuracy: 0.8680 - val_loss: 0.3705 - val_accuracy: 0.9031 - lr: 0.0010\n",
            "Epoch 7/40\n",
            "90/90 [==============================] - 43s 455ms/step - loss: 0.3866 - accuracy: 0.8736 - val_loss: 0.3538 - val_accuracy: 0.9062 - lr: 0.0010\n",
            "Epoch 8/40\n",
            "90/90 [==============================] - 41s 445ms/step - loss: 0.3438 - accuracy: 0.8829 - val_loss: 0.3982 - val_accuracy: 0.9085 - lr: 0.0010\n",
            "Epoch 9/40\n",
            "90/90 [==============================] - 42s 453ms/step - loss: 0.3165 - accuracy: 0.8934 - val_loss: 0.3085 - val_accuracy: 0.9184 - lr: 0.0010\n",
            "Epoch 10/40\n",
            "90/90 [==============================] - 41s 440ms/step - loss: 0.3082 - accuracy: 0.9049 - val_loss: 0.3363 - val_accuracy: 0.9161 - lr: 0.0010\n",
            "Epoch 11/40\n",
            "90/90 [==============================] - 41s 440ms/step - loss: 0.2569 - accuracy: 0.9188 - val_loss: 0.3260 - val_accuracy: 0.9130 - lr: 0.0010\n",
            "Epoch 12/40\n",
            "90/90 [==============================] - ETA: 0s - loss: 0.2839 - accuracy: 0.9105\n",
            "Epoch 12: ReduceLROnPlateau reducing learning rate to 0.00010000000474974513.\n",
            "90/90 [==============================] - 41s 440ms/step - loss: 0.2839 - accuracy: 0.9105 - val_loss: 0.4383 - val_accuracy: 0.8902 - lr: 0.0010\n",
            "Epoch 13/40\n",
            "90/90 [==============================] - 42s 456ms/step - loss: 0.2329 - accuracy: 0.9184 - val_loss: 0.3020 - val_accuracy: 0.9283 - lr: 1.0000e-04\n",
            "Epoch 14/40\n",
            "90/90 [==============================] - 42s 460ms/step - loss: 0.1923 - accuracy: 0.9359 - val_loss: 0.2830 - val_accuracy: 0.9329 - lr: 1.0000e-04\n",
            "Epoch 15/40\n",
            "90/90 [==============================] - 41s 442ms/step - loss: 0.1702 - accuracy: 0.9421 - val_loss: 0.3012 - val_accuracy: 0.9382 - lr: 1.0000e-04\n",
            "Epoch 16/40\n",
            "90/90 [==============================] - 41s 439ms/step - loss: 0.1633 - accuracy: 0.9443 - val_loss: 0.2961 - val_accuracy: 0.9428 - lr: 1.0000e-04\n",
            "Epoch 17/40\n",
            "90/90 [==============================] - ETA: 0s - loss: 0.1797 - accuracy: 0.9436\n",
            "Epoch 17: ReduceLROnPlateau reducing learning rate to 1.0000000474974514e-05.\n",
            "90/90 [==============================] - 41s 440ms/step - loss: 0.1797 - accuracy: 0.9436 - val_loss: 0.2867 - val_accuracy: 0.9451 - lr: 1.0000e-04\n",
            "Epoch 18/40\n",
            "90/90 [==============================] - 41s 441ms/step - loss: 0.1608 - accuracy: 0.9456 - val_loss: 0.2911 - val_accuracy: 0.9466 - lr: 1.0000e-05\n",
            "Epoch 19/40\n",
            "90/90 [==============================] - 41s 441ms/step - loss: 0.1494 - accuracy: 0.9508 - val_loss: 0.2949 - val_accuracy: 0.9466 - lr: 1.0000e-05\n",
            "Epoch 20/40\n",
            "90/90 [==============================] - ETA: 0s - loss: 0.1593 - accuracy: 0.9450\n",
            "Epoch 20: ReduceLROnPlateau reducing learning rate to 1.0000000656873453e-06.\n",
            "90/90 [==============================] - 41s 442ms/step - loss: 0.1593 - accuracy: 0.9450 - val_loss: 0.2930 - val_accuracy: 0.9443 - lr: 1.0000e-05\n",
            "Epoch 21/40\n",
            "90/90 [==============================] - 41s 440ms/step - loss: 0.1487 - accuracy: 0.9513 - val_loss: 0.2933 - val_accuracy: 0.9443 - lr: 1.0000e-06\n",
            "Epoch 22/40\n",
            "90/90 [==============================] - 41s 442ms/step - loss: 0.1524 - accuracy: 0.9501 - val_loss: 0.2936 - val_accuracy: 0.9443 - lr: 1.0000e-06\n",
            "Epoch 23/40\n",
            "90/90 [==============================] - ETA: 0s - loss: 0.1590 - accuracy: 0.9487\n",
            "Epoch 23: ReduceLROnPlateau reducing learning rate to 1.0000001111620805e-07.\n",
            "90/90 [==============================] - 41s 443ms/step - loss: 0.1590 - accuracy: 0.9487 - val_loss: 0.2941 - val_accuracy: 0.9443 - lr: 1.0000e-06\n",
            "Epoch 24/40\n",
            "90/90 [==============================] - 41s 442ms/step - loss: 0.1500 - accuracy: 0.9508 - val_loss: 0.2941 - val_accuracy: 0.9443 - lr: 1.0000e-07\n"
          ]
        }
      ]
    },
    {
      "cell_type": "code",
      "source": [
        "def plot_history(history):\n",
        "    fig, ax = plt.subplots(1, 2, figsize=(15,5))\n",
        "    ax[0].set_title('loss')\n",
        "    ax[0].plot(history.epoch, history.history[\"loss\"], label=\"Train loss\")\n",
        "    ax[0].plot(history.epoch, history.history[\"val_loss\"], label=\"Validation loss\")\n",
        "    ax[1].set_title('accuracy')\n",
        "    ax[1].plot(history.epoch, history.history[\"accuracy\"], label=\"Train acc\")\n",
        "    ax[1].plot(history.epoch, history.history[\"val_accuracy\"], label=\"Validation acc\")\n",
        "    ax[0].legend()\n",
        "    ax[1].legend()"
      ],
      "metadata": {
        "id": "ZXFb9tfabs8e"
      },
      "execution_count": null,
      "outputs": []
    },
    {
      "cell_type": "code",
      "source": [
        "plot_history(history_1)"
      ],
      "metadata": {
        "colab": {
          "base_uri": "https://localhost:8080/",
          "height": 336
        },
        "id": "tcaNAvcSbs_d",
        "outputId": "464f9e1d-853c-48bd-81db-7a5ff8cfabe8"
      },
      "execution_count": null,
      "outputs": [
        {
          "output_type": "display_data",
          "data": {
            "text/plain": [
              "<Figure size 1080x360 with 2 Axes>"
            ],
            "image/png": "[encoded data removed]"
          },
          "metadata": {
            "needs_background": "light"
          }
        }
      ]
    },
    {
      "cell_type": "code",
      "source": [
        "from PIL import Image\n",
        "import requests\n",
        "from io import BytesIO"
      ],
      "metadata": {
        "id": "PjlpqyO4m0yT"
      },
      "execution_count": null,
      "outputs": []
    },
    {
      "cell_type": "code",
      "source": [
        "train_ds"
      ],
      "metadata": {
        "colab": {
          "base_uri": "https://localhost:8080/"
        },
        "id": "4nLgyns-ofyJ",
        "outputId": "b2f7cd84-cbce-42dd-d977-b12c670fcb0c"
      },
      "execution_count": null,
      "outputs": [
        {
          "output_type": "execute_result",
          "data": {
            "text/plain": [
              "<BatchDataset element_spec=(TensorSpec(shape=(None, 255, 255, 3), dtype=tf.float32, name=None), TensorSpec(shape=(None, 4), dtype=tf.float32, name=None))>"
            ]
          },
          "metadata": {},
          "execution_count": 28
        }
      ]
    }
  ]
}